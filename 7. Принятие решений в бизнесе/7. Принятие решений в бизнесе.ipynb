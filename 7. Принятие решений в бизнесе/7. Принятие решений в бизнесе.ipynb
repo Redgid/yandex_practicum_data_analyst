{
 "cells": [
  {
   "cell_type": "markdown",
   "metadata": {},
   "source": [
    "# Анализ А/В теста. Сравнение гипотез  "
   ]
  },
  {
   "cell_type": "markdown",
   "metadata": {},
   "source": [
    "Мы — аналитики крупного интернет-магазина. Вместе с отделом маркетинга мы подготовили список гипотез для увеличения выручки.\n",
    "Необходимо приоритизировать гипотезы, запустить A/B-тест и проанализировать результаты."
   ]
  },
  {
   "cell_type": "markdown",
   "metadata": {},
   "source": [
    "## Предварительный осмотр данных "
   ]
  },
  {
   "cell_type": "code",
   "execution_count": 1,
   "metadata": {},
   "outputs": [],
   "source": [
    "#импортируем необходимые библиотеки \n",
    "import pandas as pd\n",
    "import matplotlib.pyplot as plt\n",
    "import seaborn as sns\n",
    "from scipy import stats as st\n",
    "import math\n",
    "import numpy as np"
   ]
  },
  {
   "cell_type": "markdown",
   "metadata": {},
   "source": [
    "**Описание данных**"
   ]
  },
  {
   "cell_type": "markdown",
   "metadata": {},
   "source": [
    "Файл /datasets/hypothesis.csv:\n",
    "- `Hypothesis` — краткое описание гипотезы;\n",
    "- `Reach` — охват пользователей по 10-балльной шкале;\n",
    "- `Impact` — влияние на пользователей по 10-балльной шкале;\n",
    "- `Confidence` — уверенность в гипотезе по 10-балльной шкале;\n",
    "- `Efforts` — затраты ресурсов на проверку гипотезы по 10-балльной шкале. Чем больше значение Efforts, тем дороже проверка гипотезы."
   ]
  },
  {
   "cell_type": "markdown",
   "metadata": {},
   "source": [
    "Файл /datasets/orders.csv:\n",
    "- `transactionId` — идентификатор заказа;\n",
    "- `visitorId` — идентификатор пользователя, совершившего заказ;\n",
    "- `date` — дата, когда был совершён заказ;\n",
    "- `revenue` — выручка заказа;\n",
    "- `group` — группа A/B-теста, в которую попал заказ."
   ]
  },
  {
   "cell_type": "markdown",
   "metadata": {},
   "source": [
    "Файл /datasets/visitors.csv:\n",
    "- `date` — дата;\n",
    "- `group` — группа A/B-теста;\n",
    "- `visitors` — количество пользователей в указанную дату в указанной группе A/B-теста"
   ]
  },
  {
   "cell_type": "code",
   "execution_count": 2,
   "metadata": {},
   "outputs": [],
   "source": [
    "#загрузим данные \n",
    "hypothesis = pd.read_csv('/datasets/hypothesis.csv')\n",
    "orders = pd.read_csv('/datasets/orders.csv')\n",
    "visitors = pd.read_csv('/datasets/visitors.csv')"
   ]
  },
  {
   "cell_type": "code",
   "execution_count": 3,
   "metadata": {},
   "outputs": [
    {
     "name": "stdout",
     "output_type": "stream",
     "text": [
      "<class 'pandas.core.frame.DataFrame'>\n",
      "RangeIndex: 9 entries, 0 to 8\n",
      "Data columns (total 5 columns):\n",
      " #   Column      Non-Null Count  Dtype \n",
      "---  ------      --------------  ----- \n",
      " 0   Hypothesis  9 non-null      object\n",
      " 1   Reach       9 non-null      int64 \n",
      " 2   Impact      9 non-null      int64 \n",
      " 3   Confidence  9 non-null      int64 \n",
      " 4   Efforts     9 non-null      int64 \n",
      "dtypes: int64(4), object(1)\n",
      "memory usage: 488.0+ bytes\n"
     ]
    },
    {
     "data": {
      "text/html": [
       "<div>\n",
       "<style scoped>\n",
       "    .dataframe tbody tr th:only-of-type {\n",
       "        vertical-align: middle;\n",
       "    }\n",
       "\n",
       "    .dataframe tbody tr th {\n",
       "        vertical-align: top;\n",
       "    }\n",
       "\n",
       "    .dataframe thead th {\n",
       "        text-align: right;\n",
       "    }\n",
       "</style>\n",
       "<table border=\"1\" class=\"dataframe\">\n",
       "  <thead>\n",
       "    <tr style=\"text-align: right;\">\n",
       "      <th></th>\n",
       "      <th>Hypothesis</th>\n",
       "      <th>Reach</th>\n",
       "      <th>Impact</th>\n",
       "      <th>Confidence</th>\n",
       "      <th>Efforts</th>\n",
       "    </tr>\n",
       "  </thead>\n",
       "  <tbody>\n",
       "    <tr>\n",
       "      <th>0</th>\n",
       "      <td>Добавить два новых канала привлечения трафика,...</td>\n",
       "      <td>3</td>\n",
       "      <td>10</td>\n",
       "      <td>8</td>\n",
       "      <td>6</td>\n",
       "    </tr>\n",
       "    <tr>\n",
       "      <th>1</th>\n",
       "      <td>Запустить собственную службу доставки, что сок...</td>\n",
       "      <td>2</td>\n",
       "      <td>5</td>\n",
       "      <td>4</td>\n",
       "      <td>10</td>\n",
       "    </tr>\n",
       "    <tr>\n",
       "      <th>2</th>\n",
       "      <td>Добавить блоки рекомендаций товаров на сайт ин...</td>\n",
       "      <td>8</td>\n",
       "      <td>3</td>\n",
       "      <td>7</td>\n",
       "      <td>3</td>\n",
       "    </tr>\n",
       "    <tr>\n",
       "      <th>3</th>\n",
       "      <td>Изменить структура категорий, что увеличит кон...</td>\n",
       "      <td>8</td>\n",
       "      <td>3</td>\n",
       "      <td>3</td>\n",
       "      <td>8</td>\n",
       "    </tr>\n",
       "    <tr>\n",
       "      <th>4</th>\n",
       "      <td>Изменить цвет фона главной страницы, чтобы уве...</td>\n",
       "      <td>3</td>\n",
       "      <td>1</td>\n",
       "      <td>1</td>\n",
       "      <td>1</td>\n",
       "    </tr>\n",
       "    <tr>\n",
       "      <th>5</th>\n",
       "      <td>Добавить страницу отзывов клиентов о магазине,...</td>\n",
       "      <td>3</td>\n",
       "      <td>2</td>\n",
       "      <td>2</td>\n",
       "      <td>3</td>\n",
       "    </tr>\n",
       "    <tr>\n",
       "      <th>6</th>\n",
       "      <td>Показать на главной странице баннеры с актуаль...</td>\n",
       "      <td>5</td>\n",
       "      <td>3</td>\n",
       "      <td>8</td>\n",
       "      <td>3</td>\n",
       "    </tr>\n",
       "    <tr>\n",
       "      <th>7</th>\n",
       "      <td>Добавить форму подписки на все основные страни...</td>\n",
       "      <td>10</td>\n",
       "      <td>7</td>\n",
       "      <td>8</td>\n",
       "      <td>5</td>\n",
       "    </tr>\n",
       "    <tr>\n",
       "      <th>8</th>\n",
       "      <td>Запустить акцию, дающую скидку на товар в день...</td>\n",
       "      <td>1</td>\n",
       "      <td>9</td>\n",
       "      <td>9</td>\n",
       "      <td>5</td>\n",
       "    </tr>\n",
       "  </tbody>\n",
       "</table>\n",
       "</div>"
      ],
      "text/plain": [
       "                                          Hypothesis  Reach  Impact  \\\n",
       "0  Добавить два новых канала привлечения трафика,...      3      10   \n",
       "1  Запустить собственную службу доставки, что сок...      2       5   \n",
       "2  Добавить блоки рекомендаций товаров на сайт ин...      8       3   \n",
       "3  Изменить структура категорий, что увеличит кон...      8       3   \n",
       "4  Изменить цвет фона главной страницы, чтобы уве...      3       1   \n",
       "5  Добавить страницу отзывов клиентов о магазине,...      3       2   \n",
       "6  Показать на главной странице баннеры с актуаль...      5       3   \n",
       "7  Добавить форму подписки на все основные страни...     10       7   \n",
       "8  Запустить акцию, дающую скидку на товар в день...      1       9   \n",
       "\n",
       "   Confidence  Efforts  \n",
       "0           8        6  \n",
       "1           4       10  \n",
       "2           7        3  \n",
       "3           3        8  \n",
       "4           1        1  \n",
       "5           2        3  \n",
       "6           8        3  \n",
       "7           8        5  \n",
       "8           9        5  "
      ]
     },
     "metadata": {},
     "output_type": "display_data"
    },
    {
     "data": {
      "text/plain": [
       "None"
      ]
     },
     "metadata": {},
     "output_type": "display_data"
    }
   ],
   "source": [
    "display(hypothesis,hypothesis.info())"
   ]
  },
  {
   "cell_type": "markdown",
   "metadata": {},
   "source": [
    "Выводы:\n",
    "- 9 различных гипотез. У каждой по 4ём критериям оценки от 1 до 10. Здесь всё хорошо \n",
    "- некорректные названия столбцов (заглавные буквы)\n",
    "- пропусков нет, дубликатов нет, типы данных корректны "
   ]
  },
  {
   "cell_type": "code",
   "execution_count": 4,
   "metadata": {},
   "outputs": [
    {
     "name": "stdout",
     "output_type": "stream",
     "text": [
      "<class 'pandas.core.frame.DataFrame'>\n",
      "RangeIndex: 1197 entries, 0 to 1196\n",
      "Data columns (total 5 columns):\n",
      " #   Column         Non-Null Count  Dtype \n",
      "---  ------         --------------  ----- \n",
      " 0   transactionId  1197 non-null   int64 \n",
      " 1   visitorId      1197 non-null   int64 \n",
      " 2   date           1197 non-null   object\n",
      " 3   revenue        1197 non-null   int64 \n",
      " 4   group          1197 non-null   object\n",
      "dtypes: int64(3), object(2)\n",
      "memory usage: 46.9+ KB\n"
     ]
    },
    {
     "data": {
      "text/html": [
       "<div>\n",
       "<style scoped>\n",
       "    .dataframe tbody tr th:only-of-type {\n",
       "        vertical-align: middle;\n",
       "    }\n",
       "\n",
       "    .dataframe tbody tr th {\n",
       "        vertical-align: top;\n",
       "    }\n",
       "\n",
       "    .dataframe thead th {\n",
       "        text-align: right;\n",
       "    }\n",
       "</style>\n",
       "<table border=\"1\" class=\"dataframe\">\n",
       "  <thead>\n",
       "    <tr style=\"text-align: right;\">\n",
       "      <th></th>\n",
       "      <th>transactionId</th>\n",
       "      <th>visitorId</th>\n",
       "      <th>date</th>\n",
       "      <th>revenue</th>\n",
       "      <th>group</th>\n",
       "    </tr>\n",
       "  </thead>\n",
       "  <tbody>\n",
       "    <tr>\n",
       "      <th>0</th>\n",
       "      <td>3667963787</td>\n",
       "      <td>3312258926</td>\n",
       "      <td>2019-08-15</td>\n",
       "      <td>1650</td>\n",
       "      <td>B</td>\n",
       "    </tr>\n",
       "    <tr>\n",
       "      <th>1</th>\n",
       "      <td>2804400009</td>\n",
       "      <td>3642806036</td>\n",
       "      <td>2019-08-15</td>\n",
       "      <td>730</td>\n",
       "      <td>B</td>\n",
       "    </tr>\n",
       "    <tr>\n",
       "      <th>2</th>\n",
       "      <td>2961555356</td>\n",
       "      <td>4069496402</td>\n",
       "      <td>2019-08-15</td>\n",
       "      <td>400</td>\n",
       "      <td>A</td>\n",
       "    </tr>\n",
       "    <tr>\n",
       "      <th>3</th>\n",
       "      <td>3797467345</td>\n",
       "      <td>1196621759</td>\n",
       "      <td>2019-08-15</td>\n",
       "      <td>9759</td>\n",
       "      <td>B</td>\n",
       "    </tr>\n",
       "    <tr>\n",
       "      <th>4</th>\n",
       "      <td>2282983706</td>\n",
       "      <td>2322279887</td>\n",
       "      <td>2019-08-15</td>\n",
       "      <td>2308</td>\n",
       "      <td>B</td>\n",
       "    </tr>\n",
       "    <tr>\n",
       "      <th>...</th>\n",
       "      <td>...</td>\n",
       "      <td>...</td>\n",
       "      <td>...</td>\n",
       "      <td>...</td>\n",
       "      <td>...</td>\n",
       "    </tr>\n",
       "    <tr>\n",
       "      <th>1192</th>\n",
       "      <td>2662137336</td>\n",
       "      <td>3733762160</td>\n",
       "      <td>2019-08-14</td>\n",
       "      <td>6490</td>\n",
       "      <td>B</td>\n",
       "    </tr>\n",
       "    <tr>\n",
       "      <th>1193</th>\n",
       "      <td>2203539145</td>\n",
       "      <td>370388673</td>\n",
       "      <td>2019-08-14</td>\n",
       "      <td>3190</td>\n",
       "      <td>A</td>\n",
       "    </tr>\n",
       "    <tr>\n",
       "      <th>1194</th>\n",
       "      <td>1807773912</td>\n",
       "      <td>573423106</td>\n",
       "      <td>2019-08-14</td>\n",
       "      <td>10550</td>\n",
       "      <td>A</td>\n",
       "    </tr>\n",
       "    <tr>\n",
       "      <th>1195</th>\n",
       "      <td>1947021204</td>\n",
       "      <td>1614305549</td>\n",
       "      <td>2019-08-14</td>\n",
       "      <td>100</td>\n",
       "      <td>A</td>\n",
       "    </tr>\n",
       "    <tr>\n",
       "      <th>1196</th>\n",
       "      <td>3936777065</td>\n",
       "      <td>2108080724</td>\n",
       "      <td>2019-08-15</td>\n",
       "      <td>202740</td>\n",
       "      <td>B</td>\n",
       "    </tr>\n",
       "  </tbody>\n",
       "</table>\n",
       "<p>1197 rows × 5 columns</p>\n",
       "</div>"
      ],
      "text/plain": [
       "      transactionId   visitorId        date  revenue group\n",
       "0        3667963787  3312258926  2019-08-15     1650     B\n",
       "1        2804400009  3642806036  2019-08-15      730     B\n",
       "2        2961555356  4069496402  2019-08-15      400     A\n",
       "3        3797467345  1196621759  2019-08-15     9759     B\n",
       "4        2282983706  2322279887  2019-08-15     2308     B\n",
       "...             ...         ...         ...      ...   ...\n",
       "1192     2662137336  3733762160  2019-08-14     6490     B\n",
       "1193     2203539145   370388673  2019-08-14     3190     A\n",
       "1194     1807773912   573423106  2019-08-14    10550     A\n",
       "1195     1947021204  1614305549  2019-08-14      100     A\n",
       "1196     3936777065  2108080724  2019-08-15   202740     B\n",
       "\n",
       "[1197 rows x 5 columns]"
      ]
     },
     "metadata": {},
     "output_type": "display_data"
    },
    {
     "data": {
      "text/plain": [
       "None"
      ]
     },
     "metadata": {},
     "output_type": "display_data"
    }
   ],
   "source": [
    "display(orders,orders.info())"
   ]
  },
  {
   "cell_type": "markdown",
   "metadata": {},
   "source": [
    "Выводы:\n",
    "- некорректные названия столбцов\n",
    "- некорреткный тип данных у столбца `date`\n",
    "- пропусков нет\n",
    "- проверить на дубликаты (полные и неочевидные)"
   ]
  },
  {
   "cell_type": "code",
   "execution_count": 5,
   "metadata": {},
   "outputs": [
    {
     "name": "stdout",
     "output_type": "stream",
     "text": [
      "<class 'pandas.core.frame.DataFrame'>\n",
      "RangeIndex: 62 entries, 0 to 61\n",
      "Data columns (total 3 columns):\n",
      " #   Column    Non-Null Count  Dtype \n",
      "---  ------    --------------  ----- \n",
      " 0   date      62 non-null     object\n",
      " 1   group     62 non-null     object\n",
      " 2   visitors  62 non-null     int64 \n",
      "dtypes: int64(1), object(2)\n",
      "memory usage: 1.6+ KB\n"
     ]
    },
    {
     "data": {
      "text/html": [
       "<div>\n",
       "<style scoped>\n",
       "    .dataframe tbody tr th:only-of-type {\n",
       "        vertical-align: middle;\n",
       "    }\n",
       "\n",
       "    .dataframe tbody tr th {\n",
       "        vertical-align: top;\n",
       "    }\n",
       "\n",
       "    .dataframe thead th {\n",
       "        text-align: right;\n",
       "    }\n",
       "</style>\n",
       "<table border=\"1\" class=\"dataframe\">\n",
       "  <thead>\n",
       "    <tr style=\"text-align: right;\">\n",
       "      <th></th>\n",
       "      <th>date</th>\n",
       "      <th>group</th>\n",
       "      <th>visitors</th>\n",
       "    </tr>\n",
       "  </thead>\n",
       "  <tbody>\n",
       "    <tr>\n",
       "      <th>0</th>\n",
       "      <td>2019-08-01</td>\n",
       "      <td>A</td>\n",
       "      <td>719</td>\n",
       "    </tr>\n",
       "    <tr>\n",
       "      <th>1</th>\n",
       "      <td>2019-08-02</td>\n",
       "      <td>A</td>\n",
       "      <td>619</td>\n",
       "    </tr>\n",
       "    <tr>\n",
       "      <th>2</th>\n",
       "      <td>2019-08-03</td>\n",
       "      <td>A</td>\n",
       "      <td>507</td>\n",
       "    </tr>\n",
       "    <tr>\n",
       "      <th>3</th>\n",
       "      <td>2019-08-04</td>\n",
       "      <td>A</td>\n",
       "      <td>717</td>\n",
       "    </tr>\n",
       "    <tr>\n",
       "      <th>4</th>\n",
       "      <td>2019-08-05</td>\n",
       "      <td>A</td>\n",
       "      <td>756</td>\n",
       "    </tr>\n",
       "    <tr>\n",
       "      <th>...</th>\n",
       "      <td>...</td>\n",
       "      <td>...</td>\n",
       "      <td>...</td>\n",
       "    </tr>\n",
       "    <tr>\n",
       "      <th>57</th>\n",
       "      <td>2019-08-27</td>\n",
       "      <td>B</td>\n",
       "      <td>720</td>\n",
       "    </tr>\n",
       "    <tr>\n",
       "      <th>58</th>\n",
       "      <td>2019-08-28</td>\n",
       "      <td>B</td>\n",
       "      <td>654</td>\n",
       "    </tr>\n",
       "    <tr>\n",
       "      <th>59</th>\n",
       "      <td>2019-08-29</td>\n",
       "      <td>B</td>\n",
       "      <td>531</td>\n",
       "    </tr>\n",
       "    <tr>\n",
       "      <th>60</th>\n",
       "      <td>2019-08-30</td>\n",
       "      <td>B</td>\n",
       "      <td>490</td>\n",
       "    </tr>\n",
       "    <tr>\n",
       "      <th>61</th>\n",
       "      <td>2019-08-31</td>\n",
       "      <td>B</td>\n",
       "      <td>718</td>\n",
       "    </tr>\n",
       "  </tbody>\n",
       "</table>\n",
       "<p>62 rows × 3 columns</p>\n",
       "</div>"
      ],
      "text/plain": [
       "          date group  visitors\n",
       "0   2019-08-01     A       719\n",
       "1   2019-08-02     A       619\n",
       "2   2019-08-03     A       507\n",
       "3   2019-08-04     A       717\n",
       "4   2019-08-05     A       756\n",
       "..         ...   ...       ...\n",
       "57  2019-08-27     B       720\n",
       "58  2019-08-28     B       654\n",
       "59  2019-08-29     B       531\n",
       "60  2019-08-30     B       490\n",
       "61  2019-08-31     B       718\n",
       "\n",
       "[62 rows x 3 columns]"
      ]
     },
     "metadata": {},
     "output_type": "display_data"
    },
    {
     "data": {
      "text/plain": [
       "None"
      ]
     },
     "metadata": {},
     "output_type": "display_data"
    }
   ],
   "source": [
    "display(visitors,visitors.info())"
   ]
  },
  {
   "cell_type": "markdown",
   "metadata": {},
   "source": [
    "Выводы:\n",
    "- некорректный тип данных столбца `date`\n",
    "- пропусков нет\n",
    "- проверить на дубликаты( полные и неочевидные)"
   ]
  },
  {
   "cell_type": "markdown",
   "metadata": {},
   "source": [
    "## Предобработка данных"
   ]
  },
  {
   "cell_type": "code",
   "execution_count": 6,
   "metadata": {},
   "outputs": [],
   "source": [
    "#переименуем столбцы в таблицах\n",
    "hypothesis.columns = ['hypothesis','reach','impact','confidence', 'efforts']\n",
    "orders.columns = ['transaction_id','visitor_id', 'date','revenue','group']"
   ]
  },
  {
   "cell_type": "code",
   "execution_count": 7,
   "metadata": {},
   "outputs": [],
   "source": [
    "#приведём столбцы с датами к корректному типу данных \n",
    "orders['date'] = pd.to_datetime(orders['date'])\n",
    "visitors['date'] = pd.to_datetime(visitors['date'])"
   ]
  },
  {
   "cell_type": "code",
   "execution_count": 8,
   "metadata": {},
   "outputs": [
    {
     "data": {
      "text/plain": [
       "array(['B', 'A'], dtype=object)"
      ]
     },
     "metadata": {},
     "output_type": "display_data"
    },
    {
     "data": {
      "text/plain": [
       "array(['A', 'B'], dtype=object)"
      ]
     },
     "metadata": {},
     "output_type": "display_data"
    }
   ],
   "source": [
    "#проверим на неочевидные дубликаты по группам А/В теста \n",
    "display(orders['group'].unique(),visitors['group'].unique())"
   ]
  },
  {
   "cell_type": "markdown",
   "metadata": {},
   "source": [
    "Посчитаем количество уникальных пользоваталей в нашей A/B тесте "
   ]
  },
  {
   "cell_type": "code",
   "execution_count": 9,
   "metadata": {},
   "outputs": [
    {
     "data": {
      "text/plain": [
       "1031"
      ]
     },
     "execution_count": 9,
     "metadata": {},
     "output_type": "execute_result"
    }
   ],
   "source": [
    "len(orders['visitor_id'].unique())"
   ]
  },
  {
   "cell_type": "markdown",
   "metadata": {},
   "source": [
    "А теперь посчитаем по группам:"
   ]
  },
  {
   "cell_type": "code",
   "execution_count": 10,
   "metadata": {},
   "outputs": [
    {
     "data": {
      "text/plain": [
       "503"
      ]
     },
     "execution_count": 10,
     "metadata": {},
     "output_type": "execute_result"
    }
   ],
   "source": [
    "group_A = orders.query('group == \"A\"')\n",
    "len(group_A['visitor_id'].unique())"
   ]
  },
  {
   "cell_type": "code",
   "execution_count": 11,
   "metadata": {},
   "outputs": [
    {
     "data": {
      "text/plain": [
       "586"
      ]
     },
     "execution_count": 11,
     "metadata": {},
     "output_type": "execute_result"
    }
   ],
   "source": [
    "group_B = orders.query('group == \"B\"')\n",
    "len(group_B['visitor_id'].unique())"
   ]
  },
  {
   "cell_type": "markdown",
   "metadata": {},
   "source": [
    "Вот и проблема. В общей таблице у нас 1031 уникальных пользоваталей. А при разделении на группы 503+586 = 1089. То есть есть 58 пользователей(1089-1031), которые попали в обе группы. Найдем их "
   ]
  },
  {
   "cell_type": "code",
   "execution_count": 12,
   "metadata": {},
   "outputs": [
    {
     "data": {
      "text/plain": [
       "58"
      ]
     },
     "execution_count": 12,
     "metadata": {},
     "output_type": "execute_result"
    }
   ],
   "source": [
    "union = group_A.merge(group_B,on = 'visitor_id')\n",
    "len(union['visitor_id'].unique())"
   ]
  },
  {
   "cell_type": "markdown",
   "metadata": {},
   "source": [
    "Нашли.Что с ними делать? Мы не знаем, в какую группу они должны были попасть. Чтобы не угадывать - просто удалим этих пользователей из первоначальной таблицы"
   ]
  },
  {
   "cell_type": "code",
   "execution_count": 13,
   "metadata": {},
   "outputs": [
    {
     "data": {
      "text/plain": [
       "973"
      ]
     },
     "execution_count": 13,
     "metadata": {},
     "output_type": "execute_result"
    }
   ],
   "source": [
    "visitor_both_group = union['visitor_id'].to_list()\n",
    "orders = orders[~orders['visitor_id'].isin(visitor_both_group)]\n",
    "len(orders['visitor_id'].unique())"
   ]
  },
  {
   "cell_type": "markdown",
   "metadata": {},
   "source": [
    "Было 1031 уникальный, осталось 973. Удалили 58 пользоваталей, которые попали в обе группы "
   ]
  },
  {
   "cell_type": "markdown",
   "metadata": {},
   "source": [
    "Теперь посмотрим сопадение дат по orders и visitors"
   ]
  },
  {
   "cell_type": "code",
   "execution_count": 14,
   "metadata": {},
   "outputs": [
    {
     "data": {
      "text/html": [
       "<div>\n",
       "<style scoped>\n",
       "    .dataframe tbody tr th:only-of-type {\n",
       "        vertical-align: middle;\n",
       "    }\n",
       "\n",
       "    .dataframe tbody tr th {\n",
       "        vertical-align: top;\n",
       "    }\n",
       "\n",
       "    .dataframe thead th {\n",
       "        text-align: right;\n",
       "    }\n",
       "</style>\n",
       "<table border=\"1\" class=\"dataframe\">\n",
       "  <thead>\n",
       "    <tr style=\"text-align: right;\">\n",
       "      <th></th>\n",
       "      <th>transaction_id</th>\n",
       "      <th>visitor_id</th>\n",
       "      <th>date</th>\n",
       "      <th>revenue</th>\n",
       "      <th>group</th>\n",
       "    </tr>\n",
       "  </thead>\n",
       "  <tbody>\n",
       "    <tr>\n",
       "      <th>0</th>\n",
       "      <td>3667963787</td>\n",
       "      <td>3312258926</td>\n",
       "      <td>2019-08-15</td>\n",
       "      <td>1650</td>\n",
       "      <td>B</td>\n",
       "    </tr>\n",
       "    <tr>\n",
       "      <th>1</th>\n",
       "      <td>2804400009</td>\n",
       "      <td>3642806036</td>\n",
       "      <td>2019-08-15</td>\n",
       "      <td>730</td>\n",
       "      <td>B</td>\n",
       "    </tr>\n",
       "    <tr>\n",
       "      <th>3</th>\n",
       "      <td>3797467345</td>\n",
       "      <td>1196621759</td>\n",
       "      <td>2019-08-15</td>\n",
       "      <td>9759</td>\n",
       "      <td>B</td>\n",
       "    </tr>\n",
       "    <tr>\n",
       "      <th>4</th>\n",
       "      <td>2282983706</td>\n",
       "      <td>2322279887</td>\n",
       "      <td>2019-08-15</td>\n",
       "      <td>2308</td>\n",
       "      <td>B</td>\n",
       "    </tr>\n",
       "    <tr>\n",
       "      <th>5</th>\n",
       "      <td>182168103</td>\n",
       "      <td>935554773</td>\n",
       "      <td>2019-08-15</td>\n",
       "      <td>2210</td>\n",
       "      <td>B</td>\n",
       "    </tr>\n",
       "    <tr>\n",
       "      <th>...</th>\n",
       "      <td>...</td>\n",
       "      <td>...</td>\n",
       "      <td>...</td>\n",
       "      <td>...</td>\n",
       "      <td>...</td>\n",
       "    </tr>\n",
       "    <tr>\n",
       "      <th>1191</th>\n",
       "      <td>3592955527</td>\n",
       "      <td>608641596</td>\n",
       "      <td>2019-08-14</td>\n",
       "      <td>16490</td>\n",
       "      <td>B</td>\n",
       "    </tr>\n",
       "    <tr>\n",
       "      <th>1192</th>\n",
       "      <td>2662137336</td>\n",
       "      <td>3733762160</td>\n",
       "      <td>2019-08-14</td>\n",
       "      <td>6490</td>\n",
       "      <td>B</td>\n",
       "    </tr>\n",
       "    <tr>\n",
       "      <th>1193</th>\n",
       "      <td>2203539145</td>\n",
       "      <td>370388673</td>\n",
       "      <td>2019-08-14</td>\n",
       "      <td>3190</td>\n",
       "      <td>A</td>\n",
       "    </tr>\n",
       "    <tr>\n",
       "      <th>1194</th>\n",
       "      <td>1807773912</td>\n",
       "      <td>573423106</td>\n",
       "      <td>2019-08-14</td>\n",
       "      <td>10550</td>\n",
       "      <td>A</td>\n",
       "    </tr>\n",
       "    <tr>\n",
       "      <th>1196</th>\n",
       "      <td>3936777065</td>\n",
       "      <td>2108080724</td>\n",
       "      <td>2019-08-15</td>\n",
       "      <td>202740</td>\n",
       "      <td>B</td>\n",
       "    </tr>\n",
       "  </tbody>\n",
       "</table>\n",
       "<p>1016 rows × 5 columns</p>\n",
       "</div>"
      ],
      "text/plain": [
       "      transaction_id  visitor_id       date  revenue group\n",
       "0         3667963787  3312258926 2019-08-15     1650     B\n",
       "1         2804400009  3642806036 2019-08-15      730     B\n",
       "3         3797467345  1196621759 2019-08-15     9759     B\n",
       "4         2282983706  2322279887 2019-08-15     2308     B\n",
       "5          182168103   935554773 2019-08-15     2210     B\n",
       "...              ...         ...        ...      ...   ...\n",
       "1191      3592955527   608641596 2019-08-14    16490     B\n",
       "1192      2662137336  3733762160 2019-08-14     6490     B\n",
       "1193      2203539145   370388673 2019-08-14     3190     A\n",
       "1194      1807773912   573423106 2019-08-14    10550     A\n",
       "1196      3936777065  2108080724 2019-08-15   202740     B\n",
       "\n",
       "[1016 rows x 5 columns]"
      ]
     },
     "execution_count": 14,
     "metadata": {},
     "output_type": "execute_result"
    }
   ],
   "source": [
    "orders"
   ]
  },
  {
   "cell_type": "code",
   "execution_count": 15,
   "metadata": {},
   "outputs": [
    {
     "data": {
      "text/plain": [
       "Timestamp('2019-08-01 00:00:00')"
      ]
     },
     "metadata": {},
     "output_type": "display_data"
    },
    {
     "data": {
      "text/plain": [
       "Timestamp('2019-08-31 00:00:00')"
      ]
     },
     "metadata": {},
     "output_type": "display_data"
    },
    {
     "data": {
      "text/plain": [
       "Timestamp('2019-08-01 00:00:00')"
      ]
     },
     "metadata": {},
     "output_type": "display_data"
    },
    {
     "data": {
      "text/plain": [
       "Timestamp('2019-08-31 00:00:00')"
      ]
     },
     "metadata": {},
     "output_type": "display_data"
    }
   ],
   "source": [
    "display(orders['date'].min(),orders['date'].max())\n",
    "display(visitors['date'].min(),visitors['date'].max())"
   ]
  },
  {
   "cell_type": "markdown",
   "metadata": {},
   "source": [
    "Даты совпадают "
   ]
  },
  {
   "cell_type": "code",
   "execution_count": 16,
   "metadata": {
    "scrolled": true
   },
   "outputs": [
    {
     "data": {
      "text/plain": [
       "0"
      ]
     },
     "metadata": {},
     "output_type": "display_data"
    },
    {
     "data": {
      "text/plain": [
       "0"
      ]
     },
     "metadata": {},
     "output_type": "display_data"
    },
    {
     "data": {
      "text/plain": [
       "0"
      ]
     },
     "metadata": {},
     "output_type": "display_data"
    }
   ],
   "source": [
    "#проверим все таблицы на полные дубликаты \n",
    "display(hypothesis.duplicated().sum(),orders.duplicated().sum(),visitors.duplicated().sum())"
   ]
  },
  {
   "cell_type": "code",
   "execution_count": 17,
   "metadata": {},
   "outputs": [
    {
     "data": {
      "text/html": [
       "<div>\n",
       "<style scoped>\n",
       "    .dataframe tbody tr th:only-of-type {\n",
       "        vertical-align: middle;\n",
       "    }\n",
       "\n",
       "    .dataframe tbody tr th {\n",
       "        vertical-align: top;\n",
       "    }\n",
       "\n",
       "    .dataframe thead th {\n",
       "        text-align: right;\n",
       "    }\n",
       "</style>\n",
       "<table border=\"1\" class=\"dataframe\">\n",
       "  <thead>\n",
       "    <tr style=\"text-align: right;\">\n",
       "      <th></th>\n",
       "      <th>hypothesis</th>\n",
       "      <th>reach</th>\n",
       "      <th>impact</th>\n",
       "      <th>confidence</th>\n",
       "      <th>efforts</th>\n",
       "    </tr>\n",
       "  </thead>\n",
       "  <tbody>\n",
       "    <tr>\n",
       "      <th>0</th>\n",
       "      <td>Добавить два новых канала привлечения трафика,...</td>\n",
       "      <td>3</td>\n",
       "      <td>10</td>\n",
       "      <td>8</td>\n",
       "      <td>6</td>\n",
       "    </tr>\n",
       "    <tr>\n",
       "      <th>1</th>\n",
       "      <td>Запустить собственную службу доставки, что сок...</td>\n",
       "      <td>2</td>\n",
       "      <td>5</td>\n",
       "      <td>4</td>\n",
       "      <td>10</td>\n",
       "    </tr>\n",
       "    <tr>\n",
       "      <th>2</th>\n",
       "      <td>Добавить блоки рекомендаций товаров на сайт ин...</td>\n",
       "      <td>8</td>\n",
       "      <td>3</td>\n",
       "      <td>7</td>\n",
       "      <td>3</td>\n",
       "    </tr>\n",
       "    <tr>\n",
       "      <th>3</th>\n",
       "      <td>Изменить структура категорий, что увеличит кон...</td>\n",
       "      <td>8</td>\n",
       "      <td>3</td>\n",
       "      <td>3</td>\n",
       "      <td>8</td>\n",
       "    </tr>\n",
       "    <tr>\n",
       "      <th>4</th>\n",
       "      <td>Изменить цвет фона главной страницы, чтобы уве...</td>\n",
       "      <td>3</td>\n",
       "      <td>1</td>\n",
       "      <td>1</td>\n",
       "      <td>1</td>\n",
       "    </tr>\n",
       "  </tbody>\n",
       "</table>\n",
       "</div>"
      ],
      "text/plain": [
       "                                          hypothesis  reach  impact  \\\n",
       "0  Добавить два новых канала привлечения трафика,...      3      10   \n",
       "1  Запустить собственную службу доставки, что сок...      2       5   \n",
       "2  Добавить блоки рекомендаций товаров на сайт ин...      8       3   \n",
       "3  Изменить структура категорий, что увеличит кон...      8       3   \n",
       "4  Изменить цвет фона главной страницы, чтобы уве...      3       1   \n",
       "\n",
       "   confidence  efforts  \n",
       "0           8        6  \n",
       "1           4       10  \n",
       "2           7        3  \n",
       "3           3        8  \n",
       "4           1        1  "
      ]
     },
     "metadata": {},
     "output_type": "display_data"
    },
    {
     "data": {
      "text/html": [
       "<div>\n",
       "<style scoped>\n",
       "    .dataframe tbody tr th:only-of-type {\n",
       "        vertical-align: middle;\n",
       "    }\n",
       "\n",
       "    .dataframe tbody tr th {\n",
       "        vertical-align: top;\n",
       "    }\n",
       "\n",
       "    .dataframe thead th {\n",
       "        text-align: right;\n",
       "    }\n",
       "</style>\n",
       "<table border=\"1\" class=\"dataframe\">\n",
       "  <thead>\n",
       "    <tr style=\"text-align: right;\">\n",
       "      <th></th>\n",
       "      <th>transaction_id</th>\n",
       "      <th>visitor_id</th>\n",
       "      <th>date</th>\n",
       "      <th>revenue</th>\n",
       "      <th>group</th>\n",
       "    </tr>\n",
       "  </thead>\n",
       "  <tbody>\n",
       "    <tr>\n",
       "      <th>0</th>\n",
       "      <td>3667963787</td>\n",
       "      <td>3312258926</td>\n",
       "      <td>2019-08-15</td>\n",
       "      <td>1650</td>\n",
       "      <td>B</td>\n",
       "    </tr>\n",
       "    <tr>\n",
       "      <th>1</th>\n",
       "      <td>2804400009</td>\n",
       "      <td>3642806036</td>\n",
       "      <td>2019-08-15</td>\n",
       "      <td>730</td>\n",
       "      <td>B</td>\n",
       "    </tr>\n",
       "    <tr>\n",
       "      <th>3</th>\n",
       "      <td>3797467345</td>\n",
       "      <td>1196621759</td>\n",
       "      <td>2019-08-15</td>\n",
       "      <td>9759</td>\n",
       "      <td>B</td>\n",
       "    </tr>\n",
       "    <tr>\n",
       "      <th>4</th>\n",
       "      <td>2282983706</td>\n",
       "      <td>2322279887</td>\n",
       "      <td>2019-08-15</td>\n",
       "      <td>2308</td>\n",
       "      <td>B</td>\n",
       "    </tr>\n",
       "    <tr>\n",
       "      <th>5</th>\n",
       "      <td>182168103</td>\n",
       "      <td>935554773</td>\n",
       "      <td>2019-08-15</td>\n",
       "      <td>2210</td>\n",
       "      <td>B</td>\n",
       "    </tr>\n",
       "  </tbody>\n",
       "</table>\n",
       "</div>"
      ],
      "text/plain": [
       "   transaction_id  visitor_id       date  revenue group\n",
       "0      3667963787  3312258926 2019-08-15     1650     B\n",
       "1      2804400009  3642806036 2019-08-15      730     B\n",
       "3      3797467345  1196621759 2019-08-15     9759     B\n",
       "4      2282983706  2322279887 2019-08-15     2308     B\n",
       "5       182168103   935554773 2019-08-15     2210     B"
      ]
     },
     "metadata": {},
     "output_type": "display_data"
    },
    {
     "data": {
      "text/html": [
       "<div>\n",
       "<style scoped>\n",
       "    .dataframe tbody tr th:only-of-type {\n",
       "        vertical-align: middle;\n",
       "    }\n",
       "\n",
       "    .dataframe tbody tr th {\n",
       "        vertical-align: top;\n",
       "    }\n",
       "\n",
       "    .dataframe thead th {\n",
       "        text-align: right;\n",
       "    }\n",
       "</style>\n",
       "<table border=\"1\" class=\"dataframe\">\n",
       "  <thead>\n",
       "    <tr style=\"text-align: right;\">\n",
       "      <th></th>\n",
       "      <th>date</th>\n",
       "      <th>group</th>\n",
       "      <th>visitors</th>\n",
       "    </tr>\n",
       "  </thead>\n",
       "  <tbody>\n",
       "    <tr>\n",
       "      <th>0</th>\n",
       "      <td>2019-08-01</td>\n",
       "      <td>A</td>\n",
       "      <td>719</td>\n",
       "    </tr>\n",
       "    <tr>\n",
       "      <th>1</th>\n",
       "      <td>2019-08-02</td>\n",
       "      <td>A</td>\n",
       "      <td>619</td>\n",
       "    </tr>\n",
       "    <tr>\n",
       "      <th>2</th>\n",
       "      <td>2019-08-03</td>\n",
       "      <td>A</td>\n",
       "      <td>507</td>\n",
       "    </tr>\n",
       "    <tr>\n",
       "      <th>3</th>\n",
       "      <td>2019-08-04</td>\n",
       "      <td>A</td>\n",
       "      <td>717</td>\n",
       "    </tr>\n",
       "    <tr>\n",
       "      <th>4</th>\n",
       "      <td>2019-08-05</td>\n",
       "      <td>A</td>\n",
       "      <td>756</td>\n",
       "    </tr>\n",
       "  </tbody>\n",
       "</table>\n",
       "</div>"
      ],
      "text/plain": [
       "        date group  visitors\n",
       "0 2019-08-01     A       719\n",
       "1 2019-08-02     A       619\n",
       "2 2019-08-03     A       507\n",
       "3 2019-08-04     A       717\n",
       "4 2019-08-05     A       756"
      ]
     },
     "metadata": {},
     "output_type": "display_data"
    }
   ],
   "source": [
    "#проверим изменения\n",
    "display( hypothesis.head(),orders.head(),visitors.head())"
   ]
  },
  {
   "cell_type": "markdown",
   "metadata": {},
   "source": [
    "Можно переходить к анализу данных"
   ]
  },
  {
   "cell_type": "markdown",
   "metadata": {},
   "source": [
    "## Приоритезация гипотез"
   ]
  },
  {
   "cell_type": "markdown",
   "metadata": {},
   "source": [
    "### ICE"
   ]
  },
  {
   "cell_type": "code",
   "execution_count": 18,
   "metadata": {},
   "outputs": [],
   "source": [
    "hypothesis['ice'] = hypothesis['impact'] * hypothesis['confidence'] / hypothesis['efforts']"
   ]
  },
  {
   "cell_type": "code",
   "execution_count": 19,
   "metadata": {},
   "outputs": [
    {
     "data": {
      "text/html": [
       "<div>\n",
       "<style scoped>\n",
       "    .dataframe tbody tr th:only-of-type {\n",
       "        vertical-align: middle;\n",
       "    }\n",
       "\n",
       "    .dataframe tbody tr th {\n",
       "        vertical-align: top;\n",
       "    }\n",
       "\n",
       "    .dataframe thead th {\n",
       "        text-align: right;\n",
       "    }\n",
       "</style>\n",
       "<table border=\"1\" class=\"dataframe\">\n",
       "  <thead>\n",
       "    <tr style=\"text-align: right;\">\n",
       "      <th></th>\n",
       "      <th>hypothesis</th>\n",
       "      <th>reach</th>\n",
       "      <th>impact</th>\n",
       "      <th>confidence</th>\n",
       "      <th>efforts</th>\n",
       "      <th>ice</th>\n",
       "    </tr>\n",
       "  </thead>\n",
       "  <tbody>\n",
       "    <tr>\n",
       "      <th>8</th>\n",
       "      <td>Запустить акцию, дающую скидку на товар в день рождения</td>\n",
       "      <td>1</td>\n",
       "      <td>9</td>\n",
       "      <td>9</td>\n",
       "      <td>5</td>\n",
       "      <td>16.200000</td>\n",
       "    </tr>\n",
       "    <tr>\n",
       "      <th>0</th>\n",
       "      <td>Добавить два новых канала привлечения трафика, что позволит привлекать на 30% больше пользователей</td>\n",
       "      <td>3</td>\n",
       "      <td>10</td>\n",
       "      <td>8</td>\n",
       "      <td>6</td>\n",
       "      <td>13.333333</td>\n",
       "    </tr>\n",
       "    <tr>\n",
       "      <th>7</th>\n",
       "      <td>Добавить форму подписки на все основные страницы, чтобы собрать базу клиентов для email-рассылок</td>\n",
       "      <td>10</td>\n",
       "      <td>7</td>\n",
       "      <td>8</td>\n",
       "      <td>5</td>\n",
       "      <td>11.200000</td>\n",
       "    </tr>\n",
       "    <tr>\n",
       "      <th>6</th>\n",
       "      <td>Показать на главной странице баннеры с актуальными акциями и распродажами, чтобы увеличить конверсию</td>\n",
       "      <td>5</td>\n",
       "      <td>3</td>\n",
       "      <td>8</td>\n",
       "      <td>3</td>\n",
       "      <td>8.000000</td>\n",
       "    </tr>\n",
       "    <tr>\n",
       "      <th>2</th>\n",
       "      <td>Добавить блоки рекомендаций товаров на сайт интернет магазина, чтобы повысить конверсию и средний чек заказа</td>\n",
       "      <td>8</td>\n",
       "      <td>3</td>\n",
       "      <td>7</td>\n",
       "      <td>3</td>\n",
       "      <td>7.000000</td>\n",
       "    </tr>\n",
       "    <tr>\n",
       "      <th>1</th>\n",
       "      <td>Запустить собственную службу доставки, что сократит срок доставки заказов</td>\n",
       "      <td>2</td>\n",
       "      <td>5</td>\n",
       "      <td>4</td>\n",
       "      <td>10</td>\n",
       "      <td>2.000000</td>\n",
       "    </tr>\n",
       "    <tr>\n",
       "      <th>5</th>\n",
       "      <td>Добавить страницу отзывов клиентов о магазине, что позволит увеличить количество заказов</td>\n",
       "      <td>3</td>\n",
       "      <td>2</td>\n",
       "      <td>2</td>\n",
       "      <td>3</td>\n",
       "      <td>1.333333</td>\n",
       "    </tr>\n",
       "    <tr>\n",
       "      <th>3</th>\n",
       "      <td>Изменить структура категорий, что увеличит конверсию, т.к. пользователи быстрее найдут нужный товар</td>\n",
       "      <td>8</td>\n",
       "      <td>3</td>\n",
       "      <td>3</td>\n",
       "      <td>8</td>\n",
       "      <td>1.125000</td>\n",
       "    </tr>\n",
       "    <tr>\n",
       "      <th>4</th>\n",
       "      <td>Изменить цвет фона главной страницы, чтобы увеличить вовлеченность пользователей</td>\n",
       "      <td>3</td>\n",
       "      <td>1</td>\n",
       "      <td>1</td>\n",
       "      <td>1</td>\n",
       "      <td>1.000000</td>\n",
       "    </tr>\n",
       "  </tbody>\n",
       "</table>\n",
       "</div>"
      ],
      "text/plain": [
       "                                                                                                     hypothesis  \\\n",
       "8                                                       Запустить акцию, дающую скидку на товар в день рождения   \n",
       "0            Добавить два новых канала привлечения трафика, что позволит привлекать на 30% больше пользователей   \n",
       "7              Добавить форму подписки на все основные страницы, чтобы собрать базу клиентов для email-рассылок   \n",
       "6          Показать на главной странице баннеры с актуальными акциями и распродажами, чтобы увеличить конверсию   \n",
       "2  Добавить блоки рекомендаций товаров на сайт интернет магазина, чтобы повысить конверсию и средний чек заказа   \n",
       "1                                     Запустить собственную службу доставки, что сократит срок доставки заказов   \n",
       "5                      Добавить страницу отзывов клиентов о магазине, что позволит увеличить количество заказов   \n",
       "3           Изменить структура категорий, что увеличит конверсию, т.к. пользователи быстрее найдут нужный товар   \n",
       "4                              Изменить цвет фона главной страницы, чтобы увеличить вовлеченность пользователей   \n",
       "\n",
       "   reach  impact  confidence  efforts        ice  \n",
       "8      1       9           9        5  16.200000  \n",
       "0      3      10           8        6  13.333333  \n",
       "7     10       7           8        5  11.200000  \n",
       "6      5       3           8        3   8.000000  \n",
       "2      8       3           7        3   7.000000  \n",
       "1      2       5           4       10   2.000000  \n",
       "5      3       2           2        3   1.333333  \n",
       "3      8       3           3        8   1.125000  \n",
       "4      3       1           1        1   1.000000  "
      ]
     },
     "metadata": {},
     "output_type": "display_data"
    }
   ],
   "source": [
    "with pd.option_context('display.max_colwidth', 120):\n",
    "    display(hypothesis.sort_values('ice', ascending=False))"
   ]
  },
  {
   "cell_type": "markdown",
   "metadata": {},
   "source": [
    "В первой тройке по `ice` гипотезы №8,№0,№7"
   ]
  },
  {
   "cell_type": "markdown",
   "metadata": {},
   "source": [
    "### RICE"
   ]
  },
  {
   "cell_type": "code",
   "execution_count": 20,
   "metadata": {},
   "outputs": [],
   "source": [
    "hypothesis['rice'] = hypothesis['reach'] * hypothesis['impact'] * hypothesis['confidence'] / \\\n",
    "                    hypothesis['efforts']"
   ]
  },
  {
   "cell_type": "code",
   "execution_count": 21,
   "metadata": {
    "scrolled": true
   },
   "outputs": [
    {
     "data": {
      "text/html": [
       "<div>\n",
       "<style scoped>\n",
       "    .dataframe tbody tr th:only-of-type {\n",
       "        vertical-align: middle;\n",
       "    }\n",
       "\n",
       "    .dataframe tbody tr th {\n",
       "        vertical-align: top;\n",
       "    }\n",
       "\n",
       "    .dataframe thead th {\n",
       "        text-align: right;\n",
       "    }\n",
       "</style>\n",
       "<table border=\"1\" class=\"dataframe\">\n",
       "  <thead>\n",
       "    <tr style=\"text-align: right;\">\n",
       "      <th></th>\n",
       "      <th>hypothesis</th>\n",
       "      <th>reach</th>\n",
       "      <th>impact</th>\n",
       "      <th>confidence</th>\n",
       "      <th>efforts</th>\n",
       "      <th>ice</th>\n",
       "      <th>rice</th>\n",
       "    </tr>\n",
       "  </thead>\n",
       "  <tbody>\n",
       "    <tr>\n",
       "      <th>7</th>\n",
       "      <td>Добавить форму подписки на все основные страни...</td>\n",
       "      <td>10</td>\n",
       "      <td>7</td>\n",
       "      <td>8</td>\n",
       "      <td>5</td>\n",
       "      <td>11.200000</td>\n",
       "      <td>112.0</td>\n",
       "    </tr>\n",
       "    <tr>\n",
       "      <th>2</th>\n",
       "      <td>Добавить блоки рекомендаций товаров на сайт ин...</td>\n",
       "      <td>8</td>\n",
       "      <td>3</td>\n",
       "      <td>7</td>\n",
       "      <td>3</td>\n",
       "      <td>7.000000</td>\n",
       "      <td>56.0</td>\n",
       "    </tr>\n",
       "    <tr>\n",
       "      <th>0</th>\n",
       "      <td>Добавить два новых канала привлечения трафика,...</td>\n",
       "      <td>3</td>\n",
       "      <td>10</td>\n",
       "      <td>8</td>\n",
       "      <td>6</td>\n",
       "      <td>13.333333</td>\n",
       "      <td>40.0</td>\n",
       "    </tr>\n",
       "    <tr>\n",
       "      <th>6</th>\n",
       "      <td>Показать на главной странице баннеры с актуаль...</td>\n",
       "      <td>5</td>\n",
       "      <td>3</td>\n",
       "      <td>8</td>\n",
       "      <td>3</td>\n",
       "      <td>8.000000</td>\n",
       "      <td>40.0</td>\n",
       "    </tr>\n",
       "    <tr>\n",
       "      <th>8</th>\n",
       "      <td>Запустить акцию, дающую скидку на товар в день...</td>\n",
       "      <td>1</td>\n",
       "      <td>9</td>\n",
       "      <td>9</td>\n",
       "      <td>5</td>\n",
       "      <td>16.200000</td>\n",
       "      <td>16.2</td>\n",
       "    </tr>\n",
       "    <tr>\n",
       "      <th>3</th>\n",
       "      <td>Изменить структура категорий, что увеличит кон...</td>\n",
       "      <td>8</td>\n",
       "      <td>3</td>\n",
       "      <td>3</td>\n",
       "      <td>8</td>\n",
       "      <td>1.125000</td>\n",
       "      <td>9.0</td>\n",
       "    </tr>\n",
       "    <tr>\n",
       "      <th>1</th>\n",
       "      <td>Запустить собственную службу доставки, что сок...</td>\n",
       "      <td>2</td>\n",
       "      <td>5</td>\n",
       "      <td>4</td>\n",
       "      <td>10</td>\n",
       "      <td>2.000000</td>\n",
       "      <td>4.0</td>\n",
       "    </tr>\n",
       "    <tr>\n",
       "      <th>5</th>\n",
       "      <td>Добавить страницу отзывов клиентов о магазине,...</td>\n",
       "      <td>3</td>\n",
       "      <td>2</td>\n",
       "      <td>2</td>\n",
       "      <td>3</td>\n",
       "      <td>1.333333</td>\n",
       "      <td>4.0</td>\n",
       "    </tr>\n",
       "    <tr>\n",
       "      <th>4</th>\n",
       "      <td>Изменить цвет фона главной страницы, чтобы уве...</td>\n",
       "      <td>3</td>\n",
       "      <td>1</td>\n",
       "      <td>1</td>\n",
       "      <td>1</td>\n",
       "      <td>1.000000</td>\n",
       "      <td>3.0</td>\n",
       "    </tr>\n",
       "  </tbody>\n",
       "</table>\n",
       "</div>"
      ],
      "text/plain": [
       "                                          hypothesis  reach  impact  \\\n",
       "7  Добавить форму подписки на все основные страни...     10       7   \n",
       "2  Добавить блоки рекомендаций товаров на сайт ин...      8       3   \n",
       "0  Добавить два новых канала привлечения трафика,...      3      10   \n",
       "6  Показать на главной странице баннеры с актуаль...      5       3   \n",
       "8  Запустить акцию, дающую скидку на товар в день...      1       9   \n",
       "3  Изменить структура категорий, что увеличит кон...      8       3   \n",
       "1  Запустить собственную службу доставки, что сок...      2       5   \n",
       "5  Добавить страницу отзывов клиентов о магазине,...      3       2   \n",
       "4  Изменить цвет фона главной страницы, чтобы уве...      3       1   \n",
       "\n",
       "   confidence  efforts        ice   rice  \n",
       "7           8        5  11.200000  112.0  \n",
       "2           7        3   7.000000   56.0  \n",
       "0           8        6  13.333333   40.0  \n",
       "6           8        3   8.000000   40.0  \n",
       "8           9        5  16.200000   16.2  \n",
       "3           3        8   1.125000    9.0  \n",
       "1           4       10   2.000000    4.0  \n",
       "5           2        3   1.333333    4.0  \n",
       "4           1        1   1.000000    3.0  "
      ]
     },
     "execution_count": 21,
     "metadata": {},
     "output_type": "execute_result"
    }
   ],
   "source": [
    "hypothesis.sort_values('rice', ascending=False)"
   ]
  },
  {
   "cell_type": "markdown",
   "metadata": {},
   "source": [
    "При применении `rice` оценки приоритизации гипотез на первое место вышла гипотеза №7. Всё дело в параметре `reach` (или охвате пользователей), который не учитывался при расчете `ice`. \\\n",
    "У гипотезы №7 и №2 этот параметр имеет оценки 10 и 8 соответственно,а гипотеза №8 откатилась на пятое место, потому что у неё `reach` - 1."
   ]
  },
  {
   "cell_type": "markdown",
   "metadata": {},
   "source": [
    "## Анализ результатов A/B теста "
   ]
  },
  {
   "cell_type": "markdown",
   "metadata": {},
   "source": [
    "Подготовим таблицу для анализа результатов A/B теста. Посчитаем средний чек и конверсию по группам/по дням"
   ]
  },
  {
   "cell_type": "code",
   "execution_count": 22,
   "metadata": {},
   "outputs": [],
   "source": [
    "orders_grouped = (orders.groupby(['date','group'], as_index=False)\n",
    "                        .agg({'transaction_id':'nunique','visitor_id':'nunique','revenue':'sum'}))\\\n",
    "                        .rename(columns={'transaction_id':'orders','visitor_id':'buyers'})\n",
    "orders_grouped['group_copy'] = orders_grouped['group']\n",
    "orders_grouped = orders_grouped.set_index(['date','group'])\n",
    "orders_cumsum = orders_grouped.sort_values(['date','group']).groupby('group_copy').cumsum().reset_index()"
   ]
  },
  {
   "cell_type": "code",
   "execution_count": 23,
   "metadata": {},
   "outputs": [
    {
     "data": {
      "text/html": [
       "<div>\n",
       "<style scoped>\n",
       "    .dataframe tbody tr th:only-of-type {\n",
       "        vertical-align: middle;\n",
       "    }\n",
       "\n",
       "    .dataframe tbody tr th {\n",
       "        vertical-align: top;\n",
       "    }\n",
       "\n",
       "    .dataframe thead th {\n",
       "        text-align: right;\n",
       "    }\n",
       "</style>\n",
       "<table border=\"1\" class=\"dataframe\">\n",
       "  <thead>\n",
       "    <tr style=\"text-align: right;\">\n",
       "      <th></th>\n",
       "      <th></th>\n",
       "      <th>orders</th>\n",
       "      <th>buyers</th>\n",
       "      <th>revenue</th>\n",
       "      <th>group_copy</th>\n",
       "    </tr>\n",
       "    <tr>\n",
       "      <th>date</th>\n",
       "      <th>group</th>\n",
       "      <th></th>\n",
       "      <th></th>\n",
       "      <th></th>\n",
       "      <th></th>\n",
       "    </tr>\n",
       "  </thead>\n",
       "  <tbody>\n",
       "    <tr>\n",
       "      <th rowspan=\"2\" valign=\"top\">2019-08-01</th>\n",
       "      <th>A</th>\n",
       "      <td>23</td>\n",
       "      <td>19</td>\n",
       "      <td>142779</td>\n",
       "      <td>A</td>\n",
       "    </tr>\n",
       "    <tr>\n",
       "      <th>B</th>\n",
       "      <td>17</td>\n",
       "      <td>17</td>\n",
       "      <td>59758</td>\n",
       "      <td>B</td>\n",
       "    </tr>\n",
       "    <tr>\n",
       "      <th rowspan=\"2\" valign=\"top\">2019-08-02</th>\n",
       "      <th>A</th>\n",
       "      <td>19</td>\n",
       "      <td>18</td>\n",
       "      <td>91602</td>\n",
       "      <td>A</td>\n",
       "    </tr>\n",
       "    <tr>\n",
       "      <th>B</th>\n",
       "      <td>23</td>\n",
       "      <td>22</td>\n",
       "      <td>162043</td>\n",
       "      <td>B</td>\n",
       "    </tr>\n",
       "    <tr>\n",
       "      <th>2019-08-03</th>\n",
       "      <th>A</th>\n",
       "      <td>24</td>\n",
       "      <td>24</td>\n",
       "      <td>112473</td>\n",
       "      <td>A</td>\n",
       "    </tr>\n",
       "    <tr>\n",
       "      <th>...</th>\n",
       "      <th>...</th>\n",
       "      <td>...</td>\n",
       "      <td>...</td>\n",
       "      <td>...</td>\n",
       "      <td>...</td>\n",
       "    </tr>\n",
       "    <tr>\n",
       "      <th>2019-08-29</th>\n",
       "      <th>B</th>\n",
       "      <td>15</td>\n",
       "      <td>15</td>\n",
       "      <td>106100</td>\n",
       "      <td>B</td>\n",
       "    </tr>\n",
       "    <tr>\n",
       "      <th rowspan=\"2\" valign=\"top\">2019-08-30</th>\n",
       "      <th>A</th>\n",
       "      <td>9</td>\n",
       "      <td>8</td>\n",
       "      <td>78180</td>\n",
       "      <td>A</td>\n",
       "    </tr>\n",
       "    <tr>\n",
       "      <th>B</th>\n",
       "      <td>21</td>\n",
       "      <td>21</td>\n",
       "      <td>209223</td>\n",
       "      <td>B</td>\n",
       "    </tr>\n",
       "    <tr>\n",
       "      <th rowspan=\"2\" valign=\"top\">2019-08-31</th>\n",
       "      <th>A</th>\n",
       "      <td>8</td>\n",
       "      <td>8</td>\n",
       "      <td>53243</td>\n",
       "      <td>A</td>\n",
       "    </tr>\n",
       "    <tr>\n",
       "      <th>B</th>\n",
       "      <td>17</td>\n",
       "      <td>17</td>\n",
       "      <td>113139</td>\n",
       "      <td>B</td>\n",
       "    </tr>\n",
       "  </tbody>\n",
       "</table>\n",
       "<p>62 rows × 4 columns</p>\n",
       "</div>"
      ],
      "text/plain": [
       "                  orders  buyers  revenue group_copy\n",
       "date       group                                    \n",
       "2019-08-01 A          23      19   142779          A\n",
       "           B          17      17    59758          B\n",
       "2019-08-02 A          19      18    91602          A\n",
       "           B          23      22   162043          B\n",
       "2019-08-03 A          24      24   112473          A\n",
       "...                  ...     ...      ...        ...\n",
       "2019-08-29 B          15      15   106100          B\n",
       "2019-08-30 A           9       8    78180          A\n",
       "           B          21      21   209223          B\n",
       "2019-08-31 A           8       8    53243          A\n",
       "           B          17      17   113139          B\n",
       "\n",
       "[62 rows x 4 columns]"
      ]
     },
     "execution_count": 23,
     "metadata": {},
     "output_type": "execute_result"
    }
   ],
   "source": [
    "orders_grouped"
   ]
  },
  {
   "cell_type": "code",
   "execution_count": 24,
   "metadata": {},
   "outputs": [],
   "source": [
    "# посчитаем сумму визитов по дням в каждой группе\n",
    "visitors_cumsum = visitors.groupby(['date','group'], as_index=False).agg({'visitors':'sum'}).sort_values(['date','group'])\n",
    "# скопируем group чтобы провести по ней кумулятивную сумму\n",
    "visitors_cumsum['group_copy'] = visitors_cumsum['group']\n",
    "visitors_cumsum = visitors_cumsum.set_index(['date','group']).groupby('group_copy').cumsum().reset_index()    "
   ]
  },
  {
   "cell_type": "code",
   "execution_count": 25,
   "metadata": {},
   "outputs": [],
   "source": [
    "cummulative = orders_cumsum.join(visitors_cumsum[['visitors']])"
   ]
  },
  {
   "cell_type": "code",
   "execution_count": 26,
   "metadata": {},
   "outputs": [],
   "source": [
    "#считаем средний чек и конверсию \n",
    "cummulative['average_check'] = cummulative['revenue'] / cummulative['orders']\n",
    "cummulative['conversion'] = cummulative['orders'] / cummulative['visitors']"
   ]
  },
  {
   "cell_type": "code",
   "execution_count": 27,
   "metadata": {},
   "outputs": [
    {
     "data": {
      "text/html": [
       "<div>\n",
       "<style scoped>\n",
       "    .dataframe tbody tr th:only-of-type {\n",
       "        vertical-align: middle;\n",
       "    }\n",
       "\n",
       "    .dataframe tbody tr th {\n",
       "        vertical-align: top;\n",
       "    }\n",
       "\n",
       "    .dataframe thead th {\n",
       "        text-align: right;\n",
       "    }\n",
       "</style>\n",
       "<table border=\"1\" class=\"dataframe\">\n",
       "  <thead>\n",
       "    <tr style=\"text-align: right;\">\n",
       "      <th></th>\n",
       "      <th>date</th>\n",
       "      <th>group</th>\n",
       "      <th>orders</th>\n",
       "      <th>buyers</th>\n",
       "      <th>revenue</th>\n",
       "      <th>visitors</th>\n",
       "      <th>average_check</th>\n",
       "      <th>conversion</th>\n",
       "    </tr>\n",
       "  </thead>\n",
       "  <tbody>\n",
       "    <tr>\n",
       "      <th>0</th>\n",
       "      <td>2019-08-01</td>\n",
       "      <td>A</td>\n",
       "      <td>23</td>\n",
       "      <td>19</td>\n",
       "      <td>142779</td>\n",
       "      <td>719</td>\n",
       "      <td>6207.782609</td>\n",
       "      <td>0.031989</td>\n",
       "    </tr>\n",
       "    <tr>\n",
       "      <th>1</th>\n",
       "      <td>2019-08-01</td>\n",
       "      <td>B</td>\n",
       "      <td>17</td>\n",
       "      <td>17</td>\n",
       "      <td>59758</td>\n",
       "      <td>713</td>\n",
       "      <td>3515.176471</td>\n",
       "      <td>0.023843</td>\n",
       "    </tr>\n",
       "    <tr>\n",
       "      <th>2</th>\n",
       "      <td>2019-08-02</td>\n",
       "      <td>A</td>\n",
       "      <td>42</td>\n",
       "      <td>37</td>\n",
       "      <td>234381</td>\n",
       "      <td>1338</td>\n",
       "      <td>5580.500000</td>\n",
       "      <td>0.031390</td>\n",
       "    </tr>\n",
       "    <tr>\n",
       "      <th>3</th>\n",
       "      <td>2019-08-02</td>\n",
       "      <td>B</td>\n",
       "      <td>40</td>\n",
       "      <td>39</td>\n",
       "      <td>221801</td>\n",
       "      <td>1294</td>\n",
       "      <td>5545.025000</td>\n",
       "      <td>0.030912</td>\n",
       "    </tr>\n",
       "    <tr>\n",
       "      <th>4</th>\n",
       "      <td>2019-08-03</td>\n",
       "      <td>A</td>\n",
       "      <td>66</td>\n",
       "      <td>61</td>\n",
       "      <td>346854</td>\n",
       "      <td>1845</td>\n",
       "      <td>5255.363636</td>\n",
       "      <td>0.035772</td>\n",
       "    </tr>\n",
       "  </tbody>\n",
       "</table>\n",
       "</div>"
      ],
      "text/plain": [
       "        date group  orders  buyers  revenue  visitors  average_check  \\\n",
       "0 2019-08-01     A      23      19   142779       719    6207.782609   \n",
       "1 2019-08-01     B      17      17    59758       713    3515.176471   \n",
       "2 2019-08-02     A      42      37   234381      1338    5580.500000   \n",
       "3 2019-08-02     B      40      39   221801      1294    5545.025000   \n",
       "4 2019-08-03     A      66      61   346854      1845    5255.363636   \n",
       "\n",
       "   conversion  \n",
       "0    0.031989  \n",
       "1    0.023843  \n",
       "2    0.031390  \n",
       "3    0.030912  \n",
       "4    0.035772  "
      ]
     },
     "execution_count": 27,
     "metadata": {},
     "output_type": "execute_result"
    }
   ],
   "source": [
    "cummulative.head()"
   ]
  },
  {
   "cell_type": "markdown",
   "metadata": {},
   "source": [
    "Посчитали кумулятивные данные по группам и дням( количество заказов, покупателей, выручку, посетителей). А так же средний чек и конверсию"
   ]
  },
  {
   "cell_type": "markdown",
   "metadata": {},
   "source": [
    "### График кумулятивной выручки по группам"
   ]
  },
  {
   "cell_type": "code",
   "execution_count": 28,
   "metadata": {},
   "outputs": [
    {
     "data": {
      "image/png": "[encoded data removed]",
      "text/plain": [
       "<Figure size 432x288 with 1 Axes>"
      ]
     },
     "metadata": {
      "needs_background": "light"
     },
     "output_type": "display_data"
    }
   ],
   "source": [
    "cummulativeA = cummulative[cummulative['group']=='A'][['date', 'revenue']]\n",
    "cummulativeB = cummulative[cummulative['group']=='B'][['date', 'revenue']]\n",
    "plt.plot(cummulativeA.iloc[:,0].to_frame(), cummulativeA.iloc[:,1].to_frame(), label='A' )\n",
    "plt.plot(cummulativeB.iloc[:,0].to_frame(), cummulativeB.iloc[:,1].to_frame(), label='B')\n",
    "plt.title('График кумулятивной выручки по группам')\n",
    "plt.ylabel(\"Выручка\")\n",
    "plt.xticks(rotation=30)\n",
    "plt.legend()\n",
    "plt.show()"
   ]
  },
  {
   "cell_type": "markdown",
   "metadata": {},
   "source": [
    "**Выводы**:\n",
    "- У группы B наблюдается скачок по выручке. Этот скачок обусловлен крупной выручкой в этот день( крупным чеком)\n",
    "- В целом графики растут линейно и разница по итогу обусловлена скачком в середине временного отрезка анализа"
   ]
  },
  {
   "cell_type": "markdown",
   "metadata": {},
   "source": [
    "### График кумулятивного среднего чека по группам"
   ]
  },
  {
   "cell_type": "code",
   "execution_count": 29,
   "metadata": {
    "scrolled": true
   },
   "outputs": [
    {
     "data": {
      "image/png": "[encoded data removed]",
      "text/plain": [
       "<Figure size 432x288 with 1 Axes>"
      ]
     },
     "metadata": {
      "needs_background": "light"
     },
     "output_type": "display_data"
    }
   ],
   "source": [
    "cummulativeA = cummulative[cummulative['group']=='A'][['date', 'average_check']]\n",
    "cummulativeB = cummulative[cummulative['group']=='B'][['date', 'average_check']]\n",
    "plt.plot(cummulativeA.iloc[:,0].to_frame(), cummulativeA.iloc[:,1].to_frame(), label='A' )\n",
    "plt.plot(cummulativeB.iloc[:,0].to_frame(), cummulativeB.iloc[:,1].to_frame(), label='B')\n",
    "plt.title('График кумулятивного среднего чека по группам')\n",
    "plt.ylabel(\"Выручка\")\n",
    "plt.xticks(rotation=30)\n",
    "plt.legend()\n",
    "plt.show()"
   ]
  },
  {
   "cell_type": "markdown",
   "metadata": {},
   "source": [
    "**Выводы**: \n",
    "- в тот же самый момент у группы B резкий скачок по кумулятивному среднему чеку"
   ]
  },
  {
   "cell_type": "markdown",
   "metadata": {},
   "source": [
    "### График относительного изменения кумулятивного среднего чека группы B к группе A"
   ]
  },
  {
   "cell_type": "code",
   "execution_count": 30,
   "metadata": {},
   "outputs": [
    {
     "data": {
      "image/png": "[encoded data removed]",
      "text/plain": [
       "<Figure size 432x288 with 1 Axes>"
      ]
     },
     "metadata": {
      "needs_background": "light"
     },
     "output_type": "display_data"
    }
   ],
   "source": [
    "temp = (cummulativeA[['date', 'average_check']].merge(cummulativeB[['date', 'average_check']], \n",
    "                                            left_on='date', right_on='date', how='left', suffixes=['_A', '_B']))\n",
    "plt.plot(temp['date'], temp['average_check_B'] / temp['average_check_A']-1)\n",
    "plt.title('График относительного изменения кумулятивного среднего чека группы B к группе A')\n",
    "plt.axhline(y=0, color='black', linestyle='--')\n",
    "plt.xticks(rotation=30)\n",
    "plt.show()"
   ]
  },
  {
   "cell_type": "markdown",
   "metadata": {},
   "source": [
    "**Вывод**:\n",
    "- по сути все графики иллюстируют одну и ту же картину. Средний чек по группе B выше, чем по группе A"
   ]
  },
  {
   "cell_type": "markdown",
   "metadata": {},
   "source": [
    "### График кумулятивной конверсии по группам"
   ]
  },
  {
   "cell_type": "code",
   "execution_count": 31,
   "metadata": {},
   "outputs": [
    {
     "data": {
      "image/png": "[encoded data removed]",
      "text/plain": [
       "<Figure size 432x288 with 1 Axes>"
      ]
     },
     "metadata": {
      "needs_background": "light"
     },
     "output_type": "display_data"
    }
   ],
   "source": [
    "cummulativeA = cummulative[cummulative['group']=='A'][['date', 'conversion']]\n",
    "cummulativeB = cummulative[cummulative['group']=='B'][['date', 'conversion']]\n",
    "plt.plot(cummulativeA.iloc[:,0].to_frame(), cummulativeA.iloc[:,1].to_frame(), label='A' )\n",
    "plt.plot(cummulativeB.iloc[:,0].to_frame(), cummulativeB.iloc[:,1].to_frame(), label='B')\n",
    "plt.title('График кумулятивной конверсии по группам')\n",
    "plt.ylabel(\"Выручка\")\n",
    "plt.ylim(0.001)\n",
    "plt.xticks(rotation=30)\n",
    "plt.legend()\n",
    "plt.show()"
   ]
  },
  {
   "cell_type": "markdown",
   "metadata": {},
   "source": [
    "**Вывод**:\n",
    "- Конверсия группы A выглядит хуже,чем у группы B"
   ]
  },
  {
   "cell_type": "markdown",
   "metadata": {},
   "source": [
    "### График относительного изменения кумулятивной конверсии группы B к группе A"
   ]
  },
  {
   "cell_type": "code",
   "execution_count": 32,
   "metadata": {},
   "outputs": [
    {
     "data": {
      "image/png": "[encoded data removed]",
      "text/plain": [
       "<Figure size 432x288 with 1 Axes>"
      ]
     },
     "metadata": {
      "needs_background": "light"
     },
     "output_type": "display_data"
    }
   ],
   "source": [
    "temp = (cummulativeA[['date', 'conversion']].merge(cummulativeB[['date', 'conversion']], \n",
    "                                            left_on='date', right_on='date', how='left', suffixes=['_A', '_B']))\n",
    "plt.plot(temp['date'], temp['conversion_B'] / temp['conversion_A']-1)\n",
    "plt.title('График относительного изменения кумулятивной конверсии группы B к группе A')\n",
    "plt.axhline(y=0, color='black', linestyle='--')\n",
    "plt.xticks(rotation=45)\n",
    "plt.show()"
   ]
  },
  {
   "cell_type": "markdown",
   "metadata": {},
   "source": [
    "**Вывод**:\n",
    "- Конверсия группы B всё так же выглядит лучше "
   ]
  },
  {
   "cell_type": "markdown",
   "metadata": {},
   "source": [
    "### График количества заказов по пользователям"
   ]
  },
  {
   "cell_type": "code",
   "execution_count": 33,
   "metadata": {},
   "outputs": [
    {
     "data": {
      "text/html": [
       "<div>\n",
       "<style scoped>\n",
       "    .dataframe tbody tr th:only-of-type {\n",
       "        vertical-align: middle;\n",
       "    }\n",
       "\n",
       "    .dataframe tbody tr th {\n",
       "        vertical-align: top;\n",
       "    }\n",
       "\n",
       "    .dataframe thead th {\n",
       "        text-align: right;\n",
       "    }\n",
       "</style>\n",
       "<table border=\"1\" class=\"dataframe\">\n",
       "  <thead>\n",
       "    <tr style=\"text-align: right;\">\n",
       "      <th></th>\n",
       "      <th>visitor_id</th>\n",
       "      <th>orders</th>\n",
       "    </tr>\n",
       "  </thead>\n",
       "  <tbody>\n",
       "    <tr>\n",
       "      <th>0</th>\n",
       "      <td>5114589</td>\n",
       "      <td>1</td>\n",
       "    </tr>\n",
       "    <tr>\n",
       "      <th>1</th>\n",
       "      <td>6958315</td>\n",
       "      <td>1</td>\n",
       "    </tr>\n",
       "    <tr>\n",
       "      <th>2</th>\n",
       "      <td>11685486</td>\n",
       "      <td>1</td>\n",
       "    </tr>\n",
       "    <tr>\n",
       "      <th>3</th>\n",
       "      <td>39475350</td>\n",
       "      <td>1</td>\n",
       "    </tr>\n",
       "    <tr>\n",
       "      <th>4</th>\n",
       "      <td>47206413</td>\n",
       "      <td>1</td>\n",
       "    </tr>\n",
       "  </tbody>\n",
       "</table>\n",
       "</div>"
      ],
      "text/plain": [
       "   visitor_id  orders\n",
       "0     5114589       1\n",
       "1     6958315       1\n",
       "2    11685486       1\n",
       "3    39475350       1\n",
       "4    47206413       1"
      ]
     },
     "execution_count": 33,
     "metadata": {},
     "output_type": "execute_result"
    }
   ],
   "source": [
    "#создадим таблицу по количеству заказов каждого пользователя \n",
    "orders_per_user = orders.groupby('visitor_id', as_index=False).agg({'transaction_id':'nunique'})\\\n",
    "                         .rename(columns={'transaction_id':'orders'})\n",
    "orders_per_user.head()"
   ]
  },
  {
   "cell_type": "code",
   "execution_count": 34,
   "metadata": {},
   "outputs": [
    {
     "data": {
      "image/png": "[encoded data removed]",
      "text/plain": [
       "<Figure size 432x288 with 1 Axes>"
      ]
     },
     "metadata": {
      "needs_background": "light"
     },
     "output_type": "display_data"
    }
   ],
   "source": [
    "x_values = pd.Series(range(0,len(orders_per_user['orders'])))\n",
    "plt.scatter(x_values, orders_per_user['orders'], color='black', alpha = 0.2)\n",
    "plt.show()"
   ]
  },
  {
   "cell_type": "markdown",
   "metadata": {},
   "source": [
    "**Вывод**:\n",
    "- Основная часть клиентов делает 1 заказ. Немало клиентов делает и по 2 заказа"
   ]
  },
  {
   "cell_type": "markdown",
   "metadata": {},
   "source": [
    "###  95-й и 99-й перцентили количества заказов на пользователя. Выберем границу для определения аномальных пользователей"
   ]
  },
  {
   "cell_type": "code",
   "execution_count": 35,
   "metadata": {},
   "outputs": [
    {
     "name": "stdout",
     "output_type": "stream",
     "text": [
      "95 перцентиль: 1.00\n",
      "99 перцентиль: 2.00\n"
     ]
    }
   ],
   "source": [
    "print('95 перцентиль: %.2f' % (np.percentile(orders_per_user['orders'], [95])))\n",
    "print('99 перцентиль: %.2f' % (np.percentile(orders_per_user['orders'], [99])))"
   ]
  },
  {
   "cell_type": "markdown",
   "metadata": {},
   "source": [
    "**Вывод**:\n",
    "- 99 процентов пользователей делают от 1 до 2 заказов. Выберем **границу аномальности**: 3 заказов и более"
   ]
  },
  {
   "cell_type": "code",
   "execution_count": 36,
   "metadata": {},
   "outputs": [],
   "source": [
    "#введем список без аномальных заказов\n",
    "normal_orders = orders_per_user[orders_per_user['orders'] >= 3]['visitor_id'].to_list()"
   ]
  },
  {
   "cell_type": "markdown",
   "metadata": {},
   "source": [
    "### График стоимостей заказов"
   ]
  },
  {
   "cell_type": "code",
   "execution_count": 37,
   "metadata": {},
   "outputs": [
    {
     "data": {
      "image/png": "[encoded data removed]",
      "text/plain": [
       "<Figure size 432x288 with 1 Axes>"
      ]
     },
     "metadata": {
      "needs_background": "light"
     },
     "output_type": "display_data"
    }
   ],
   "source": [
    "x_values = pd.Series(range(0,len(orders['revenue'])))\n",
    "plt.scatter(x_values, orders['revenue'], color='black',alpha = 0.1)\n",
    "plt.show()"
   ]
  },
  {
   "cell_type": "markdown",
   "metadata": {},
   "source": [
    "**Вывод**: Заметны 2 аномальных значения. Но одно их них явно выделяется. Скорее всего это именно тот заказ, который вызывал скачки на графиках кумулятивной суммы и средней чека"
   ]
  },
  {
   "cell_type": "code",
   "execution_count": 38,
   "metadata": {},
   "outputs": [
    {
     "data": {
      "image/png": "[encoded data removed]",
      "text/plain": [
       "<Figure size 432x288 with 1 Axes>"
      ]
     },
     "metadata": {
      "needs_background": "light"
     },
     "output_type": "display_data"
    }
   ],
   "source": [
    "#отфильтруем и построим график без двух очень крупных выбросов\n",
    "orders_without_big_check = orders.query('revenue < 200000')\n",
    "x_values = pd.Series(range(0,len(orders_without_big_check['revenue'])))\n",
    "plt.scatter(x_values, orders_without_big_check['revenue'], color='black',alpha = 0.1)\n",
    "plt.show()"
   ]
  },
  {
   "cell_type": "markdown",
   "metadata": {},
   "source": [
    "Можем сказать,что среди остальные заказов так же есть несколько крупных выделяющихся (более 60000)"
   ]
  },
  {
   "cell_type": "markdown",
   "metadata": {},
   "source": [
    "### 95-й и 99-й перцентили стоимости заказов"
   ]
  },
  {
   "cell_type": "code",
   "execution_count": 39,
   "metadata": {},
   "outputs": [
    {
     "name": "stdout",
     "output_type": "stream",
     "text": [
      "95 перцентиль: 26785.00\n",
      "99 перцентиль: 53904.00\n"
     ]
    }
   ],
   "source": [
    "print('95 перцентиль: %.2f' % (np.percentile(orders['revenue'], [95])))\n",
    "print('99 перцентиль: %.2f' % (np.percentile(orders['revenue'], [99])))"
   ]
  },
  {
   "cell_type": "markdown",
   "metadata": {},
   "source": [
    "**Вывод**: Будем считать аномальными заказы на сумму 53904 у.е. и более"
   ]
  },
  {
   "cell_type": "code",
   "execution_count": 40,
   "metadata": {},
   "outputs": [
    {
     "data": {
      "text/plain": [
       "[249864742,\n",
       " 611059232,\n",
       " 2108163459,\n",
       " 2742574263,\n",
       " 2988190573,\n",
       " 3908431265,\n",
       " 3967698036]"
      ]
     },
     "execution_count": 40,
     "metadata": {},
     "output_type": "execute_result"
    }
   ],
   "source": [
    "#добавим в наш отфильтрованный список так же фильтрацию по стоимости заказа\n",
    "normal_orders = orders_per_user[orders_per_user['orders'] >= 3]['visitor_id'].to_list()\n",
    "normal_orders"
   ]
  },
  {
   "cell_type": "markdown",
   "metadata": {},
   "source": [
    "### Cтатистическая значимость различий в конверсии между группами по «сырым» данным"
   ]
  },
  {
   "cell_type": "code",
   "execution_count": 41,
   "metadata": {},
   "outputs": [],
   "source": [
    "conversion = (orders.groupby('group').agg({'transaction_id':'count'}).rename(columns={'transaction_id':'orders'}))\\\n",
    "                                     .join((visitors.groupby('group').agg({'visitors':'sum'}))).reset_index()\n",
    "conversion['conversion'] = conversion['orders'] / conversion['visitors']"
   ]
  },
  {
   "cell_type": "code",
   "execution_count": 42,
   "metadata": {},
   "outputs": [
    {
     "data": {
      "text/html": [
       "<div>\n",
       "<style scoped>\n",
       "    .dataframe tbody tr th:only-of-type {\n",
       "        vertical-align: middle;\n",
       "    }\n",
       "\n",
       "    .dataframe tbody tr th {\n",
       "        vertical-align: top;\n",
       "    }\n",
       "\n",
       "    .dataframe thead th {\n",
       "        text-align: right;\n",
       "    }\n",
       "</style>\n",
       "<table border=\"1\" class=\"dataframe\">\n",
       "  <thead>\n",
       "    <tr style=\"text-align: right;\">\n",
       "      <th></th>\n",
       "      <th>group</th>\n",
       "      <th>orders</th>\n",
       "      <th>visitors</th>\n",
       "      <th>conversion</th>\n",
       "    </tr>\n",
       "  </thead>\n",
       "  <tbody>\n",
       "    <tr>\n",
       "      <th>0</th>\n",
       "      <td>A</td>\n",
       "      <td>468</td>\n",
       "      <td>18736</td>\n",
       "      <td>0.024979</td>\n",
       "    </tr>\n",
       "    <tr>\n",
       "      <th>1</th>\n",
       "      <td>B</td>\n",
       "      <td>548</td>\n",
       "      <td>18916</td>\n",
       "      <td>0.028970</td>\n",
       "    </tr>\n",
       "  </tbody>\n",
       "</table>\n",
       "</div>"
      ],
      "text/plain": [
       "  group  orders  visitors  conversion\n",
       "0     A     468     18736    0.024979\n",
       "1     B     548     18916    0.028970"
      ]
     },
     "execution_count": 42,
     "metadata": {},
     "output_type": "execute_result"
    }
   ],
   "source": [
    "conversion"
   ]
  },
  {
   "cell_type": "markdown",
   "metadata": {},
   "source": [
    "Сформулируем 2 стат.гипотезы: \n",
    "- H0: Конверсия в группе A статистически НЕ ОТЛИЧАЕТСЯ от  конверсии в группе B\n",
    "- Н1: Конверсия в группе A статистически ОТЛИЧАЕТСЯ от  конверсии в группе B"
   ]
  },
  {
   "cell_type": "code",
   "execution_count": 43,
   "metadata": {},
   "outputs": [
    {
     "name": "stdout",
     "output_type": "stream",
     "text": [
      "p-значение:  0.016851380434703023\n",
      "Отвергаем нулевую гипотезу\n"
     ]
    }
   ],
   "source": [
    "alpha=0.05\n",
    "purchases = np.array(conversion['orders'])\n",
    "leads = np.array(conversion['visitors'])\n",
    "p1 = purchases[0] / leads[0]\n",
    "p2 = purchases[1] / leads[1]\n",
    "combined = (purchases[0] + purchases[1]) / (leads[0] + leads[1])\n",
    "difference = p1-p2\n",
    "z_value = difference / math.sqrt(combined * (1 - combined) * (1 / leads[0] + 1 / leads[1]))\n",
    "distr = st.norm(0,1)\n",
    "p_value = (1 - distr.cdf(abs(z_value))) * 2\n",
    "print('p-значение: ', p_value)\n",
    "if (p_value < alpha):\n",
    "    print(\"Отвергаем нулевую гипотезу\")\n",
    "else:\n",
    "    print(\"Не получилось отвергнуть нулевую гипотезу\")"
   ]
  },
  {
   "cell_type": "markdown",
   "metadata": {},
   "source": [
    "**Вывод**: \n",
    "- По сырым данным конверсия в группе B выше, чем в группе А."
   ]
  },
  {
   "cell_type": "code",
   "execution_count": 45,
   "metadata": {},
   "outputs": [
    {
     "data": {
      "text/plain": [
       "0    18291\n",
       "1      427\n",
       "2       13\n",
       "3        5\n",
       "dtype: int64"
      ]
     },
     "metadata": {},
     "output_type": "display_data"
    },
    {
     "data": {
      "text/plain": [
       "0    18388\n",
       "1      510\n",
       "2       16\n",
       "3        2\n",
       "dtype: int64"
      ]
     },
     "metadata": {},
     "output_type": "display_data"
    }
   ],
   "source": [
    "#разобьем по группам A и B\n",
    "ordersByVisitorA = (\n",
    "    orders[orders['group'] == 'A']\n",
    "    .groupby('visitor_id', as_index=False)\n",
    "    .agg({'transaction_id': \"nunique\"})\\\n",
    "    ['transaction_id']\n",
    ")\n",
    "\n",
    "ordersByVisitorB = (\n",
    "    orders[orders['group'] == 'B']\n",
    "    .groupby('visitor_id', as_index=False)\n",
    "    .agg({'transaction_id': \"nunique\"})\\\n",
    "    ['transaction_id']\n",
    ")\n",
    "\n",
    "\n",
    "sampleA = pd.concat((ordersByVisitorA,pd.Series([0] * (visitors[visitors['group'] == 'A'].visitors.sum() - ordersByVisitorA.shape[0]))))\\\n",
    "  .value_counts()\n",
    "\n",
    "sampleB = pd.concat((ordersByVisitorB,pd.Series([0] * (visitors[visitors['group'] == 'B'].visitors.sum() - ordersByVisitorB.shape[0]))))\\\n",
    "  .value_counts()\n",
    "\n",
    "\n",
    "#проверим \n",
    "display(sampleA, sampleB)\n",
    " "
   ]
  },
  {
   "cell_type": "code",
   "execution_count": 46,
   "metadata": {},
   "outputs": [
    {
     "name": "stdout",
     "output_type": "stream",
     "text": [
      "0.886\n",
      "0.010\n"
     ]
    }
   ],
   "source": [
    "# проведём тест \n",
    "print(\"{0:.3f}\".format(st.mannwhitneyu(sampleA, sampleB)[1]))\n",
    "\n",
    "print(\"{0:.3f}\".format(sampleB.mean() / sampleA.mean() - 1))"
   ]
  },
  {
   "cell_type": "markdown",
   "metadata": {},
   "source": [
    "Вывод: По «сырым» данным различий в среднем числе заказов групп A и B нет.\n",
    "Первое число — p-value = 0.886 больше 0.05. Значит, нулевую гипотезу о том, что статистически значимых различий в среднем числе заказов между группами нет, не отвергаем. Относительный проигрыш группы A минимален и равен 1% — второе число в выводе."
   ]
  },
  {
   "cell_type": "markdown",
   "metadata": {},
   "source": [
    "### Cтатистическая значимость различий в среднем чеке заказа между группами по «сырым» данным"
   ]
  },
  {
   "cell_type": "markdown",
   "metadata": {},
   "source": [
    "Так как в наших данных по средним чекам есть большие выбросы, воспользуемся критерием Манна - Уитни"
   ]
  },
  {
   "cell_type": "markdown",
   "metadata": {},
   "source": [
    "Сформулируем 2 стат.гипотезы: \n",
    "- H0: Средний чек  в группе A статистически НЕ ОТЛИЧАЕТСЯ от  среднего чека  в группе B\n",
    "- Н1: Средний чек  в группе A статистически ОТЛИЧАЕТСЯ от среднего чека в группе B"
   ]
  },
  {
   "cell_type": "code",
   "execution_count": 47,
   "metadata": {},
   "outputs": [
    {
     "name": "stdout",
     "output_type": "stream",
     "text": [
      "p-значение:  0.8294908998149533\n",
      "Не получилось отвергнуть H0: вывод о различии сделать нельзя\n"
     ]
    }
   ],
   "source": [
    "alpha = 0.05\n",
    "results = st.mannwhitneyu(orders[orders['group']=='A']['revenue'], orders[orders['group']=='B']['revenue'])\n",
    "pvalue = results.pvalue\n",
    "print('p-значение: ', pvalue)\n",
    "if (pvalue < alpha):\n",
    "    print(\"Отвергаем H0: разница статистически значима\")\n",
    "else:\n",
    "    print(\"Не получилось отвергнуть H0: вывод о различии сделать нельзя\")"
   ]
  },
  {
   "cell_type": "markdown",
   "metadata": {},
   "source": [
    "### Cтатистическая значимость различий в конверсии между группами по «очищенным» данным"
   ]
  },
  {
   "cell_type": "markdown",
   "metadata": {},
   "source": [
    "Введем наш отфильтрованную таблицу orders. Мы принял, то что считаем аномальными 3 и более заказов, и заказы на сумму выше 53904"
   ]
  },
  {
   "cell_type": "code",
   "execution_count": 48,
   "metadata": {},
   "outputs": [],
   "source": [
    "#отфильтровали по количетсву заказов \n",
    "clear_orders = orders[~orders['visitor_id'].isin(normal_orders)]\n",
    "#отфильтровали по сумме заказа\n",
    "clear_orders = clear_orders.query('revenue < 53904')"
   ]
  },
  {
   "cell_type": "code",
   "execution_count": 49,
   "metadata": {},
   "outputs": [],
   "source": [
    "conversion_clear = (clear_orders.groupby('group').agg({'transaction_id':'count'}).rename(columns={'transaction_id':'orders'}))\\\n",
    "                                                .join((visitors.groupby('group').agg({'visitors':'sum'}))).reset_index()"
   ]
  },
  {
   "cell_type": "markdown",
   "metadata": {},
   "source": [
    "Сформулируем 2 стат.гипотезы: \n",
    "- H0: Конверсия в группе A статистически НЕ ОТЛИЧАЕТСЯ от  конверсии в группе B\n",
    "- Н1: Конверсия в группе A статистически ОТЛИЧАЕТСЯ от  конверсии в группе B"
   ]
  },
  {
   "cell_type": "code",
   "execution_count": 50,
   "metadata": {},
   "outputs": [
    {
     "name": "stdout",
     "output_type": "stream",
     "text": [
      "p-значение:  0.005283098862493896\n",
      "Отвергаем нулевую гипотезу\n"
     ]
    }
   ],
   "source": [
    "alpha=0.05\n",
    "purchases = np.array(conversion_clear['orders'])\n",
    "leads = np.array(conversion_clear['visitors'])\n",
    "p1 = purchases[0] / leads[0]\n",
    "p2 = purchases[1] / leads[1]\n",
    "combined = (purchases[0] + purchases[1]) / (leads[0] + leads[1])\n",
    "difference = p1-p2\n",
    "z_value = difference / math.sqrt(combined * (1 - combined) * (1 / leads[0] + 1 / leads[1]))\n",
    "distr = st.norm(0,1)\n",
    "p_value = (1 - distr.cdf(abs(z_value))) * 2\n",
    "print('p-значение: ', p_value)\n",
    "if (p_value < alpha):\n",
    "    print(\"Отвергаем нулевую гипотезу\")\n",
    "else:\n",
    "    print(\"Не получилось отвергнуть нулевую гипотезу\")"
   ]
  },
  {
   "cell_type": "markdown",
   "metadata": {},
   "source": [
    "**Вывод**: \n",
    "- Даже по очищенным данным конверсия в группе B превышает ковнверсию в группу А"
   ]
  },
  {
   "cell_type": "markdown",
   "metadata": {},
   "source": [
    "Повторим наш код из пункта 4.10, только уже с очищенными данными "
   ]
  },
  {
   "cell_type": "code",
   "execution_count": 51,
   "metadata": {},
   "outputs": [
    {
     "name": "stdout",
     "output_type": "stream",
     "text": [
      "0.700\n",
      "0.010\n"
     ]
    }
   ],
   "source": [
    "#разобьем по группам A и B\n",
    "ordersByVisitorA = (\n",
    "    clear_orders[clear_orders['group'] == 'A']\n",
    "    .groupby('visitor_id', as_index=False)\n",
    "    .agg({'transaction_id': \"nunique\"})\\\n",
    "    ['transaction_id']\n",
    ")\n",
    "\n",
    "ordersByVisitorB = (\n",
    "    clear_orders[clear_orders['group'] == 'B']\n",
    "    .groupby('visitor_id', as_index=False)\n",
    "    .agg({'transaction_id': \"nunique\"})\\\n",
    "    ['transaction_id']\n",
    ")\n",
    "\n",
    "\n",
    "sampleA = pd.concat((ordersByVisitorA,pd.Series([0] * (visitors[visitors['group'] == 'A'].visitors.sum() - ordersByVisitorA.shape[0]))))\\\n",
    "  .value_counts()\n",
    "\n",
    "sampleB = pd.concat((ordersByVisitorB,pd.Series([0] * (visitors[visitors['group'] == 'B'].visitors.sum() - ordersByVisitorB.shape[0]))))\\\n",
    "  .value_counts()\n",
    "\n",
    "# проведём тест \n",
    "print(\"{0:.3f}\".format(st.mannwhitneyu(sampleA, sampleB)[1]))\n",
    "\n",
    "print(\"{0:.3f}\".format(sampleB.mean() / sampleA.mean() - 1))"
   ]
  },
  {
   "cell_type": "markdown",
   "metadata": {},
   "source": [
    "Вывод: По «очищенным» данным различий в среднем числе заказов групп A и B так же нет.\n",
    "Первое число — p-value = 0.7 больше 0.05. Значит, нулевую гипотезу о том, что статистически значимых различий в среднем числе заказов между группами нет, не отвергаем. Относительный проигрыш группы A минимален и равен 1% — второе число в выводе."
   ]
  },
  {
   "cell_type": "markdown",
   "metadata": {},
   "source": [
    "### Cтатистическую значимость различий в среднем чеке заказа между группами по «очищенным» данным"
   ]
  },
  {
   "cell_type": "markdown",
   "metadata": {},
   "source": [
    "Сформулируем 2 стат.гипотезы: \n",
    "- H0: Средний чек  в группе A статистически НЕ ОТЛИЧАЕТСЯ от  среднего чека  в группе B\n",
    "- Н1: Средний чек  в группе A статистически ОТЛИЧАЕТСЯ от среднего чека в группе B"
   ]
  },
  {
   "cell_type": "code",
   "execution_count": 52,
   "metadata": {},
   "outputs": [
    {
     "name": "stdout",
     "output_type": "stream",
     "text": [
      "p-значение:  0.8417126416851524\n",
      "Не получилось отвергнуть H0: вывод о различии сделать нельзя\n"
     ]
    }
   ],
   "source": [
    "alpha = 0.05\n",
    "results = st.mannwhitneyu(clear_orders[clear_orders['group']=='A']['revenue'], clear_orders[clear_orders['group']=='B']['revenue'])\n",
    "pvalue = results.pvalue\n",
    "print('p-значение: ', pvalue)\n",
    "if (pvalue < alpha):\n",
    "    print(\"Отвергаем H0: разница статистически значима\")\n",
    "else:\n",
    "    print(\"Не получилось отвергнуть H0: вывод о различии сделать нельзя\")"
   ]
  },
  {
   "cell_type": "markdown",
   "metadata": {},
   "source": [
    "### Графики кумулятивной конверсии и среднего чека по очищенным данным"
   ]
  },
  {
   "cell_type": "markdown",
   "metadata": {},
   "source": [
    "Просто повторим шаги 4.2 и 4.4 только для очищенных данных"
   ]
  },
  {
   "cell_type": "code",
   "execution_count": 53,
   "metadata": {},
   "outputs": [],
   "source": [
    "clear_orders_grouped = (clear_orders.groupby(['date','group'], as_index=False)\n",
    "                        .agg({'transaction_id':'nunique','visitor_id':'nunique','revenue':'sum'}))\\\n",
    "                        .rename(columns={'transaction_id':'orders','visitor_id':'buyers'})\n",
    "clear_orders_grouped['group_copy'] = clear_orders_grouped['group']\n",
    "clear_orders_grouped = clear_orders_grouped.set_index(['date','group'])\n",
    "orders_cumsum = clear_orders_grouped.sort_values(['date','group']).groupby('group_copy').cumsum().reset_index()"
   ]
  },
  {
   "cell_type": "code",
   "execution_count": 54,
   "metadata": {},
   "outputs": [],
   "source": [
    "# посчитаем сумму визитов по дням в каждой группе\n",
    "visitors_cumsum = visitors.groupby(['date','group'], as_index=False).agg({'visitors':'sum'}).sort_values(['date','group'])\n",
    "# скопируем group чтобы провести по ней кумулятивную сумму\n",
    "visitors_cumsum['group_copy'] = visitors_cumsum['group']\n",
    "visitors_cumsum = visitors_cumsum.set_index(['date','group']).groupby('group_copy').cumsum().reset_index()  "
   ]
  },
  {
   "cell_type": "code",
   "execution_count": 55,
   "metadata": {},
   "outputs": [],
   "source": [
    "cummulative = orders_cumsum.join(visitors_cumsum[['visitors']])"
   ]
  },
  {
   "cell_type": "code",
   "execution_count": 56,
   "metadata": {},
   "outputs": [],
   "source": [
    "cummulative['average_check'] = cummulative['revenue'] / cummulative['orders']\n",
    "cummulative['conversion'] = cummulative['orders'] / cummulative['visitors']"
   ]
  },
  {
   "cell_type": "code",
   "execution_count": 57,
   "metadata": {},
   "outputs": [
    {
     "data": {
      "image/png": "[encoded data removed]",
      "text/plain": [
       "<Figure size 432x288 with 1 Axes>"
      ]
     },
     "metadata": {
      "needs_background": "light"
     },
     "output_type": "display_data"
    }
   ],
   "source": [
    "cummulativeA = cummulative[cummulative['group']=='A'][['date', 'average_check']]\n",
    "cummulativeB = cummulative[cummulative['group']=='B'][['date', 'average_check']]\n",
    "plt.plot(cummulativeA.iloc[:,0].to_frame(), cummulativeA.iloc[:,1].to_frame(), label='A' )\n",
    "plt.plot(cummulativeB.iloc[:,0].to_frame(), cummulativeB.iloc[:,1].to_frame(), label='B')\n",
    "plt.title('График кумулятивного среднего чека по группам')\n",
    "plt.ylabel(\"Выручка\")\n",
    "plt.xticks(rotation=30)\n",
    "plt.legend()\n",
    "plt.show()"
   ]
  },
  {
   "cell_type": "code",
   "execution_count": 58,
   "metadata": {},
   "outputs": [
    {
     "data": {
      "image/png": "[encoded data removed]",
      "text/plain": [
       "<Figure size 432x288 with 1 Axes>"
      ]
     },
     "metadata": {
      "needs_background": "light"
     },
     "output_type": "display_data"
    }
   ],
   "source": [
    "cummulativeA = cummulative[cummulative['group']=='A'][['date', 'conversion']]\n",
    "cummulativeB = cummulative[cummulative['group']=='B'][['date', 'conversion']]\n",
    "plt.plot(cummulativeA.iloc[:,0].to_frame(), cummulativeA.iloc[:,1].to_frame(), label='A' )\n",
    "plt.plot(cummulativeB.iloc[:,0].to_frame(), cummulativeB.iloc[:,1].to_frame(), label='B')\n",
    "plt.title('График кумулятивной конверсии по группам')\n",
    "plt.ylabel(\"Выручка\")\n",
    "plt.ylim(0.001)\n",
    "plt.xticks(rotation=30)\n",
    "plt.legend()\n",
    "plt.show()"
   ]
  },
  {
   "cell_type": "markdown",
   "metadata": {},
   "source": [
    "## Вывод и решение по результатам теста"
   ]
  },
  {
   "cell_type": "markdown",
   "metadata": {},
   "source": [
    "Выводы:\n",
    "- График кумулятивной конверсии стабилизировался и при проверке гипотез ( и по сырым, и по очищенным данным) мы можем говорить, что конверсия в группе B лучше, чем в группе A\n",
    "- График среднего чек не стабилизировался. График кумулятивного среднего чека по очищенным данным показывает, что график скачет и каждый день группа A и группа B меняются местами\n",
    "- И по \"сырым\" и по \"очищенным\" данным различий в среднем числе заказов групп A и B нет\n",
    "- И по \"сырым\" и по \"очищенным\" данным различий в среднем чеке заказов групп A и B нет\n",
    "- Примем решение завершить тест и зафиксировать ,что \"группа В показала себя лучше\". Ведь при отсутствии статистической разницы между средним чеком у группы В будет бОльшая выручка, так как конверчия выше, чем в группе А. "
   ]
  }
 ],
 "metadata": {
  "ExecuteTimeLog": [
   {
    "duration": 1554,
    "start_time": "2022-06-29T14:57:01.026Z"
   },
   {
    "duration": 100,
    "start_time": "2022-06-29T15:09:05.966Z"
   },
   {
    "duration": 23,
    "start_time": "2022-06-29T15:11:03.332Z"
   },
   {
    "duration": 16,
    "start_time": "2022-06-29T15:11:23.015Z"
   },
   {
    "duration": 22,
    "start_time": "2022-06-29T15:16:31.924Z"
   },
   {
    "duration": 18,
    "start_time": "2022-06-29T15:21:03.989Z"
   },
   {
    "duration": 46,
    "start_time": "2022-06-30T06:10:11.397Z"
   },
   {
    "duration": 1324,
    "start_time": "2022-06-30T06:10:17.424Z"
   },
   {
    "duration": 106,
    "start_time": "2022-06-30T06:10:18.750Z"
   },
   {
    "duration": 20,
    "start_time": "2022-06-30T06:10:18.858Z"
   },
   {
    "duration": 22,
    "start_time": "2022-06-30T06:10:18.880Z"
   },
   {
    "duration": 19,
    "start_time": "2022-06-30T06:10:18.904Z"
   },
   {
    "duration": 9,
    "start_time": "2022-06-30T06:11:21.063Z"
   },
   {
    "duration": 12,
    "start_time": "2022-06-30T06:16:47.982Z"
   },
   {
    "duration": 9,
    "start_time": "2022-06-30T06:18:04.192Z"
   },
   {
    "duration": 3,
    "start_time": "2022-06-30T06:18:10.625Z"
   },
   {
    "duration": 8,
    "start_time": "2022-06-30T06:36:55.956Z"
   },
   {
    "duration": 68,
    "start_time": "2022-06-30T06:38:02.500Z"
   },
   {
    "duration": 5,
    "start_time": "2022-06-30T06:38:07.095Z"
   },
   {
    "duration": 6,
    "start_time": "2022-06-30T06:38:52.057Z"
   },
   {
    "duration": 10,
    "start_time": "2022-06-30T06:41:46.648Z"
   },
   {
    "duration": 17,
    "start_time": "2022-06-30T06:43:32.264Z"
   },
   {
    "duration": 864,
    "start_time": "2022-06-30T07:03:17.588Z"
   },
   {
    "duration": 6,
    "start_time": "2022-06-30T07:03:40.734Z"
   },
   {
    "duration": 11,
    "start_time": "2022-06-30T07:03:57.585Z"
   },
   {
    "duration": 5,
    "start_time": "2022-06-30T07:11:07.061Z"
   },
   {
    "duration": 11,
    "start_time": "2022-06-30T07:11:19.039Z"
   },
   {
    "duration": 24,
    "start_time": "2022-06-30T07:46:55.292Z"
   },
   {
    "duration": 14,
    "start_time": "2022-06-30T07:47:00.379Z"
   },
   {
    "duration": 17,
    "start_time": "2022-06-30T07:47:53.497Z"
   },
   {
    "duration": 4,
    "start_time": "2022-06-30T07:48:04.947Z"
   },
   {
    "duration": 6,
    "start_time": "2022-06-30T07:48:14.259Z"
   },
   {
    "duration": 10,
    "start_time": "2022-06-30T07:48:26.725Z"
   },
   {
    "duration": 5,
    "start_time": "2022-06-30T08:00:41.847Z"
   },
   {
    "duration": 275,
    "start_time": "2022-06-30T08:09:53.050Z"
   },
   {
    "duration": 202,
    "start_time": "2022-06-30T08:11:42.124Z"
   },
   {
    "duration": 186,
    "start_time": "2022-06-30T08:13:00.740Z"
   },
   {
    "duration": 182,
    "start_time": "2022-06-30T08:13:07.641Z"
   },
   {
    "duration": 184,
    "start_time": "2022-06-30T08:13:14.574Z"
   },
   {
    "duration": 219,
    "start_time": "2022-06-30T12:08:18.190Z"
   },
   {
    "duration": 430,
    "start_time": "2022-06-30T12:18:11.155Z"
   },
   {
    "duration": 300,
    "start_time": "2022-06-30T12:18:23.459Z"
   },
   {
    "duration": 328,
    "start_time": "2022-06-30T12:18:35.926Z"
   },
   {
    "duration": 202,
    "start_time": "2022-06-30T13:45:36.021Z"
   },
   {
    "duration": 284,
    "start_time": "2022-06-30T13:50:35.976Z"
   },
   {
    "duration": 264,
    "start_time": "2022-06-30T13:50:48.308Z"
   },
   {
    "duration": 1470,
    "start_time": "2022-07-01T06:47:06.494Z"
   },
   {
    "duration": 122,
    "start_time": "2022-07-01T06:47:07.966Z"
   },
   {
    "duration": 32,
    "start_time": "2022-07-01T06:47:08.090Z"
   },
   {
    "duration": 25,
    "start_time": "2022-07-01T06:47:08.125Z"
   },
   {
    "duration": 20,
    "start_time": "2022-07-01T06:47:08.152Z"
   },
   {
    "duration": 4,
    "start_time": "2022-07-01T06:47:08.173Z"
   },
   {
    "duration": 8,
    "start_time": "2022-07-01T06:47:08.179Z"
   },
   {
    "duration": 37,
    "start_time": "2022-07-01T06:47:08.188Z"
   },
   {
    "duration": 13,
    "start_time": "2022-07-01T06:47:08.230Z"
   },
   {
    "duration": 21,
    "start_time": "2022-07-01T06:47:08.247Z"
   },
   {
    "duration": 5,
    "start_time": "2022-07-01T06:47:08.270Z"
   },
   {
    "duration": 12,
    "start_time": "2022-07-01T06:47:08.277Z"
   },
   {
    "duration": 39,
    "start_time": "2022-07-01T06:47:08.291Z"
   },
   {
    "duration": 26,
    "start_time": "2022-07-01T06:47:08.332Z"
   },
   {
    "duration": 21,
    "start_time": "2022-07-01T06:47:08.360Z"
   },
   {
    "duration": 20,
    "start_time": "2022-07-01T06:47:08.383Z"
   },
   {
    "duration": 36,
    "start_time": "2022-07-01T06:47:08.405Z"
   },
   {
    "duration": 16,
    "start_time": "2022-07-01T06:47:08.443Z"
   },
   {
    "duration": 11,
    "start_time": "2022-07-01T06:47:08.461Z"
   },
   {
    "duration": 25,
    "start_time": "2022-07-01T06:47:08.474Z"
   },
   {
    "duration": 291,
    "start_time": "2022-07-01T06:47:08.501Z"
   },
   {
    "duration": 302,
    "start_time": "2022-07-01T06:47:08.794Z"
   },
   {
    "duration": 428,
    "start_time": "2022-07-01T06:47:09.098Z"
   },
   {
    "duration": 237,
    "start_time": "2022-07-01T06:47:09.529Z"
   },
   {
    "duration": 314,
    "start_time": "2022-07-01T06:47:09.768Z"
   },
   {
    "duration": 13,
    "start_time": "2022-07-01T06:50:36.642Z"
   },
   {
    "duration": 11,
    "start_time": "2022-07-01T06:51:26.175Z"
   },
   {
    "duration": 113,
    "start_time": "2022-07-01T06:51:45.077Z"
   },
   {
    "duration": 125,
    "start_time": "2022-07-01T06:51:59.175Z"
   },
   {
    "duration": 5,
    "start_time": "2022-07-01T07:08:48.292Z"
   },
   {
    "duration": 188,
    "start_time": "2022-07-01T07:14:26.204Z"
   },
   {
    "duration": 5,
    "start_time": "2022-07-01T07:19:36.838Z"
   },
   {
    "duration": 5,
    "start_time": "2022-07-01T07:20:45.779Z"
   },
   {
    "duration": 5,
    "start_time": "2022-07-01T07:20:54.073Z"
   },
   {
    "duration": 99,
    "start_time": "2022-07-01T07:32:09.758Z"
   },
   {
    "duration": 10,
    "start_time": "2022-07-01T07:32:20.021Z"
   },
   {
    "duration": 10,
    "start_time": "2022-07-01T07:32:28.737Z"
   },
   {
    "duration": 7,
    "start_time": "2022-07-01T07:37:43.702Z"
   },
   {
    "duration": 9,
    "start_time": "2022-07-01T07:44:31.133Z"
   },
   {
    "duration": 9,
    "start_time": "2022-07-01T07:48:08.248Z"
   },
   {
    "duration": 1334,
    "start_time": "2022-07-01T07:55:11.270Z"
   },
   {
    "duration": 4,
    "start_time": "2022-07-01T07:55:15.375Z"
   },
   {
    "duration": 4,
    "start_time": "2022-07-01T07:56:06.155Z"
   },
   {
    "duration": 4,
    "start_time": "2022-07-01T07:57:06.361Z"
   },
   {
    "duration": 11,
    "start_time": "2022-07-01T08:00:30.755Z"
   },
   {
    "duration": 10,
    "start_time": "2022-07-01T08:00:38.180Z"
   },
   {
    "duration": 8,
    "start_time": "2022-07-01T08:02:05.532Z"
   },
   {
    "duration": 7,
    "start_time": "2022-07-01T08:05:47.431Z"
   },
   {
    "duration": 9,
    "start_time": "2022-07-01T08:06:44.656Z"
   },
   {
    "duration": 1149,
    "start_time": "2022-07-01T08:43:41.962Z"
   },
   {
    "duration": 39,
    "start_time": "2022-07-01T08:43:43.113Z"
   },
   {
    "duration": 21,
    "start_time": "2022-07-01T08:43:43.153Z"
   },
   {
    "duration": 20,
    "start_time": "2022-07-01T08:43:43.177Z"
   },
   {
    "duration": 29,
    "start_time": "2022-07-01T08:43:43.199Z"
   },
   {
    "duration": 4,
    "start_time": "2022-07-01T08:43:43.230Z"
   },
   {
    "duration": 8,
    "start_time": "2022-07-01T08:43:43.236Z"
   },
   {
    "duration": 13,
    "start_time": "2022-07-01T08:43:43.246Z"
   },
   {
    "duration": 15,
    "start_time": "2022-07-01T08:43:43.261Z"
   },
   {
    "duration": 17,
    "start_time": "2022-07-01T08:43:43.278Z"
   },
   {
    "duration": 29,
    "start_time": "2022-07-01T08:43:43.296Z"
   },
   {
    "duration": 12,
    "start_time": "2022-07-01T08:43:43.327Z"
   },
   {
    "duration": 4,
    "start_time": "2022-07-01T08:43:43.341Z"
   },
   {
    "duration": 11,
    "start_time": "2022-07-01T08:43:43.347Z"
   },
   {
    "duration": 19,
    "start_time": "2022-07-01T08:43:43.359Z"
   },
   {
    "duration": 44,
    "start_time": "2022-07-01T08:43:43.380Z"
   },
   {
    "duration": 15,
    "start_time": "2022-07-01T08:43:43.426Z"
   },
   {
    "duration": 6,
    "start_time": "2022-07-01T08:43:43.443Z"
   },
   {
    "duration": 9,
    "start_time": "2022-07-01T08:43:43.451Z"
   },
   {
    "duration": 12,
    "start_time": "2022-07-01T08:43:43.462Z"
   },
   {
    "duration": 287,
    "start_time": "2022-07-01T08:43:43.476Z"
   },
   {
    "duration": 208,
    "start_time": "2022-07-01T08:43:43.765Z"
   },
   {
    "duration": 289,
    "start_time": "2022-07-01T08:43:43.976Z"
   },
   {
    "duration": 220,
    "start_time": "2022-07-01T08:43:44.266Z"
   },
   {
    "duration": 318,
    "start_time": "2022-07-01T08:43:44.487Z"
   },
   {
    "duration": 17,
    "start_time": "2022-07-01T08:43:44.807Z"
   },
   {
    "duration": 118,
    "start_time": "2022-07-01T08:43:44.825Z"
   },
   {
    "duration": 5,
    "start_time": "2022-07-01T08:43:44.947Z"
   },
   {
    "duration": 12,
    "start_time": "2022-07-01T08:43:44.954Z"
   },
   {
    "duration": 132,
    "start_time": "2022-07-01T08:43:44.968Z"
   },
   {
    "duration": 5,
    "start_time": "2022-07-01T08:43:45.101Z"
   },
   {
    "duration": 26,
    "start_time": "2022-07-01T08:43:45.107Z"
   },
   {
    "duration": 18,
    "start_time": "2022-07-01T08:43:45.134Z"
   },
   {
    "duration": 80,
    "start_time": "2022-07-01T08:43:45.153Z"
   },
   {
    "duration": 14,
    "start_time": "2022-07-01T08:43:45.234Z"
   },
   {
    "duration": 10,
    "start_time": "2022-07-01T08:43:45.250Z"
   },
   {
    "duration": 7,
    "start_time": "2022-07-01T08:43:45.261Z"
   },
   {
    "duration": 10,
    "start_time": "2022-07-01T08:43:45.270Z"
   },
   {
    "duration": 11,
    "start_time": "2022-07-01T08:43:45.281Z"
   },
   {
    "duration": 119,
    "start_time": "2022-07-01T12:45:44.647Z"
   },
   {
    "duration": 145,
    "start_time": "2022-07-01T12:55:07.499Z"
   },
   {
    "duration": 108,
    "start_time": "2022-07-01T12:58:34.219Z"
   },
   {
    "duration": 1279,
    "start_time": "2022-07-01T13:18:44.350Z"
   },
   {
    "duration": 41,
    "start_time": "2022-07-01T13:18:45.631Z"
   },
   {
    "duration": 26,
    "start_time": "2022-07-01T13:18:45.674Z"
   },
   {
    "duration": 28,
    "start_time": "2022-07-01T13:18:45.703Z"
   },
   {
    "duration": 23,
    "start_time": "2022-07-01T13:18:45.732Z"
   },
   {
    "duration": 20,
    "start_time": "2022-07-01T13:18:45.757Z"
   },
   {
    "duration": 31,
    "start_time": "2022-07-01T13:18:45.779Z"
   },
   {
    "duration": 14,
    "start_time": "2022-07-01T13:18:45.812Z"
   },
   {
    "duration": 16,
    "start_time": "2022-07-01T13:18:45.829Z"
   },
   {
    "duration": 21,
    "start_time": "2022-07-01T13:18:45.848Z"
   },
   {
    "duration": 7,
    "start_time": "2022-07-01T13:18:45.871Z"
   },
   {
    "duration": 13,
    "start_time": "2022-07-01T13:18:45.879Z"
   },
   {
    "duration": 37,
    "start_time": "2022-07-01T13:18:45.894Z"
   },
   {
    "duration": 19,
    "start_time": "2022-07-01T13:18:45.932Z"
   },
   {
    "duration": 33,
    "start_time": "2022-07-01T13:18:45.953Z"
   },
   {
    "duration": 27,
    "start_time": "2022-07-01T13:18:45.989Z"
   },
   {
    "duration": 21,
    "start_time": "2022-07-01T13:18:46.019Z"
   },
   {
    "duration": 19,
    "start_time": "2022-07-01T13:18:46.042Z"
   },
   {
    "duration": 20,
    "start_time": "2022-07-01T13:18:46.063Z"
   },
   {
    "duration": 26,
    "start_time": "2022-07-01T13:18:46.085Z"
   },
   {
    "duration": 300,
    "start_time": "2022-07-01T13:18:46.113Z"
   },
   {
    "duration": 230,
    "start_time": "2022-07-01T13:18:46.415Z"
   },
   {
    "duration": 337,
    "start_time": "2022-07-01T13:18:46.647Z"
   },
   {
    "duration": 217,
    "start_time": "2022-07-01T13:18:46.986Z"
   },
   {
    "duration": 348,
    "start_time": "2022-07-01T13:18:47.205Z"
   },
   {
    "duration": 14,
    "start_time": "2022-07-01T13:18:47.554Z"
   },
   {
    "duration": 151,
    "start_time": "2022-07-01T13:18:47.570Z"
   },
   {
    "duration": 5,
    "start_time": "2022-07-01T13:18:47.725Z"
   },
   {
    "duration": 16,
    "start_time": "2022-07-01T13:18:47.732Z"
   },
   {
    "duration": 143,
    "start_time": "2022-07-01T13:18:47.750Z"
   },
   {
    "duration": 5,
    "start_time": "2022-07-01T13:18:47.895Z"
   },
   {
    "duration": 27,
    "start_time": "2022-07-01T13:18:47.901Z"
   },
   {
    "duration": 14,
    "start_time": "2022-07-01T13:18:47.930Z"
   },
   {
    "duration": 102,
    "start_time": "2022-07-01T13:18:47.947Z"
   },
   {
    "duration": 24,
    "start_time": "2022-07-01T13:18:48.050Z"
   },
   {
    "duration": 22,
    "start_time": "2022-07-01T13:18:48.076Z"
   },
   {
    "duration": 16,
    "start_time": "2022-07-01T13:18:48.100Z"
   },
   {
    "duration": 31,
    "start_time": "2022-07-01T13:18:48.118Z"
   },
   {
    "duration": 12,
    "start_time": "2022-07-01T13:18:48.151Z"
   },
   {
    "duration": 102,
    "start_time": "2022-07-01T13:18:48.165Z"
   },
   {
    "duration": 1222,
    "start_time": "2022-07-01T14:32:28.534Z"
   },
   {
    "duration": 103,
    "start_time": "2022-07-01T14:38:06.544Z"
   },
   {
    "duration": 7,
    "start_time": "2022-07-01T14:38:12.474Z"
   },
   {
    "duration": 131,
    "start_time": "2022-07-01T14:38:12.495Z"
   },
   {
    "duration": 19,
    "start_time": "2022-07-01T14:38:12.628Z"
   },
   {
    "duration": 20,
    "start_time": "2022-07-01T14:38:12.649Z"
   },
   {
    "duration": 33,
    "start_time": "2022-07-01T14:38:12.675Z"
   },
   {
    "duration": 9,
    "start_time": "2022-07-01T14:38:12.711Z"
   },
   {
    "duration": 11,
    "start_time": "2022-07-01T14:38:12.721Z"
   },
   {
    "duration": 10,
    "start_time": "2022-07-01T14:38:12.733Z"
   },
   {
    "duration": 14,
    "start_time": "2022-07-01T14:39:01.448Z"
   },
   {
    "duration": 5,
    "start_time": "2022-07-01T14:39:15.983Z"
   },
   {
    "duration": 13,
    "start_time": "2022-07-01T14:39:37.490Z"
   },
   {
    "duration": 1151,
    "start_time": "2022-07-01T14:42:55.630Z"
   },
   {
    "duration": 12,
    "start_time": "2022-07-01T14:43:19.890Z"
   },
   {
    "duration": 7,
    "start_time": "2022-07-01T14:43:28.183Z"
   },
   {
    "duration": 6,
    "start_time": "2022-07-01T14:43:41.014Z"
   },
   {
    "duration": 13,
    "start_time": "2022-07-01T14:45:40.768Z"
   },
   {
    "duration": 17,
    "start_time": "2022-07-01T14:46:54.337Z"
   },
   {
    "duration": 16,
    "start_time": "2022-07-01T14:47:30.474Z"
   },
   {
    "duration": 7,
    "start_time": "2022-07-01T14:48:42.096Z"
   },
   {
    "duration": 836,
    "start_time": "2022-07-01T14:49:55.181Z"
   },
   {
    "duration": 6,
    "start_time": "2022-07-01T14:50:05.374Z"
   },
   {
    "duration": 7,
    "start_time": "2022-07-01T14:50:52.955Z"
   },
   {
    "duration": 8,
    "start_time": "2022-07-01T14:50:59.927Z"
   },
   {
    "duration": 1274,
    "start_time": "2022-07-03T09:44:58.884Z"
   },
   {
    "duration": 251,
    "start_time": "2022-07-03T09:45:00.160Z"
   },
   {
    "duration": 27,
    "start_time": "2022-07-03T09:45:00.413Z"
   },
   {
    "duration": 42,
    "start_time": "2022-07-03T09:45:00.443Z"
   },
   {
    "duration": 22,
    "start_time": "2022-07-03T09:45:00.487Z"
   },
   {
    "duration": 17,
    "start_time": "2022-07-03T09:45:00.510Z"
   },
   {
    "duration": 14,
    "start_time": "2022-07-03T09:45:00.530Z"
   },
   {
    "duration": 11,
    "start_time": "2022-07-03T09:45:00.546Z"
   },
   {
    "duration": 17,
    "start_time": "2022-07-03T09:45:00.558Z"
   },
   {
    "duration": 12,
    "start_time": "2022-07-03T09:45:00.577Z"
   },
   {
    "duration": 17,
    "start_time": "2022-07-03T09:45:00.591Z"
   },
   {
    "duration": 8,
    "start_time": "2022-07-03T09:45:00.609Z"
   },
   {
    "duration": 15,
    "start_time": "2022-07-03T09:47:26.668Z"
   },
   {
    "duration": 12,
    "start_time": "2022-07-03T09:49:07.632Z"
   },
   {
    "duration": 110,
    "start_time": "2022-07-03T09:49:43.882Z"
   },
   {
    "duration": 14,
    "start_time": "2022-07-03T09:50:09.719Z"
   },
   {
    "duration": 10,
    "start_time": "2022-07-03T09:51:30.875Z"
   },
   {
    "duration": 7,
    "start_time": "2022-07-03T09:51:41.693Z"
   },
   {
    "duration": 10,
    "start_time": "2022-07-03T09:51:48.529Z"
   },
   {
    "duration": 14,
    "start_time": "2022-07-03T09:51:59.410Z"
   },
   {
    "duration": 16,
    "start_time": "2022-07-03T09:52:14.354Z"
   },
   {
    "duration": 14,
    "start_time": "2022-07-03T09:52:51.674Z"
   },
   {
    "duration": 25,
    "start_time": "2022-07-03T09:57:11.730Z"
   },
   {
    "duration": 6,
    "start_time": "2022-07-03T09:58:09.672Z"
   },
   {
    "duration": 78,
    "start_time": "2022-07-03T10:00:38.577Z"
   },
   {
    "duration": 9,
    "start_time": "2022-07-03T10:00:43.586Z"
   },
   {
    "duration": 8,
    "start_time": "2022-07-03T10:06:04.893Z"
   },
   {
    "duration": 10,
    "start_time": "2022-07-03T10:06:13.480Z"
   },
   {
    "duration": 12,
    "start_time": "2022-07-03T10:16:09.728Z"
   },
   {
    "duration": 4,
    "start_time": "2022-07-03T10:16:48.398Z"
   },
   {
    "duration": 3,
    "start_time": "2022-07-03T10:16:57.093Z"
   },
   {
    "duration": 8,
    "start_time": "2022-07-03T10:17:02.789Z"
   },
   {
    "duration": 34,
    "start_time": "2022-07-03T10:17:50.037Z"
   },
   {
    "duration": 131,
    "start_time": "2022-07-03T10:18:07.733Z"
   },
   {
    "duration": 19,
    "start_time": "2022-07-03T10:18:12.874Z"
   },
   {
    "duration": 20,
    "start_time": "2022-07-03T10:18:42.535Z"
   },
   {
    "duration": 10,
    "start_time": "2022-07-03T10:22:23.878Z"
   },
   {
    "duration": 9,
    "start_time": "2022-07-03T10:22:42.069Z"
   },
   {
    "duration": 8,
    "start_time": "2022-07-03T10:22:47.193Z"
   },
   {
    "duration": 53,
    "start_time": "2022-07-03T10:23:47.701Z"
   },
   {
    "duration": 100,
    "start_time": "2022-07-03T10:24:00.273Z"
   },
   {
    "duration": 19,
    "start_time": "2022-07-03T10:24:05.931Z"
   },
   {
    "duration": 10,
    "start_time": "2022-07-03T10:24:11.721Z"
   },
   {
    "duration": 26,
    "start_time": "2022-07-03T10:24:32.855Z"
   },
   {
    "duration": 21,
    "start_time": "2022-07-03T10:24:51.777Z"
   },
   {
    "duration": 4,
    "start_time": "2022-07-03T10:27:20.577Z"
   },
   {
    "duration": 89,
    "start_time": "2022-07-03T10:27:20.617Z"
   },
   {
    "duration": 22,
    "start_time": "2022-07-03T10:27:20.709Z"
   },
   {
    "duration": 29,
    "start_time": "2022-07-03T10:27:20.733Z"
   },
   {
    "duration": 34,
    "start_time": "2022-07-03T10:27:20.765Z"
   },
   {
    "duration": 5,
    "start_time": "2022-07-03T10:27:20.802Z"
   },
   {
    "duration": 16,
    "start_time": "2022-07-03T10:27:20.809Z"
   },
   {
    "duration": 8,
    "start_time": "2022-07-03T10:27:20.827Z"
   },
   {
    "duration": 19,
    "start_time": "2022-07-03T10:27:20.844Z"
   },
   {
    "duration": 18,
    "start_time": "2022-07-03T10:27:20.865Z"
   },
   {
    "duration": 16,
    "start_time": "2022-07-03T10:27:20.886Z"
   },
   {
    "duration": 14,
    "start_time": "2022-07-03T10:27:20.904Z"
   },
   {
    "duration": 19,
    "start_time": "2022-07-03T10:27:20.920Z"
   },
   {
    "duration": 41,
    "start_time": "2022-07-03T10:27:20.941Z"
   },
   {
    "duration": 0,
    "start_time": "2022-07-03T10:27:20.984Z"
   },
   {
    "duration": 0,
    "start_time": "2022-07-03T10:27:20.985Z"
   },
   {
    "duration": 0,
    "start_time": "2022-07-03T10:27:20.988Z"
   },
   {
    "duration": 0,
    "start_time": "2022-07-03T10:27:20.989Z"
   },
   {
    "duration": 0,
    "start_time": "2022-07-03T10:27:20.991Z"
   },
   {
    "duration": 0,
    "start_time": "2022-07-03T10:27:20.993Z"
   },
   {
    "duration": 0,
    "start_time": "2022-07-03T10:27:20.994Z"
   },
   {
    "duration": 0,
    "start_time": "2022-07-03T10:27:20.995Z"
   },
   {
    "duration": 0,
    "start_time": "2022-07-03T10:27:20.999Z"
   },
   {
    "duration": 0,
    "start_time": "2022-07-03T10:27:21.000Z"
   },
   {
    "duration": 0,
    "start_time": "2022-07-03T10:27:21.002Z"
   },
   {
    "duration": 0,
    "start_time": "2022-07-03T10:27:21.003Z"
   },
   {
    "duration": 0,
    "start_time": "2022-07-03T10:27:21.005Z"
   },
   {
    "duration": 0,
    "start_time": "2022-07-03T10:27:21.007Z"
   },
   {
    "duration": 41,
    "start_time": "2022-07-03T10:27:21.011Z"
   },
   {
    "duration": 0,
    "start_time": "2022-07-03T10:27:21.053Z"
   },
   {
    "duration": 0,
    "start_time": "2022-07-03T10:27:21.054Z"
   },
   {
    "duration": 0,
    "start_time": "2022-07-03T10:27:21.055Z"
   },
   {
    "duration": 10,
    "start_time": "2022-07-03T10:27:21.068Z"
   },
   {
    "duration": 16,
    "start_time": "2022-07-03T10:27:21.081Z"
   },
   {
    "duration": 0,
    "start_time": "2022-07-03T10:27:21.099Z"
   },
   {
    "duration": 301,
    "start_time": "2022-07-03T10:27:21.109Z"
   },
   {
    "duration": 6,
    "start_time": "2022-07-03T10:27:21.414Z"
   },
   {
    "duration": 51,
    "start_time": "2022-07-03T10:27:21.422Z"
   },
   {
    "duration": 19,
    "start_time": "2022-07-03T10:27:21.476Z"
   },
   {
    "duration": 10,
    "start_time": "2022-07-03T10:27:21.497Z"
   },
   {
    "duration": 21,
    "start_time": "2022-07-03T10:27:21.509Z"
   },
   {
    "duration": 14,
    "start_time": "2022-07-03T10:27:33.573Z"
   },
   {
    "duration": 4,
    "start_time": "2022-07-03T10:27:45.777Z"
   },
   {
    "duration": 94,
    "start_time": "2022-07-03T10:27:45.807Z"
   },
   {
    "duration": 26,
    "start_time": "2022-07-03T10:27:45.904Z"
   },
   {
    "duration": 35,
    "start_time": "2022-07-03T10:27:45.932Z"
   },
   {
    "duration": 29,
    "start_time": "2022-07-03T10:27:45.969Z"
   },
   {
    "duration": 4,
    "start_time": "2022-07-03T10:27:46.001Z"
   },
   {
    "duration": 9,
    "start_time": "2022-07-03T10:27:46.007Z"
   },
   {
    "duration": 29,
    "start_time": "2022-07-03T10:27:46.018Z"
   },
   {
    "duration": 50,
    "start_time": "2022-07-03T10:27:46.049Z"
   },
   {
    "duration": 14,
    "start_time": "2022-07-03T10:27:46.105Z"
   },
   {
    "duration": 10,
    "start_time": "2022-07-03T10:27:46.121Z"
   },
   {
    "duration": 13,
    "start_time": "2022-07-03T10:27:46.133Z"
   },
   {
    "duration": 32,
    "start_time": "2022-07-03T10:27:46.154Z"
   },
   {
    "duration": 21,
    "start_time": "2022-07-03T10:27:46.189Z"
   },
   {
    "duration": 0,
    "start_time": "2022-07-03T10:27:46.213Z"
   },
   {
    "duration": 0,
    "start_time": "2022-07-03T10:27:46.216Z"
   },
   {
    "duration": 0,
    "start_time": "2022-07-03T10:27:46.217Z"
   },
   {
    "duration": 0,
    "start_time": "2022-07-03T10:27:46.219Z"
   },
   {
    "duration": 0,
    "start_time": "2022-07-03T10:27:46.220Z"
   },
   {
    "duration": 0,
    "start_time": "2022-07-03T10:27:46.222Z"
   },
   {
    "duration": 0,
    "start_time": "2022-07-03T10:27:46.223Z"
   },
   {
    "duration": 0,
    "start_time": "2022-07-03T10:27:46.250Z"
   },
   {
    "duration": 0,
    "start_time": "2022-07-03T10:27:46.252Z"
   },
   {
    "duration": 0,
    "start_time": "2022-07-03T10:27:46.253Z"
   },
   {
    "duration": 0,
    "start_time": "2022-07-03T10:27:46.254Z"
   },
   {
    "duration": 0,
    "start_time": "2022-07-03T10:27:46.256Z"
   },
   {
    "duration": 0,
    "start_time": "2022-07-03T10:27:46.257Z"
   },
   {
    "duration": 0,
    "start_time": "2022-07-03T10:27:46.258Z"
   },
   {
    "duration": 0,
    "start_time": "2022-07-03T10:27:46.259Z"
   },
   {
    "duration": 0,
    "start_time": "2022-07-03T10:27:46.260Z"
   },
   {
    "duration": 0,
    "start_time": "2022-07-03T10:27:46.262Z"
   },
   {
    "duration": 0,
    "start_time": "2022-07-03T10:27:46.263Z"
   },
   {
    "duration": 0,
    "start_time": "2022-07-03T10:27:46.269Z"
   },
   {
    "duration": 0,
    "start_time": "2022-07-03T10:27:46.270Z"
   },
   {
    "duration": 0,
    "start_time": "2022-07-03T10:27:46.272Z"
   },
   {
    "duration": 0,
    "start_time": "2022-07-03T10:27:46.273Z"
   },
   {
    "duration": 0,
    "start_time": "2022-07-03T10:27:46.274Z"
   },
   {
    "duration": 0,
    "start_time": "2022-07-03T10:27:46.276Z"
   },
   {
    "duration": 8,
    "start_time": "2022-07-03T10:27:46.279Z"
   },
   {
    "duration": 14,
    "start_time": "2022-07-03T10:27:46.289Z"
   },
   {
    "duration": 41,
    "start_time": "2022-07-03T10:27:46.347Z"
   },
   {
    "duration": 11,
    "start_time": "2022-07-03T10:27:46.391Z"
   },
   {
    "duration": 1643,
    "start_time": "2022-07-03T10:28:58.686Z"
   },
   {
    "duration": 3,
    "start_time": "2022-07-03T10:29:13.314Z"
   },
   {
    "duration": 82,
    "start_time": "2022-07-03T10:29:13.327Z"
   },
   {
    "duration": 17,
    "start_time": "2022-07-03T10:29:13.411Z"
   },
   {
    "duration": 28,
    "start_time": "2022-07-03T10:29:13.430Z"
   },
   {
    "duration": 21,
    "start_time": "2022-07-03T10:29:13.466Z"
   },
   {
    "duration": 6,
    "start_time": "2022-07-03T10:29:13.489Z"
   },
   {
    "duration": 19,
    "start_time": "2022-07-03T10:29:13.497Z"
   },
   {
    "duration": 26,
    "start_time": "2022-07-03T10:29:13.518Z"
   },
   {
    "duration": 40,
    "start_time": "2022-07-03T10:29:13.545Z"
   },
   {
    "duration": 9,
    "start_time": "2022-07-03T10:29:13.587Z"
   },
   {
    "duration": 9,
    "start_time": "2022-07-03T10:29:13.601Z"
   },
   {
    "duration": 9,
    "start_time": "2022-07-03T10:29:13.612Z"
   },
   {
    "duration": 28,
    "start_time": "2022-07-03T10:29:13.623Z"
   },
   {
    "duration": 23,
    "start_time": "2022-07-03T10:30:46.238Z"
   },
   {
    "duration": 24,
    "start_time": "2022-07-03T10:31:21.735Z"
   },
   {
    "duration": 6,
    "start_time": "2022-07-03T10:32:10.167Z"
   },
   {
    "duration": 8,
    "start_time": "2022-07-03T10:32:51.002Z"
   },
   {
    "duration": 18,
    "start_time": "2022-07-03T10:35:13.738Z"
   },
   {
    "duration": 14,
    "start_time": "2022-07-03T10:35:41.879Z"
   },
   {
    "duration": 8,
    "start_time": "2022-07-03T10:36:06.728Z"
   },
   {
    "duration": 6,
    "start_time": "2022-07-03T10:36:14.670Z"
   },
   {
    "duration": 11,
    "start_time": "2022-07-03T10:36:15.810Z"
   },
   {
    "duration": 3,
    "start_time": "2022-07-03T10:36:25.092Z"
   },
   {
    "duration": 87,
    "start_time": "2022-07-03T10:36:25.105Z"
   },
   {
    "duration": 19,
    "start_time": "2022-07-03T10:36:25.195Z"
   },
   {
    "duration": 23,
    "start_time": "2022-07-03T10:36:25.215Z"
   },
   {
    "duration": 26,
    "start_time": "2022-07-03T10:36:25.240Z"
   },
   {
    "duration": 4,
    "start_time": "2022-07-03T10:36:25.268Z"
   },
   {
    "duration": 13,
    "start_time": "2022-07-03T10:36:25.273Z"
   },
   {
    "duration": 10,
    "start_time": "2022-07-03T10:36:25.287Z"
   },
   {
    "duration": 47,
    "start_time": "2022-07-03T10:36:25.298Z"
   },
   {
    "duration": 21,
    "start_time": "2022-07-03T10:36:25.350Z"
   },
   {
    "duration": 12,
    "start_time": "2022-07-03T10:36:25.373Z"
   },
   {
    "duration": 12,
    "start_time": "2022-07-03T10:36:25.387Z"
   },
   {
    "duration": 11,
    "start_time": "2022-07-03T10:36:25.401Z"
   },
   {
    "duration": 10,
    "start_time": "2022-07-03T10:36:28.670Z"
   },
   {
    "duration": 9,
    "start_time": "2022-07-03T10:37:13.800Z"
   },
   {
    "duration": 27,
    "start_time": "2022-07-03T10:41:36.539Z"
   },
   {
    "duration": 54,
    "start_time": "2022-07-03T10:41:39.314Z"
   },
   {
    "duration": 7,
    "start_time": "2022-07-03T10:41:46.483Z"
   },
   {
    "duration": 15,
    "start_time": "2022-07-03T10:41:47.399Z"
   },
   {
    "duration": 15,
    "start_time": "2022-07-03T10:42:30.341Z"
   },
   {
    "duration": 14,
    "start_time": "2022-07-03T10:42:54.405Z"
   },
   {
    "duration": 23,
    "start_time": "2022-07-03T10:52:24.400Z"
   },
   {
    "duration": 6,
    "start_time": "2022-07-03T10:53:02.830Z"
   },
   {
    "duration": 15,
    "start_time": "2022-07-03T10:53:43.641Z"
   },
   {
    "duration": 8,
    "start_time": "2022-07-03T10:53:51.223Z"
   },
   {
    "duration": 3,
    "start_time": "2022-07-03T11:16:59.185Z"
   },
   {
    "duration": 92,
    "start_time": "2022-07-03T11:16:59.193Z"
   },
   {
    "duration": 17,
    "start_time": "2022-07-03T11:16:59.287Z"
   },
   {
    "duration": 23,
    "start_time": "2022-07-03T11:16:59.306Z"
   },
   {
    "duration": 30,
    "start_time": "2022-07-03T11:16:59.330Z"
   },
   {
    "duration": 9,
    "start_time": "2022-07-03T11:16:59.363Z"
   },
   {
    "duration": 9,
    "start_time": "2022-07-03T11:16:59.373Z"
   },
   {
    "duration": 12,
    "start_time": "2022-07-03T11:16:59.384Z"
   },
   {
    "duration": 5,
    "start_time": "2022-07-03T11:16:59.397Z"
   },
   {
    "duration": 8,
    "start_time": "2022-07-03T11:16:59.404Z"
   },
   {
    "duration": 39,
    "start_time": "2022-07-03T11:16:59.413Z"
   },
   {
    "duration": 16,
    "start_time": "2022-07-03T11:16:59.454Z"
   },
   {
    "duration": 9,
    "start_time": "2022-07-03T11:16:59.472Z"
   },
   {
    "duration": 26,
    "start_time": "2022-07-03T11:16:59.483Z"
   },
   {
    "duration": 12,
    "start_time": "2022-07-03T11:16:59.513Z"
   },
   {
    "duration": 38,
    "start_time": "2022-07-03T11:16:59.527Z"
   },
   {
    "duration": 24,
    "start_time": "2022-07-03T11:16:59.566Z"
   },
   {
    "duration": 5,
    "start_time": "2022-07-03T11:16:59.592Z"
   },
   {
    "duration": 15,
    "start_time": "2022-07-03T11:16:59.599Z"
   },
   {
    "duration": 33,
    "start_time": "2022-07-03T11:16:59.616Z"
   },
   {
    "duration": 11,
    "start_time": "2022-07-03T11:16:59.657Z"
   },
   {
    "duration": 26,
    "start_time": "2022-07-03T11:16:59.670Z"
   },
   {
    "duration": 15,
    "start_time": "2022-07-03T11:16:59.698Z"
   },
   {
    "duration": 33,
    "start_time": "2022-07-03T11:16:59.715Z"
   },
   {
    "duration": 17,
    "start_time": "2022-07-03T11:16:59.749Z"
   },
   {
    "duration": 8,
    "start_time": "2022-07-03T11:16:59.767Z"
   },
   {
    "duration": 14,
    "start_time": "2022-07-03T11:16:59.776Z"
   },
   {
    "duration": 328,
    "start_time": "2022-07-03T11:17:08.101Z"
   },
   {
    "duration": 223,
    "start_time": "2022-07-03T11:21:58.840Z"
   },
   {
    "duration": 46,
    "start_time": "2022-07-03T14:51:26.818Z"
   },
   {
    "duration": 1283,
    "start_time": "2022-07-03T14:51:31.201Z"
   },
   {
    "duration": 140,
    "start_time": "2022-07-03T14:51:32.487Z"
   },
   {
    "duration": 25,
    "start_time": "2022-07-03T14:51:32.629Z"
   },
   {
    "duration": 25,
    "start_time": "2022-07-03T14:51:32.656Z"
   },
   {
    "duration": 23,
    "start_time": "2022-07-03T14:51:32.682Z"
   },
   {
    "duration": 10,
    "start_time": "2022-07-03T14:51:32.707Z"
   },
   {
    "duration": 8,
    "start_time": "2022-07-03T14:51:32.718Z"
   },
   {
    "duration": 7,
    "start_time": "2022-07-03T14:51:32.728Z"
   },
   {
    "duration": 6,
    "start_time": "2022-07-03T14:51:32.736Z"
   },
   {
    "duration": 9,
    "start_time": "2022-07-03T14:51:32.767Z"
   },
   {
    "duration": 15,
    "start_time": "2022-07-03T14:51:32.777Z"
   },
   {
    "duration": 14,
    "start_time": "2022-07-03T14:51:32.795Z"
   },
   {
    "duration": 7,
    "start_time": "2022-07-03T14:51:32.811Z"
   },
   {
    "duration": 16,
    "start_time": "2022-07-03T14:51:32.820Z"
   },
   {
    "duration": 38,
    "start_time": "2022-07-03T14:51:32.838Z"
   },
   {
    "duration": 24,
    "start_time": "2022-07-03T14:51:32.877Z"
   },
   {
    "duration": 22,
    "start_time": "2022-07-03T14:51:32.903Z"
   },
   {
    "duration": 10,
    "start_time": "2022-07-03T14:51:32.927Z"
   },
   {
    "duration": 14,
    "start_time": "2022-07-03T14:51:32.939Z"
   },
   {
    "duration": 19,
    "start_time": "2022-07-03T14:51:32.954Z"
   },
   {
    "duration": 25,
    "start_time": "2022-07-03T14:51:32.974Z"
   },
   {
    "duration": 20,
    "start_time": "2022-07-03T14:51:33.001Z"
   },
   {
    "duration": 17,
    "start_time": "2022-07-03T14:51:33.022Z"
   },
   {
    "duration": 31,
    "start_time": "2022-07-03T14:51:33.041Z"
   },
   {
    "duration": 21,
    "start_time": "2022-07-03T14:51:33.074Z"
   },
   {
    "duration": 11,
    "start_time": "2022-07-03T14:51:33.097Z"
   },
   {
    "duration": 21,
    "start_time": "2022-07-03T14:51:33.110Z"
   },
   {
    "duration": 274,
    "start_time": "2022-07-03T14:51:33.134Z"
   },
   {
    "duration": 225,
    "start_time": "2022-07-03T14:51:38.864Z"
   },
   {
    "duration": 338,
    "start_time": "2022-07-03T14:53:04.521Z"
   },
   {
    "duration": 237,
    "start_time": "2022-07-03T14:55:26.066Z"
   },
   {
    "duration": 201,
    "start_time": "2022-07-03T14:55:49.619Z"
   },
   {
    "duration": 191,
    "start_time": "2022-07-03T14:56:01.127Z"
   },
   {
    "duration": 204,
    "start_time": "2022-07-03T14:56:16.399Z"
   },
   {
    "duration": 285,
    "start_time": "2022-07-03T14:56:28.517Z"
   },
   {
    "duration": 205,
    "start_time": "2022-07-03T14:56:35.796Z"
   },
   {
    "duration": 207,
    "start_time": "2022-07-03T14:56:41.406Z"
   },
   {
    "duration": 329,
    "start_time": "2022-07-03T14:57:07.146Z"
   },
   {
    "duration": 209,
    "start_time": "2022-07-03T14:57:25.038Z"
   },
   {
    "duration": 237,
    "start_time": "2022-07-03T14:57:31.305Z"
   },
   {
    "duration": 320,
    "start_time": "2022-07-03T14:57:46.315Z"
   },
   {
    "duration": 15,
    "start_time": "2022-07-03T14:58:41.529Z"
   },
   {
    "duration": 204,
    "start_time": "2022-07-03T14:58:42.540Z"
   },
   {
    "duration": 153,
    "start_time": "2022-07-03T14:59:51.189Z"
   },
   {
    "duration": 150,
    "start_time": "2022-07-03T14:59:55.846Z"
   },
   {
    "duration": 218,
    "start_time": "2022-07-03T15:00:04.735Z"
   },
   {
    "duration": 336,
    "start_time": "2022-07-03T15:00:09.605Z"
   },
   {
    "duration": 4,
    "start_time": "2022-07-03T15:00:46.161Z"
   },
   {
    "duration": 5,
    "start_time": "2022-07-03T15:00:51.195Z"
   },
   {
    "duration": 237,
    "start_time": "2022-07-03T15:00:56.270Z"
   },
   {
    "duration": 2,
    "start_time": "2022-07-03T15:03:06.623Z"
   },
   {
    "duration": 5,
    "start_time": "2022-07-03T15:04:25.698Z"
   },
   {
    "duration": 127,
    "start_time": "2022-07-03T15:04:57.120Z"
   },
   {
    "duration": 124,
    "start_time": "2022-07-03T15:05:02.429Z"
   },
   {
    "duration": 134,
    "start_time": "2022-07-03T15:05:49.215Z"
   },
   {
    "duration": 5,
    "start_time": "2022-07-03T15:07:23.846Z"
   },
   {
    "duration": 10,
    "start_time": "2022-07-03T15:07:27.392Z"
   },
   {
    "duration": 8,
    "start_time": "2022-07-03T15:07:31.181Z"
   },
   {
    "duration": 8,
    "start_time": "2022-07-03T15:07:36.586Z"
   },
   {
    "duration": 9,
    "start_time": "2022-07-03T15:11:53.694Z"
   },
   {
    "duration": 12,
    "start_time": "2022-07-03T15:13:01.955Z"
   },
   {
    "duration": 9,
    "start_time": "2022-07-03T15:14:16.843Z"
   },
   {
    "duration": 9,
    "start_time": "2022-07-03T15:16:21.745Z"
   },
   {
    "duration": 8,
    "start_time": "2022-07-03T15:16:22.496Z"
   },
   {
    "duration": 20,
    "start_time": "2022-07-03T15:16:30.366Z"
   },
   {
    "duration": 10,
    "start_time": "2022-07-03T15:16:36.958Z"
   },
   {
    "duration": 7,
    "start_time": "2022-07-03T15:16:37.897Z"
   },
   {
    "duration": 20,
    "start_time": "2022-07-03T15:18:33.455Z"
   },
   {
    "duration": 11,
    "start_time": "2022-07-03T15:19:25.560Z"
   },
   {
    "duration": 7,
    "start_time": "2022-07-03T15:19:26.653Z"
   },
   {
    "duration": 7,
    "start_time": "2022-07-03T15:19:28.517Z"
   },
   {
    "duration": 12,
    "start_time": "2022-07-03T15:23:33.431Z"
   },
   {
    "duration": 9,
    "start_time": "2022-07-03T15:26:04.194Z"
   },
   {
    "duration": 13,
    "start_time": "2022-07-03T15:26:10.042Z"
   },
   {
    "duration": 4,
    "start_time": "2022-07-03T15:27:08.140Z"
   },
   {
    "duration": 140,
    "start_time": "2022-07-03T15:28:37.899Z"
   },
   {
    "duration": 5,
    "start_time": "2022-07-03T15:29:51.444Z"
   },
   {
    "duration": 4,
    "start_time": "2022-07-03T15:31:45.561Z"
   },
   {
    "duration": 48,
    "start_time": "2022-07-03T15:31:45.602Z"
   },
   {
    "duration": 25,
    "start_time": "2022-07-03T15:31:45.652Z"
   },
   {
    "duration": 46,
    "start_time": "2022-07-03T15:31:45.679Z"
   },
   {
    "duration": 20,
    "start_time": "2022-07-03T15:31:45.727Z"
   },
   {
    "duration": 8,
    "start_time": "2022-07-03T15:31:45.750Z"
   },
   {
    "duration": 12,
    "start_time": "2022-07-03T15:31:45.767Z"
   },
   {
    "duration": 30,
    "start_time": "2022-07-03T15:31:45.781Z"
   },
   {
    "duration": 11,
    "start_time": "2022-07-03T15:31:45.812Z"
   },
   {
    "duration": 12,
    "start_time": "2022-07-03T15:31:45.825Z"
   },
   {
    "duration": 13,
    "start_time": "2022-07-03T15:31:45.839Z"
   },
   {
    "duration": 17,
    "start_time": "2022-07-03T15:31:45.854Z"
   },
   {
    "duration": 8,
    "start_time": "2022-07-03T15:31:45.872Z"
   },
   {
    "duration": 33,
    "start_time": "2022-07-03T15:31:45.882Z"
   },
   {
    "duration": 12,
    "start_time": "2022-07-03T15:31:45.919Z"
   },
   {
    "duration": 12,
    "start_time": "2022-07-03T15:31:45.933Z"
   },
   {
    "duration": 45,
    "start_time": "2022-07-03T15:31:45.946Z"
   },
   {
    "duration": 14,
    "start_time": "2022-07-03T15:31:45.993Z"
   },
   {
    "duration": 13,
    "start_time": "2022-07-03T15:31:46.009Z"
   },
   {
    "duration": 9,
    "start_time": "2022-07-03T15:31:46.024Z"
   },
   {
    "duration": 34,
    "start_time": "2022-07-03T15:31:46.035Z"
   },
   {
    "duration": 49,
    "start_time": "2022-07-03T15:31:46.071Z"
   },
   {
    "duration": 18,
    "start_time": "2022-07-03T15:31:46.122Z"
   },
   {
    "duration": 21,
    "start_time": "2022-07-03T15:31:46.142Z"
   },
   {
    "duration": 41,
    "start_time": "2022-07-03T15:31:46.165Z"
   },
   {
    "duration": 7,
    "start_time": "2022-07-03T15:31:46.208Z"
   },
   {
    "duration": 17,
    "start_time": "2022-07-03T15:31:46.217Z"
   },
   {
    "duration": 258,
    "start_time": "2022-07-03T15:31:46.237Z"
   },
   {
    "duration": 249,
    "start_time": "2022-07-03T15:31:46.497Z"
   },
   {
    "duration": 343,
    "start_time": "2022-07-03T15:31:46.748Z"
   },
   {
    "duration": 269,
    "start_time": "2022-07-03T15:31:47.093Z"
   },
   {
    "duration": 344,
    "start_time": "2022-07-03T15:31:47.363Z"
   },
   {
    "duration": 13,
    "start_time": "2022-07-03T15:31:47.709Z"
   },
   {
    "duration": 276,
    "start_time": "2022-07-03T15:31:47.724Z"
   },
   {
    "duration": 5,
    "start_time": "2022-07-03T15:31:54.117Z"
   },
   {
    "duration": 6,
    "start_time": "2022-07-03T15:32:00.394Z"
   },
   {
    "duration": 7,
    "start_time": "2022-07-03T15:33:59.119Z"
   },
   {
    "duration": 15,
    "start_time": "2022-07-03T15:38:03.292Z"
   },
   {
    "duration": 25,
    "start_time": "2022-07-03T15:38:22.301Z"
   },
   {
    "duration": 10,
    "start_time": "2022-07-03T15:38:34.696Z"
   },
   {
    "duration": 12,
    "start_time": "2022-07-03T15:38:44.967Z"
   },
   {
    "duration": 9,
    "start_time": "2022-07-03T15:38:51.511Z"
   },
   {
    "duration": 5,
    "start_time": "2022-07-03T15:41:34.419Z"
   },
   {
    "duration": 11,
    "start_time": "2022-07-03T15:42:17.797Z"
   },
   {
    "duration": 10,
    "start_time": "2022-07-03T15:42:57.452Z"
   },
   {
    "duration": 21,
    "start_time": "2022-07-03T15:50:19.295Z"
   },
   {
    "duration": 30,
    "start_time": "2022-07-03T15:51:48.359Z"
   },
   {
    "duration": 6,
    "start_time": "2022-07-03T15:51:49.011Z"
   },
   {
    "duration": 6,
    "start_time": "2022-07-03T15:52:12.515Z"
   },
   {
    "duration": 255,
    "start_time": "2022-07-03T15:52:49.355Z"
   },
   {
    "duration": 235,
    "start_time": "2022-07-03T15:53:35.239Z"
   },
   {
    "duration": 51,
    "start_time": "2022-07-03T15:55:29.405Z"
   },
   {
    "duration": 65,
    "start_time": "2022-07-03T15:55:39.995Z"
   },
   {
    "duration": 58,
    "start_time": "2022-07-03T15:56:06.693Z"
   },
   {
    "duration": 1121,
    "start_time": "2022-07-03T16:04:02.940Z"
   },
   {
    "duration": 68,
    "start_time": "2022-07-03T16:04:04.062Z"
   },
   {
    "duration": 20,
    "start_time": "2022-07-03T16:04:04.131Z"
   },
   {
    "duration": 42,
    "start_time": "2022-07-03T16:04:04.153Z"
   },
   {
    "duration": 18,
    "start_time": "2022-07-03T16:04:04.196Z"
   },
   {
    "duration": 5,
    "start_time": "2022-07-03T16:04:04.216Z"
   },
   {
    "duration": 10,
    "start_time": "2022-07-03T16:04:04.223Z"
   },
   {
    "duration": 9,
    "start_time": "2022-07-03T16:04:04.234Z"
   },
   {
    "duration": 7,
    "start_time": "2022-07-03T16:04:04.244Z"
   },
   {
    "duration": 34,
    "start_time": "2022-07-03T16:04:04.256Z"
   },
   {
    "duration": 7,
    "start_time": "2022-07-03T16:04:04.292Z"
   },
   {
    "duration": 11,
    "start_time": "2022-07-03T16:04:04.301Z"
   },
   {
    "duration": 6,
    "start_time": "2022-07-03T16:04:04.314Z"
   },
   {
    "duration": 14,
    "start_time": "2022-07-03T16:04:04.321Z"
   },
   {
    "duration": 11,
    "start_time": "2022-07-03T16:04:04.336Z"
   },
   {
    "duration": 28,
    "start_time": "2022-07-03T16:04:04.367Z"
   },
   {
    "duration": 25,
    "start_time": "2022-07-03T16:04:04.397Z"
   },
   {
    "duration": 5,
    "start_time": "2022-07-03T16:04:04.424Z"
   },
   {
    "duration": 14,
    "start_time": "2022-07-03T16:04:04.430Z"
   },
   {
    "duration": 7,
    "start_time": "2022-07-03T16:04:04.446Z"
   },
   {
    "duration": 24,
    "start_time": "2022-07-03T16:04:04.467Z"
   },
   {
    "duration": 19,
    "start_time": "2022-07-03T16:04:04.493Z"
   },
   {
    "duration": 16,
    "start_time": "2022-07-03T16:04:04.513Z"
   },
   {
    "duration": 18,
    "start_time": "2022-07-03T16:04:04.531Z"
   },
   {
    "duration": 30,
    "start_time": "2022-07-03T16:04:04.550Z"
   },
   {
    "duration": 8,
    "start_time": "2022-07-03T16:04:04.582Z"
   },
   {
    "duration": 17,
    "start_time": "2022-07-03T16:04:04.591Z"
   },
   {
    "duration": 315,
    "start_time": "2022-07-03T16:04:04.613Z"
   },
   {
    "duration": 224,
    "start_time": "2022-07-03T16:04:04.930Z"
   },
   {
    "duration": 329,
    "start_time": "2022-07-03T16:04:05.155Z"
   },
   {
    "duration": 232,
    "start_time": "2022-07-03T16:04:05.486Z"
   },
   {
    "duration": 303,
    "start_time": "2022-07-03T16:04:05.720Z"
   },
   {
    "duration": 13,
    "start_time": "2022-07-03T16:04:06.025Z"
   },
   {
    "duration": 161,
    "start_time": "2022-07-03T16:04:06.040Z"
   },
   {
    "duration": 5,
    "start_time": "2022-07-03T16:04:06.203Z"
   },
   {
    "duration": 12,
    "start_time": "2022-07-03T16:04:06.210Z"
   },
   {
    "duration": 169,
    "start_time": "2022-07-03T16:04:06.224Z"
   },
   {
    "duration": 200,
    "start_time": "2022-07-03T16:04:06.395Z"
   },
   {
    "duration": 5,
    "start_time": "2022-07-03T16:04:06.597Z"
   },
   {
    "duration": 13,
    "start_time": "2022-07-03T16:04:06.605Z"
   },
   {
    "duration": 16,
    "start_time": "2022-07-03T16:04:06.619Z"
   },
   {
    "duration": 10,
    "start_time": "2022-07-03T16:04:06.637Z"
   },
   {
    "duration": 41,
    "start_time": "2022-07-03T16:04:06.648Z"
   },
   {
    "duration": 12,
    "start_time": "2022-07-03T16:04:06.691Z"
   },
   {
    "duration": 8,
    "start_time": "2022-07-03T16:04:06.705Z"
   },
   {
    "duration": 11,
    "start_time": "2022-07-03T16:04:06.714Z"
   },
   {
    "duration": 12,
    "start_time": "2022-07-03T16:04:06.727Z"
   },
   {
    "duration": 13,
    "start_time": "2022-07-03T16:04:06.741Z"
   },
   {
    "duration": 33,
    "start_time": "2022-07-03T16:04:06.756Z"
   },
   {
    "duration": 24,
    "start_time": "2022-07-03T16:04:06.791Z"
   },
   {
    "duration": 6,
    "start_time": "2022-07-03T16:04:06.817Z"
   },
   {
    "duration": 9,
    "start_time": "2022-07-03T16:04:06.825Z"
   },
   {
    "duration": 244,
    "start_time": "2022-07-03T16:04:06.835Z"
   },
   {
    "duration": 209,
    "start_time": "2022-07-03T16:04:07.081Z"
   },
   {
    "duration": 108,
    "start_time": "2022-07-04T11:26:51.203Z"
   },
   {
    "duration": 143,
    "start_time": "2022-07-04T11:43:45.852Z"
   },
   {
    "duration": 1228,
    "start_time": "2022-07-04T11:53:21.625Z"
   },
   {
    "duration": 237,
    "start_time": "2022-07-04T11:53:22.855Z"
   },
   {
    "duration": 19,
    "start_time": "2022-07-04T11:53:23.094Z"
   },
   {
    "duration": 18,
    "start_time": "2022-07-04T11:53:23.115Z"
   },
   {
    "duration": 15,
    "start_time": "2022-07-04T11:53:23.134Z"
   },
   {
    "duration": 3,
    "start_time": "2022-07-04T11:53:23.150Z"
   },
   {
    "duration": 8,
    "start_time": "2022-07-04T11:53:23.155Z"
   },
   {
    "duration": 5,
    "start_time": "2022-07-04T11:53:23.191Z"
   },
   {
    "duration": 5,
    "start_time": "2022-07-04T11:53:23.198Z"
   },
   {
    "duration": 6,
    "start_time": "2022-07-04T11:53:23.205Z"
   },
   {
    "duration": 5,
    "start_time": "2022-07-04T11:53:23.213Z"
   },
   {
    "duration": 9,
    "start_time": "2022-07-04T11:53:23.219Z"
   },
   {
    "duration": 5,
    "start_time": "2022-07-04T11:53:23.229Z"
   },
   {
    "duration": 12,
    "start_time": "2022-07-04T11:53:23.235Z"
   },
   {
    "duration": 12,
    "start_time": "2022-07-04T11:53:23.249Z"
   },
   {
    "duration": 8,
    "start_time": "2022-07-04T11:53:23.293Z"
   },
   {
    "duration": 14,
    "start_time": "2022-07-04T11:53:23.302Z"
   },
   {
    "duration": 3,
    "start_time": "2022-07-04T11:53:23.318Z"
   },
   {
    "duration": 10,
    "start_time": "2022-07-04T11:53:23.322Z"
   },
   {
    "duration": 5,
    "start_time": "2022-07-04T11:53:23.334Z"
   },
   {
    "duration": 14,
    "start_time": "2022-07-04T11:53:23.340Z"
   },
   {
    "duration": 46,
    "start_time": "2022-07-04T11:53:23.356Z"
   },
   {
    "duration": 13,
    "start_time": "2022-07-04T11:53:23.404Z"
   },
   {
    "duration": 13,
    "start_time": "2022-07-04T11:53:23.418Z"
   },
   {
    "duration": 3,
    "start_time": "2022-07-04T11:53:23.432Z"
   },
   {
    "duration": 7,
    "start_time": "2022-07-04T11:53:23.436Z"
   },
   {
    "duration": 11,
    "start_time": "2022-07-04T11:53:23.444Z"
   },
   {
    "duration": 258,
    "start_time": "2022-07-04T11:53:23.459Z"
   },
   {
    "duration": 187,
    "start_time": "2022-07-04T11:53:23.719Z"
   },
   {
    "duration": 295,
    "start_time": "2022-07-04T11:53:23.907Z"
   },
   {
    "duration": 176,
    "start_time": "2022-07-04T11:53:24.204Z"
   },
   {
    "duration": 267,
    "start_time": "2022-07-04T11:53:24.382Z"
   },
   {
    "duration": 10,
    "start_time": "2022-07-04T11:53:24.650Z"
   },
   {
    "duration": 121,
    "start_time": "2022-07-04T11:53:24.661Z"
   },
   {
    "duration": 8,
    "start_time": "2022-07-04T11:53:24.783Z"
   },
   {
    "duration": 4,
    "start_time": "2022-07-04T11:53:24.792Z"
   },
   {
    "duration": 118,
    "start_time": "2022-07-04T11:53:24.798Z"
   },
   {
    "duration": 174,
    "start_time": "2022-07-04T11:53:24.917Z"
   },
   {
    "duration": 5,
    "start_time": "2022-07-04T11:53:25.093Z"
   },
   {
    "duration": 13,
    "start_time": "2022-07-04T11:53:25.099Z"
   },
   {
    "duration": 10,
    "start_time": "2022-07-04T11:53:25.114Z"
   },
   {
    "duration": 8,
    "start_time": "2022-07-04T11:53:25.125Z"
   },
   {
    "duration": 6,
    "start_time": "2022-07-04T11:53:25.135Z"
   },
   {
    "duration": 11,
    "start_time": "2022-07-04T11:55:24.452Z"
   },
   {
    "duration": 9,
    "start_time": "2022-07-04T11:56:09.427Z"
   },
   {
    "duration": 10,
    "start_time": "2022-07-04T11:58:20.145Z"
   },
   {
    "duration": 92,
    "start_time": "2022-07-04T11:59:08.296Z"
   },
   {
    "duration": 11,
    "start_time": "2022-07-04T11:59:16.342Z"
   },
   {
    "duration": 10,
    "start_time": "2022-07-04T11:59:22.068Z"
   },
   {
    "duration": 14,
    "start_time": "2022-07-04T12:00:17.194Z"
   },
   {
    "duration": 8,
    "start_time": "2022-07-04T12:00:25.650Z"
   },
   {
    "duration": 10,
    "start_time": "2022-07-04T12:00:48.729Z"
   },
   {
    "duration": 4,
    "start_time": "2022-07-04T12:00:56.347Z"
   },
   {
    "duration": 7,
    "start_time": "2022-07-04T12:03:27.210Z"
   },
   {
    "duration": 8,
    "start_time": "2022-07-04T12:03:34.402Z"
   },
   {
    "duration": 7,
    "start_time": "2022-07-04T12:03:43.715Z"
   },
   {
    "duration": 10,
    "start_time": "2022-07-04T12:03:47.996Z"
   },
   {
    "duration": 6,
    "start_time": "2022-07-04T12:03:53.043Z"
   },
   {
    "duration": 4,
    "start_time": "2022-07-04T12:03:55.310Z"
   },
   {
    "duration": 14,
    "start_time": "2022-07-04T12:04:04.267Z"
   },
   {
    "duration": 16,
    "start_time": "2022-07-04T12:04:20.107Z"
   },
   {
    "duration": 15,
    "start_time": "2022-07-04T12:04:36.656Z"
   },
   {
    "duration": 1290,
    "start_time": "2022-07-06T17:54:19.392Z"
   },
   {
    "duration": 252,
    "start_time": "2022-07-06T17:54:20.684Z"
   },
   {
    "duration": 21,
    "start_time": "2022-07-06T17:54:20.938Z"
   },
   {
    "duration": 20,
    "start_time": "2022-07-06T17:54:20.961Z"
   },
   {
    "duration": 21,
    "start_time": "2022-07-06T17:54:20.984Z"
   },
   {
    "duration": 3,
    "start_time": "2022-07-06T17:54:21.006Z"
   },
   {
    "duration": 7,
    "start_time": "2022-07-06T17:54:21.011Z"
   },
   {
    "duration": 6,
    "start_time": "2022-07-06T17:54:21.052Z"
   },
   {
    "duration": 7,
    "start_time": "2022-07-06T17:54:21.059Z"
   },
   {
    "duration": 9,
    "start_time": "2022-07-06T17:54:21.067Z"
   },
   {
    "duration": 7,
    "start_time": "2022-07-06T17:54:21.077Z"
   },
   {
    "duration": 8,
    "start_time": "2022-07-06T17:54:21.086Z"
   },
   {
    "duration": 5,
    "start_time": "2022-07-06T17:54:21.096Z"
   },
   {
    "duration": 50,
    "start_time": "2022-07-06T17:54:21.105Z"
   },
   {
    "duration": 9,
    "start_time": "2022-07-06T17:54:21.156Z"
   },
   {
    "duration": 8,
    "start_time": "2022-07-06T17:54:21.167Z"
   },
   {
    "duration": 16,
    "start_time": "2022-07-06T17:54:21.177Z"
   },
   {
    "duration": 5,
    "start_time": "2022-07-06T17:54:21.194Z"
   },
   {
    "duration": 12,
    "start_time": "2022-07-06T17:54:21.200Z"
   },
   {
    "duration": 46,
    "start_time": "2022-07-06T17:54:21.213Z"
   },
   {
    "duration": 15,
    "start_time": "2022-07-06T17:54:21.261Z"
   },
   {
    "duration": 20,
    "start_time": "2022-07-06T17:54:21.278Z"
   },
   {
    "duration": 14,
    "start_time": "2022-07-06T17:54:21.299Z"
   },
   {
    "duration": 14,
    "start_time": "2022-07-06T17:54:21.314Z"
   },
   {
    "duration": 5,
    "start_time": "2022-07-06T17:54:21.352Z"
   },
   {
    "duration": 8,
    "start_time": "2022-07-06T17:54:21.358Z"
   },
   {
    "duration": 13,
    "start_time": "2022-07-06T17:54:21.368Z"
   },
   {
    "duration": 248,
    "start_time": "2022-07-06T17:54:21.383Z"
   },
   {
    "duration": 188,
    "start_time": "2022-07-06T17:54:21.633Z"
   },
   {
    "duration": 357,
    "start_time": "2022-07-06T17:54:21.823Z"
   },
   {
    "duration": 196,
    "start_time": "2022-07-06T17:54:22.181Z"
   },
   {
    "duration": 281,
    "start_time": "2022-07-06T17:54:22.379Z"
   },
   {
    "duration": 11,
    "start_time": "2022-07-06T17:54:22.662Z"
   },
   {
    "duration": 172,
    "start_time": "2022-07-06T17:54:22.674Z"
   },
   {
    "duration": 4,
    "start_time": "2022-07-06T17:54:22.851Z"
   },
   {
    "duration": 5,
    "start_time": "2022-07-06T17:54:22.857Z"
   },
   {
    "duration": 144,
    "start_time": "2022-07-06T17:54:22.864Z"
   },
   {
    "duration": 193,
    "start_time": "2022-07-06T17:54:23.009Z"
   },
   {
    "duration": 5,
    "start_time": "2022-07-06T17:54:23.204Z"
   },
   {
    "duration": 7,
    "start_time": "2022-07-06T17:54:23.210Z"
   },
   {
    "duration": 10,
    "start_time": "2022-07-06T17:54:23.220Z"
   },
   {
    "duration": 29,
    "start_time": "2022-07-06T17:54:23.231Z"
   },
   {
    "duration": 6,
    "start_time": "2022-07-06T17:54:23.262Z"
   },
   {
    "duration": 22,
    "start_time": "2022-07-06T17:54:37.989Z"
   },
   {
    "duration": 7,
    "start_time": "2022-07-06T17:54:40.080Z"
   },
   {
    "duration": 90,
    "start_time": "2022-07-06T17:57:47.249Z"
   },
   {
    "duration": 8,
    "start_time": "2022-07-06T17:57:57.039Z"
   },
   {
    "duration": 7,
    "start_time": "2022-07-06T17:58:00.901Z"
   },
   {
    "duration": 9,
    "start_time": "2022-07-06T17:58:01.473Z"
   },
   {
    "duration": 6,
    "start_time": "2022-07-06T17:58:20.290Z"
   },
   {
    "duration": 34,
    "start_time": "2022-07-06T18:13:43.005Z"
   },
   {
    "duration": 29,
    "start_time": "2022-07-06T18:14:17.489Z"
   },
   {
    "duration": 5,
    "start_time": "2022-07-06T18:15:14.794Z"
   },
   {
    "duration": 12,
    "start_time": "2022-07-06T18:15:33.995Z"
   },
   {
    "duration": 5,
    "start_time": "2022-07-06T18:15:53.932Z"
   },
   {
    "duration": 5,
    "start_time": "2022-07-06T18:16:03.438Z"
   },
   {
    "duration": 36,
    "start_time": "2022-07-06T18:16:43.420Z"
   },
   {
    "duration": 28,
    "start_time": "2022-07-06T18:16:47.555Z"
   },
   {
    "duration": 30,
    "start_time": "2022-07-06T18:16:51.831Z"
   },
   {
    "duration": 11,
    "start_time": "2022-07-06T18:19:14.167Z"
   },
   {
    "duration": 35,
    "start_time": "2022-07-06T18:19:56.591Z"
   },
   {
    "duration": 23,
    "start_time": "2022-07-06T18:20:12.016Z"
   },
   {
    "duration": 4,
    "start_time": "2022-07-06T18:20:26.639Z"
   },
   {
    "duration": 4,
    "start_time": "2022-07-06T18:20:27.799Z"
   },
   {
    "duration": 23,
    "start_time": "2022-07-06T18:22:18.633Z"
   },
   {
    "duration": 21,
    "start_time": "2022-07-06T18:22:45.719Z"
   },
   {
    "duration": 25,
    "start_time": "2022-07-06T18:23:11.176Z"
   },
   {
    "duration": 6,
    "start_time": "2022-07-06T18:23:30.001Z"
   },
   {
    "duration": 29,
    "start_time": "2022-07-06T18:28:34.665Z"
   },
   {
    "duration": 30,
    "start_time": "2022-07-06T18:29:16.253Z"
   },
   {
    "duration": 1064,
    "start_time": "2022-07-06T18:34:17.365Z"
   },
   {
    "duration": 78,
    "start_time": "2022-07-06T18:34:18.430Z"
   },
   {
    "duration": 19,
    "start_time": "2022-07-06T18:34:18.509Z"
   },
   {
    "duration": 19,
    "start_time": "2022-07-06T18:34:18.530Z"
   },
   {
    "duration": 16,
    "start_time": "2022-07-06T18:34:18.551Z"
   },
   {
    "duration": 6,
    "start_time": "2022-07-06T18:34:18.569Z"
   },
   {
    "duration": 9,
    "start_time": "2022-07-06T18:34:18.576Z"
   },
   {
    "duration": 10,
    "start_time": "2022-07-06T18:34:18.586Z"
   },
   {
    "duration": 6,
    "start_time": "2022-07-06T18:34:18.598Z"
   },
   {
    "duration": 10,
    "start_time": "2022-07-06T18:34:18.607Z"
   },
   {
    "duration": 6,
    "start_time": "2022-07-06T18:34:18.618Z"
   },
   {
    "duration": 30,
    "start_time": "2022-07-06T18:34:18.625Z"
   },
   {
    "duration": 5,
    "start_time": "2022-07-06T18:34:18.657Z"
   },
   {
    "duration": 13,
    "start_time": "2022-07-06T18:34:18.664Z"
   },
   {
    "duration": 12,
    "start_time": "2022-07-06T18:34:18.679Z"
   },
   {
    "duration": 10,
    "start_time": "2022-07-06T18:34:18.692Z"
   },
   {
    "duration": 49,
    "start_time": "2022-07-06T18:34:18.703Z"
   },
   {
    "duration": 5,
    "start_time": "2022-07-06T18:34:18.754Z"
   },
   {
    "duration": 11,
    "start_time": "2022-07-06T18:34:18.761Z"
   },
   {
    "duration": 4,
    "start_time": "2022-07-06T18:34:18.774Z"
   },
   {
    "duration": 11,
    "start_time": "2022-07-06T18:34:18.780Z"
   },
   {
    "duration": 16,
    "start_time": "2022-07-06T18:34:18.792Z"
   },
   {
    "duration": 44,
    "start_time": "2022-07-06T18:34:18.810Z"
   },
   {
    "duration": 17,
    "start_time": "2022-07-06T18:34:18.856Z"
   },
   {
    "duration": 3,
    "start_time": "2022-07-06T18:34:18.874Z"
   },
   {
    "duration": 6,
    "start_time": "2022-07-06T18:34:18.879Z"
   },
   {
    "duration": 11,
    "start_time": "2022-07-06T18:34:18.887Z"
   },
   {
    "duration": 261,
    "start_time": "2022-07-06T18:34:18.901Z"
   },
   {
    "duration": 171,
    "start_time": "2022-07-06T18:34:19.164Z"
   },
   {
    "duration": 304,
    "start_time": "2022-07-06T18:34:19.337Z"
   },
   {
    "duration": 201,
    "start_time": "2022-07-06T18:34:19.643Z"
   },
   {
    "duration": 291,
    "start_time": "2022-07-06T18:34:19.851Z"
   },
   {
    "duration": 12,
    "start_time": "2022-07-06T18:34:20.143Z"
   },
   {
    "duration": 125,
    "start_time": "2022-07-06T18:34:20.157Z"
   },
   {
    "duration": 4,
    "start_time": "2022-07-06T18:34:20.284Z"
   },
   {
    "duration": 6,
    "start_time": "2022-07-06T18:34:20.290Z"
   },
   {
    "duration": 132,
    "start_time": "2022-07-06T18:34:20.297Z"
   },
   {
    "duration": 210,
    "start_time": "2022-07-06T18:34:20.431Z"
   },
   {
    "duration": 11,
    "start_time": "2022-07-06T18:34:20.643Z"
   },
   {
    "duration": 7,
    "start_time": "2022-07-06T18:34:20.656Z"
   },
   {
    "duration": 18,
    "start_time": "2022-07-06T18:34:20.664Z"
   },
   {
    "duration": 9,
    "start_time": "2022-07-06T18:34:20.683Z"
   },
   {
    "duration": 7,
    "start_time": "2022-07-06T18:34:20.693Z"
   },
   {
    "duration": 17,
    "start_time": "2022-07-06T18:34:20.701Z"
   },
   {
    "duration": 41,
    "start_time": "2022-07-06T18:34:20.720Z"
   },
   {
    "duration": 5,
    "start_time": "2022-07-06T18:34:20.763Z"
   },
   {
    "duration": 9,
    "start_time": "2022-07-06T18:34:20.769Z"
   },
   {
    "duration": 5,
    "start_time": "2022-07-06T18:34:20.779Z"
   },
   {
    "duration": 8,
    "start_time": "2022-07-06T18:34:20.786Z"
   },
   {
    "duration": 6,
    "start_time": "2022-07-06T18:34:20.795Z"
   },
   {
    "duration": 52,
    "start_time": "2022-07-06T18:34:20.803Z"
   },
   {
    "duration": 8,
    "start_time": "2022-07-06T18:34:20.857Z"
   },
   {
    "duration": 17,
    "start_time": "2022-07-06T18:34:20.866Z"
   },
   {
    "duration": 15,
    "start_time": "2022-07-06T18:34:20.884Z"
   },
   {
    "duration": 4,
    "start_time": "2022-07-06T18:34:20.900Z"
   },
   {
    "duration": 6,
    "start_time": "2022-07-06T18:34:20.905Z"
   },
   {
    "duration": 211,
    "start_time": "2022-07-06T18:34:20.912Z"
   },
   {
    "duration": 188,
    "start_time": "2022-07-06T18:34:21.125Z"
   }
  ],
  "kernelspec": {
   "display_name": "Python 3",
   "language": "python",
   "name": "python3"
  },
  "language_info": {
   "codemirror_mode": {
    "name": "ipython",
    "version": 3
   },
   "file_extension": ".py",
   "mimetype": "text/x-python",
   "name": "python",
   "nbconvert_exporter": "python",
   "pygments_lexer": "ipython3",
   "version": "3.8.5"
  },
  "toc": {
   "base_numbering": 1,
   "nav_menu": {},
   "number_sections": true,
   "sideBar": true,
   "skip_h1_title": true,
   "title_cell": "Table of Contents",
   "title_sidebar": "Contents",
   "toc_cell": false,
   "toc_position": {
    "height": "calc(100% - 180px)",
    "left": "10px",
    "top": "150px",
    "width": "255.594px"
   },
   "toc_section_display": true,
   "toc_window_display": false
  }
 },
 "nbformat": 4,
 "nbformat_minor": 2
}

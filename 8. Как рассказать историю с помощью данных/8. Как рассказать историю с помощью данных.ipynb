{
 "cells": [
  {
   "cell_type": "markdown",
   "metadata": {},
   "source": [
    "# Рынок заведений общественного питания Москвы "
   ]
  },
  {
   "cell_type": "markdown",
   "metadata": {},
   "source": [
    "Мы решили открыть небольшое кафе в Москве. Оно оригинальное — гостей должны обслуживать роботы. Проект многообещающий, но дорогой. Вместе с партнёрами мы решились обратиться к инвесторам. Их интересует текущее положение дел на рынке — сможете ли вы снискать популярность на долгое время, когда все зеваки насмотрятся на роботов-официантов?\n",
    "Мы — гуру аналитики, и партнёры просят нас подготовить исследование рынка. У нас есть открытые данные о заведениях общественного питания в Москве."
   ]
  },
  {
   "cell_type": "markdown",
   "metadata": {},
   "source": [
    "## Предварительный осмотр данных"
   ]
  },
  {
   "cell_type": "code",
   "execution_count": 1,
   "metadata": {},
   "outputs": [],
   "source": [
    "import pandas as pd\n",
    "import matplotlib.pyplot as plt\n",
    "\n",
    "import seaborn as sns\n",
    "sns.set(rc={'figure.figsize':(10, 5)})\n",
    "import requests\n",
    "\n",
    "from scipy import stats as st\n",
    "import math\n",
    "import numpy as np\n",
    "\n",
    "import warnings\n",
    "warnings.filterwarnings('ignore')"
   ]
  },
  {
   "cell_type": "code",
   "execution_count": 2,
   "metadata": {},
   "outputs": [],
   "source": [
    "df = pd.read_csv('/datasets/rest_data.csv')"
   ]
  },
  {
   "cell_type": "markdown",
   "metadata": {},
   "source": [
    "**Описание данных**"
   ]
  },
  {
   "cell_type": "markdown",
   "metadata": {},
   "source": [
    "- `id` — идентификатор объекта;\n",
    "- `object_name` — название объекта общественного питания;\n",
    "- `chain` — сетевой ресторан;\n",
    "- `object_type` — тип объекта общественного питания;\n",
    "- `address` — адрес;\n",
    "- `number` — количество посадочных мест"
   ]
  },
  {
   "cell_type": "code",
   "execution_count": 3,
   "metadata": {},
   "outputs": [
    {
     "name": "stdout",
     "output_type": "stream",
     "text": [
      "<class 'pandas.core.frame.DataFrame'>\n",
      "RangeIndex: 15366 entries, 0 to 15365\n",
      "Data columns (total 6 columns):\n",
      " #   Column       Non-Null Count  Dtype \n",
      "---  ------       --------------  ----- \n",
      " 0   id           15366 non-null  int64 \n",
      " 1   object_name  15366 non-null  object\n",
      " 2   chain        15366 non-null  object\n",
      " 3   object_type  15366 non-null  object\n",
      " 4   address      15366 non-null  object\n",
      " 5   number       15366 non-null  int64 \n",
      "dtypes: int64(2), object(4)\n",
      "memory usage: 720.4+ KB\n"
     ]
    },
    {
     "data": {
      "text/plain": [
       "None"
      ]
     },
     "metadata": {},
     "output_type": "display_data"
    },
    {
     "data": {
      "text/html": [
       "<div>\n",
       "<style scoped>\n",
       "    .dataframe tbody tr th:only-of-type {\n",
       "        vertical-align: middle;\n",
       "    }\n",
       "\n",
       "    .dataframe tbody tr th {\n",
       "        vertical-align: top;\n",
       "    }\n",
       "\n",
       "    .dataframe thead th {\n",
       "        text-align: right;\n",
       "    }\n",
       "</style>\n",
       "<table border=\"1\" class=\"dataframe\">\n",
       "  <thead>\n",
       "    <tr style=\"text-align: right;\">\n",
       "      <th></th>\n",
       "      <th>id</th>\n",
       "      <th>object_name</th>\n",
       "      <th>chain</th>\n",
       "      <th>object_type</th>\n",
       "      <th>address</th>\n",
       "      <th>number</th>\n",
       "    </tr>\n",
       "  </thead>\n",
       "  <tbody>\n",
       "    <tr>\n",
       "      <th>0</th>\n",
       "      <td>151635</td>\n",
       "      <td>СМЕТАНА</td>\n",
       "      <td>нет</td>\n",
       "      <td>кафе</td>\n",
       "      <td>город Москва, улица Егора Абакумова, дом 9</td>\n",
       "      <td>48</td>\n",
       "    </tr>\n",
       "    <tr>\n",
       "      <th>1</th>\n",
       "      <td>77874</td>\n",
       "      <td>Родник</td>\n",
       "      <td>нет</td>\n",
       "      <td>кафе</td>\n",
       "      <td>город Москва, улица Талалихина, дом 2/1, корпус 1</td>\n",
       "      <td>35</td>\n",
       "    </tr>\n",
       "    <tr>\n",
       "      <th>2</th>\n",
       "      <td>24309</td>\n",
       "      <td>Кафе «Академия»</td>\n",
       "      <td>нет</td>\n",
       "      <td>кафе</td>\n",
       "      <td>город Москва, Абельмановская улица, дом 6</td>\n",
       "      <td>95</td>\n",
       "    </tr>\n",
       "    <tr>\n",
       "      <th>3</th>\n",
       "      <td>21894</td>\n",
       "      <td>ПИЦЦЕТОРИЯ</td>\n",
       "      <td>да</td>\n",
       "      <td>кафе</td>\n",
       "      <td>город Москва, Абрамцевская улица, дом 1</td>\n",
       "      <td>40</td>\n",
       "    </tr>\n",
       "    <tr>\n",
       "      <th>4</th>\n",
       "      <td>119365</td>\n",
       "      <td>Кафе «Вишневая метель»</td>\n",
       "      <td>нет</td>\n",
       "      <td>кафе</td>\n",
       "      <td>город Москва, Абрамцевская улица, дом 9, корпус 1</td>\n",
       "      <td>50</td>\n",
       "    </tr>\n",
       "  </tbody>\n",
       "</table>\n",
       "</div>"
      ],
      "text/plain": [
       "       id             object_name chain object_type  \\\n",
       "0  151635                 СМЕТАНА   нет        кафе   \n",
       "1   77874                  Родник   нет        кафе   \n",
       "2   24309         Кафе «Академия»   нет        кафе   \n",
       "3   21894              ПИЦЦЕТОРИЯ    да        кафе   \n",
       "4  119365  Кафе «Вишневая метель»   нет        кафе   \n",
       "\n",
       "                                             address  number  \n",
       "0         город Москва, улица Егора Абакумова, дом 9      48  \n",
       "1  город Москва, улица Талалихина, дом 2/1, корпус 1      35  \n",
       "2          город Москва, Абельмановская улица, дом 6      95  \n",
       "3            город Москва, Абрамцевская улица, дом 1      40  \n",
       "4  город Москва, Абрамцевская улица, дом 9, корпус 1      50  "
      ]
     },
     "metadata": {},
     "output_type": "display_data"
    },
    {
     "data": {
      "text/html": [
       "<div>\n",
       "<style scoped>\n",
       "    .dataframe tbody tr th:only-of-type {\n",
       "        vertical-align: middle;\n",
       "    }\n",
       "\n",
       "    .dataframe tbody tr th {\n",
       "        vertical-align: top;\n",
       "    }\n",
       "\n",
       "    .dataframe thead th {\n",
       "        text-align: right;\n",
       "    }\n",
       "</style>\n",
       "<table border=\"1\" class=\"dataframe\">\n",
       "  <thead>\n",
       "    <tr style=\"text-align: right;\">\n",
       "      <th></th>\n",
       "      <th>id</th>\n",
       "      <th>object_name</th>\n",
       "      <th>chain</th>\n",
       "      <th>object_type</th>\n",
       "      <th>address</th>\n",
       "      <th>number</th>\n",
       "    </tr>\n",
       "  </thead>\n",
       "  <tbody>\n",
       "    <tr>\n",
       "      <th>15361</th>\n",
       "      <td>208537</td>\n",
       "      <td>Шоколадница</td>\n",
       "      <td>да</td>\n",
       "      <td>кафе</td>\n",
       "      <td>город Москва, 3-й Крутицкий переулок, дом 18</td>\n",
       "      <td>50</td>\n",
       "    </tr>\n",
       "    <tr>\n",
       "      <th>15362</th>\n",
       "      <td>209264</td>\n",
       "      <td>Шоколадница</td>\n",
       "      <td>да</td>\n",
       "      <td>кафе</td>\n",
       "      <td>город Москва, улица Земляной Вал, дом 33</td>\n",
       "      <td>10</td>\n",
       "    </tr>\n",
       "    <tr>\n",
       "      <th>15363</th>\n",
       "      <td>209186</td>\n",
       "      <td>Шоколадница</td>\n",
       "      <td>да</td>\n",
       "      <td>кафе</td>\n",
       "      <td>город Москва, улица Земляной Вал, дом 33</td>\n",
       "      <td>20</td>\n",
       "    </tr>\n",
       "    <tr>\n",
       "      <th>15364</th>\n",
       "      <td>221900</td>\n",
       "      <td>Шоколадница</td>\n",
       "      <td>да</td>\n",
       "      <td>кафе</td>\n",
       "      <td>город Москва, поселение Московский, Киевское ш...</td>\n",
       "      <td>36</td>\n",
       "    </tr>\n",
       "    <tr>\n",
       "      <th>15365</th>\n",
       "      <td>222535</td>\n",
       "      <td>Шоколадница</td>\n",
       "      <td>да</td>\n",
       "      <td>кафе</td>\n",
       "      <td>город Москва, Ходынский бульвар, дом 4</td>\n",
       "      <td>10</td>\n",
       "    </tr>\n",
       "  </tbody>\n",
       "</table>\n",
       "</div>"
      ],
      "text/plain": [
       "           id  object_name chain object_type  \\\n",
       "15361  208537  Шоколадница    да        кафе   \n",
       "15362  209264  Шоколадница    да        кафе   \n",
       "15363  209186  Шоколадница    да        кафе   \n",
       "15364  221900  Шоколадница    да        кафе   \n",
       "15365  222535  Шоколадница    да        кафе   \n",
       "\n",
       "                                                 address  number  \n",
       "15361       город Москва, 3-й Крутицкий переулок, дом 18      50  \n",
       "15362           город Москва, улица Земляной Вал, дом 33      10  \n",
       "15363           город Москва, улица Земляной Вал, дом 33      20  \n",
       "15364  город Москва, поселение Московский, Киевское ш...      36  \n",
       "15365             город Москва, Ходынский бульвар, дом 4      10  "
      ]
     },
     "metadata": {},
     "output_type": "display_data"
    },
    {
     "data": {
      "text/html": [
       "<div>\n",
       "<style scoped>\n",
       "    .dataframe tbody tr th:only-of-type {\n",
       "        vertical-align: middle;\n",
       "    }\n",
       "\n",
       "    .dataframe tbody tr th {\n",
       "        vertical-align: top;\n",
       "    }\n",
       "\n",
       "    .dataframe thead th {\n",
       "        text-align: right;\n",
       "    }\n",
       "</style>\n",
       "<table border=\"1\" class=\"dataframe\">\n",
       "  <thead>\n",
       "    <tr style=\"text-align: right;\">\n",
       "      <th></th>\n",
       "      <th>id</th>\n",
       "      <th>number</th>\n",
       "    </tr>\n",
       "  </thead>\n",
       "  <tbody>\n",
       "    <tr>\n",
       "      <th>count</th>\n",
       "      <td>15366.000000</td>\n",
       "      <td>15366.000000</td>\n",
       "    </tr>\n",
       "    <tr>\n",
       "      <th>mean</th>\n",
       "      <td>119720.066901</td>\n",
       "      <td>59.547182</td>\n",
       "    </tr>\n",
       "    <tr>\n",
       "      <th>std</th>\n",
       "      <td>73036.130732</td>\n",
       "      <td>74.736833</td>\n",
       "    </tr>\n",
       "    <tr>\n",
       "      <th>min</th>\n",
       "      <td>838.000000</td>\n",
       "      <td>0.000000</td>\n",
       "    </tr>\n",
       "    <tr>\n",
       "      <th>25%</th>\n",
       "      <td>28524.000000</td>\n",
       "      <td>12.000000</td>\n",
       "    </tr>\n",
       "    <tr>\n",
       "      <th>50%</th>\n",
       "      <td>144974.500000</td>\n",
       "      <td>40.000000</td>\n",
       "    </tr>\n",
       "    <tr>\n",
       "      <th>75%</th>\n",
       "      <td>184262.250000</td>\n",
       "      <td>80.000000</td>\n",
       "    </tr>\n",
       "    <tr>\n",
       "      <th>max</th>\n",
       "      <td>223439.000000</td>\n",
       "      <td>1700.000000</td>\n",
       "    </tr>\n",
       "  </tbody>\n",
       "</table>\n",
       "</div>"
      ],
      "text/plain": [
       "                  id        number\n",
       "count   15366.000000  15366.000000\n",
       "mean   119720.066901     59.547182\n",
       "std     73036.130732     74.736833\n",
       "min       838.000000      0.000000\n",
       "25%     28524.000000     12.000000\n",
       "50%    144974.500000     40.000000\n",
       "75%    184262.250000     80.000000\n",
       "max    223439.000000   1700.000000"
      ]
     },
     "metadata": {},
     "output_type": "display_data"
    }
   ],
   "source": [
    "display(df.info(), df.head(), df.tail(), df.describe())"
   ]
  },
  {
   "cell_type": "markdown",
   "metadata": {},
   "source": [
    "Предварительные выводы:\n",
    "- Проверить данные на неявные дубликаты! Есть названия написанные верхним регистром, в кавычках и так далее\n",
    "- Проверить на общие дубликаты\n",
    "- Пропусковв данных нет\n",
    "- Типы данных столбцов корректны\n",
    "- Название столбцов корректны по грамматике, но некоторые (number) не корректно отражают смысл данных в них\n",
    "- Минимальное количество посадочных мест 0, а максимальное 1700? Стоит обдумать реальность таких чисел"
   ]
  },
  {
   "cell_type": "markdown",
   "metadata": {},
   "source": [
    "## Предобработка данных"
   ]
  },
  {
   "cell_type": "markdown",
   "metadata": {},
   "source": [
    "Заменим на корректное название столбец `number`. В столбце `chain` заменим `да` и `нет` на понятные `сетевое` и `несетевое`"
   ]
  },
  {
   "cell_type": "code",
   "execution_count": 4,
   "metadata": {},
   "outputs": [],
   "source": [
    "df = df.rename(columns={'number':'number_of_seats'})\n",
    "df['chain'] = df['chain'].map({'нет':'несетевое','да':'сетевое'})"
   ]
  },
  {
   "cell_type": "markdown",
   "metadata": {},
   "source": [
    "Приведём к нижнему регистру все значения в столбцах `object_name` и `address`"
   ]
  },
  {
   "cell_type": "code",
   "execution_count": 5,
   "metadata": {},
   "outputs": [],
   "source": [
    "df['object_name'] = df['object_name'].str.lower()\n",
    "df['address'] = df['address'].str.lower()"
   ]
  },
  {
   "cell_type": "markdown",
   "metadata": {},
   "source": [
    "Отфильтруем данные в этих же столбцах. Уберём кавычки, точки, запятые и так далее"
   ]
  },
  {
   "cell_type": "code",
   "execution_count": 6,
   "metadata": {},
   "outputs": [],
   "source": [
    "symbols = [',', '«', '»', '(', ')', '\"', '  ']"
   ]
  },
  {
   "cell_type": "code",
   "execution_count": 7,
   "metadata": {},
   "outputs": [],
   "source": [
    "for s in symbols:\n",
    "    df['object_name'] = df['object_name'].str.replace(s, ' ')\n",
    "    df['address'] = df['address'].str.replace(s, ' ')"
   ]
  },
  {
   "cell_type": "markdown",
   "metadata": {},
   "source": [
    "А так же заменим все буквы `ё` на `е`"
   ]
  },
  {
   "cell_type": "code",
   "execution_count": 8,
   "metadata": {},
   "outputs": [],
   "source": [
    "df['address'] = df['address'].str.replace('ё','е')"
   ]
  },
  {
   "cell_type": "markdown",
   "metadata": {},
   "source": [
    "Посмотрим на уникальные данные  в столбцах `chain` и `objiect_type`"
   ]
  },
  {
   "cell_type": "code",
   "execution_count": 9,
   "metadata": {},
   "outputs": [
    {
     "data": {
      "text/plain": [
       "array(['несетевое', 'сетевое'], dtype=object)"
      ]
     },
     "execution_count": 9,
     "metadata": {},
     "output_type": "execute_result"
    }
   ],
   "source": [
    "df['chain'].unique()"
   ]
  },
  {
   "cell_type": "markdown",
   "metadata": {},
   "source": [
    "Здесь всё корректно. Либо сетевое, либо нет, третьего не дано"
   ]
  },
  {
   "cell_type": "code",
   "execution_count": 10,
   "metadata": {},
   "outputs": [
    {
     "data": {
      "text/plain": [
       "array(['кафе', 'столовая', 'закусочная',\n",
       "       'предприятие быстрого обслуживания', 'ресторан', 'кафетерий',\n",
       "       'буфет', 'бар', 'магазин (отдел кулинарии)'], dtype=object)"
      ]
     },
     "execution_count": 10,
     "metadata": {},
     "output_type": "execute_result"
    }
   ],
   "source": [
    "df['object_type'].unique()"
   ]
  },
  {
   "cell_type": "markdown",
   "metadata": {},
   "source": [
    "Да, здесь присутствуют похожие по сути кафе и кафетерий, столовая и закусочная. Но всё же это разные типы заведений, не будем ничего объединять. \\\n",
    "Только заменим длинные названия более удобными для понимания"
   ]
  },
  {
   "cell_type": "code",
   "execution_count": 11,
   "metadata": {},
   "outputs": [],
   "source": [
    "df['object_type'] = df['object_type'].str.replace('предприятие быстрого обслуживания', 'фаст-фуд')\n",
    "df['object_type'] = df['object_type'].str.replace('магазин \\(отдел кулинарии\\)', 'кулинария')"
   ]
  },
  {
   "cell_type": "markdown",
   "metadata": {},
   "source": [
    "Посчитаем пропуски"
   ]
  },
  {
   "cell_type": "code",
   "execution_count": 12,
   "metadata": {},
   "outputs": [
    {
     "data": {
      "text/plain": [
       "id                 0\n",
       "object_name        0\n",
       "chain              0\n",
       "object_type        0\n",
       "address            0\n",
       "number_of_seats    0\n",
       "dtype: int64"
      ]
     },
     "execution_count": 12,
     "metadata": {},
     "output_type": "execute_result"
    }
   ],
   "source": [
    "df.isna().sum()"
   ]
  },
  {
   "cell_type": "markdown",
   "metadata": {},
   "source": [
    "Посчитаем дубликаты"
   ]
  },
  {
   "cell_type": "code",
   "execution_count": 13,
   "metadata": {},
   "outputs": [
    {
     "data": {
      "text/plain": [
       "0"
      ]
     },
     "execution_count": 13,
     "metadata": {},
     "output_type": "execute_result"
    }
   ],
   "source": [
    "df.duplicated().sum()"
   ]
  },
  {
   "cell_type": "markdown",
   "metadata": {},
   "source": [
    "**Итог**: \\\n",
    "Почистили данные, проверили на дубликат и пропуски. Заменили название одного столбца, некоторые данные в таблице так же заменили для удобства. Проверили на уникальность. Можно переходить к анализу данных. \\\n",
    "P.S. Что касается максимального и минимального колчества посадочных мест в заведениях: 0 - реален, это может быть рюмочная, ларёк быстрого питания и др., 1700 - тоже возможно, тем более в столице. Оставим как есть. \\\n",
    "Перейдём к анализу данных"
   ]
  },
  {
   "cell_type": "code",
   "execution_count": 14,
   "metadata": {},
   "outputs": [],
   "source": [
    "del df['id']"
   ]
  },
  {
   "cell_type": "code",
   "execution_count": 15,
   "metadata": {},
   "outputs": [
    {
     "data": {
      "text/plain": [
       "85"
      ]
     },
     "execution_count": 15,
     "metadata": {},
     "output_type": "execute_result"
    }
   ],
   "source": [
    "df.duplicated().sum()"
   ]
  },
  {
   "cell_type": "markdown",
   "metadata": {},
   "source": [
    "Появилось 85 дубликатов. Причины появления дубликатов:\n",
    "- изначально в таблицу были внесены одинаковые заведения. просто им присвоились разные id\n",
    "- при нашей \"чистке\" изначально разные строки стали одинаковыми (заглавные буквы стали строчными, буквы Ё заменились на Е, пропали кавычки, запятые и так далее) \\\n",
    "В любом случае мы имеем заведения с одинаковыми названиями, адресами, количеством посадочных мест. \\\n",
    "Их нужно удалить."
   ]
  },
  {
   "cell_type": "code",
   "execution_count": 16,
   "metadata": {},
   "outputs": [],
   "source": [
    "df = df.drop_duplicates()"
   ]
  },
  {
   "cell_type": "markdown",
   "metadata": {},
   "source": [
    "## Анализ данных"
   ]
  },
  {
   "cell_type": "markdown",
   "metadata": {},
   "source": [
    "### Исследуем соотношение видов объектов общественного питания по количеству"
   ]
  },
  {
   "cell_type": "markdown",
   "metadata": {},
   "source": [
    "Сначала посмотрим на количество посадочных мест. Сгруппируем данные. Построим график"
   ]
  },
  {
   "cell_type": "code",
   "execution_count": 17,
   "metadata": {},
   "outputs": [
    {
     "data": {
      "image/png": "[encoded data removed]",
      "text/plain": [
       "<Figure size 720x360 with 1 Axes>"
      ]
     },
     "metadata": {},
     "output_type": "display_data"
    }
   ],
   "source": [
    "сount_number_seats_by_type = df.groupby('object_type').sum().reset_index()\n",
    "ax = (сount_number_seats_by_type[['object_type', 'number_of_seats']]\\\n",
    "      .set_index('object_type')\\\n",
    "      .sort_values('number_of_seats', ascending=True)\\\n",
    "      .plot(kind='bar'))\n",
    "ax.set_xlabel('Тип объекта')\n",
    "ax.set_ylabel('количество мест')\n",
    "ax.set_title('Количество посадочных мест в объектах общественного питания')\n",
    "plt.xticks(rotation=45)\n",
    "plt.show()"
   ]
  },
  {
   "cell_type": "markdown",
   "metadata": {},
   "source": [
    "А теперь посчитаем по количеству заведения на каждый тип"
   ]
  },
  {
   "cell_type": "code",
   "execution_count": 18,
   "metadata": {},
   "outputs": [
    {
     "data": {
      "image/png": "[encoded data removed]",
      "text/plain": [
       "<Figure size 720x360 with 1 Axes>"
      ]
     },
     "metadata": {},
     "output_type": "display_data"
    }
   ],
   "source": [
    "count_by_type = df.groupby('object_type').count().reset_index()\n",
    "ax = (count_by_type[['object_type', 'number_of_seats']]\\\n",
    "      .set_index('object_type')\\\n",
    "      .sort_values('number_of_seats', ascending=True)\\\n",
    "      .plot(kind='bar'))\n",
    "ax.set_xlabel('Тип объекта')\n",
    "ax.set_ylabel('Количество объектов')\n",
    "ax.set_title('Кол-во объектов общественного питания в Москве')\n",
    "plt.xticks(rotation=45)\n",
    "plt.show()"
   ]
  },
  {
   "cell_type": "markdown",
   "metadata": {},
   "source": [
    "**Выводы**:\n",
    "- Кафе (как тип заведения) в Москве больше всего\n",
    "- Столовые рестораны и фаст-фуды находятся примерно на одном уровне по количеству заведений\n",
    "- А вот по количеству посадочных мест лидируют столовые. Кафе и рестораны разделяют второе место "
   ]
  },
  {
   "cell_type": "markdown",
   "metadata": {},
   "source": [
    "### Исследуем соотношение сетевых и несетевых заведений по количеству. Построим график"
   ]
  },
  {
   "cell_type": "markdown",
   "metadata": {},
   "source": [
    "Сгруппируем данные. Построим график."
   ]
  },
  {
   "cell_type": "code",
   "execution_count": 19,
   "metadata": {},
   "outputs": [
    {
     "data": {
      "text/plain": [
       "chain\n",
       "сетевое       2964\n",
       "несетевое    12317\n",
       "Name: object_name, dtype: int64"
      ]
     },
     "execution_count": 19,
     "metadata": {},
     "output_type": "execute_result"
    }
   ],
   "source": [
    "df.groupby('chain')['object_name'].count().sort_values()"
   ]
  },
  {
   "cell_type": "code",
   "execution_count": 20,
   "metadata": {},
   "outputs": [
    {
     "data": {
      "image/png": "[encoded data removed]",
      "text/plain": [
       "<Figure size 720x360 with 1 Axes>"
      ]
     },
     "metadata": {},
     "output_type": "display_data"
    }
   ],
   "source": [
    "ax = df.groupby('chain')['object_name'].count().sort_values().plot(kind='bar')\n",
    "ax.set_xlabel('Тип объекта')\n",
    "ax.set_ylabel('Количество объектов')\n",
    "ax.set_title('Кол-во сетевых и несетевых объектов общественного питания в Москве')\n",
    "plt.xticks(rotation=45)\n",
    "plt.show()"
   ]
  },
  {
   "cell_type": "markdown",
   "metadata": {},
   "source": [
    "Несетевых заведений в Москве больше, чем сетевых. Более, чем в 4 раза"
   ]
  },
  {
   "cell_type": "markdown",
   "metadata": {},
   "source": [
    "### Для какого вида объекта общественного питания характерно сетевое распространение?"
   ]
  },
  {
   "cell_type": "markdown",
   "metadata": {},
   "source": [
    "Составим сводную таблицу по типу объкта и по сетевому признаку"
   ]
  },
  {
   "cell_type": "code",
   "execution_count": 21,
   "metadata": {},
   "outputs": [
    {
     "data": {
      "text/html": [
       "<div>\n",
       "<style scoped>\n",
       "    .dataframe tbody tr th:only-of-type {\n",
       "        vertical-align: middle;\n",
       "    }\n",
       "\n",
       "    .dataframe tbody tr th {\n",
       "        vertical-align: top;\n",
       "    }\n",
       "\n",
       "    .dataframe thead th {\n",
       "        text-align: right;\n",
       "    }\n",
       "</style>\n",
       "<table border=\"1\" class=\"dataframe\">\n",
       "  <thead>\n",
       "    <tr style=\"text-align: right;\">\n",
       "      <th>chain</th>\n",
       "      <th>несетевое</th>\n",
       "      <th>сетевое</th>\n",
       "    </tr>\n",
       "    <tr>\n",
       "      <th>object_type</th>\n",
       "      <th></th>\n",
       "      <th></th>\n",
       "    </tr>\n",
       "  </thead>\n",
       "  <tbody>\n",
       "    <tr>\n",
       "      <th>бар</th>\n",
       "      <td>818</td>\n",
       "      <td>37</td>\n",
       "    </tr>\n",
       "    <tr>\n",
       "      <th>буфет</th>\n",
       "      <td>565</td>\n",
       "      <td>11</td>\n",
       "    </tr>\n",
       "    <tr>\n",
       "      <th>закусочная</th>\n",
       "      <td>292</td>\n",
       "      <td>56</td>\n",
       "    </tr>\n",
       "    <tr>\n",
       "      <th>кафе</th>\n",
       "      <td>4675</td>\n",
       "      <td>1396</td>\n",
       "    </tr>\n",
       "    <tr>\n",
       "      <th>кафетерий</th>\n",
       "      <td>343</td>\n",
       "      <td>52</td>\n",
       "    </tr>\n",
       "    <tr>\n",
       "      <th>кулинария</th>\n",
       "      <td>195</td>\n",
       "      <td>78</td>\n",
       "    </tr>\n",
       "    <tr>\n",
       "      <th>ресторан</th>\n",
       "      <td>1739</td>\n",
       "      <td>543</td>\n",
       "    </tr>\n",
       "    <tr>\n",
       "      <th>столовая</th>\n",
       "      <td>2581</td>\n",
       "      <td>3</td>\n",
       "    </tr>\n",
       "    <tr>\n",
       "      <th>фаст-фуд</th>\n",
       "      <td>1109</td>\n",
       "      <td>788</td>\n",
       "    </tr>\n",
       "  </tbody>\n",
       "</table>\n",
       "</div>"
      ],
      "text/plain": [
       "chain        несетевое  сетевое\n",
       "object_type                    \n",
       "бар                818       37\n",
       "буфет              565       11\n",
       "закусочная         292       56\n",
       "кафе              4675     1396\n",
       "кафетерий          343       52\n",
       "кулинария          195       78\n",
       "ресторан          1739      543\n",
       "столовая          2581        3\n",
       "фаст-фуд          1109      788"
      ]
     },
     "execution_count": 21,
     "metadata": {},
     "output_type": "execute_result"
    }
   ],
   "source": [
    "df_1 = (\n",
    "        pd.pivot_table(df, index = 'object_type', columns = 'chain', values ='object_name', aggfunc = 'count'))\n",
    "df_1"
   ]
  },
  {
   "cell_type": "markdown",
   "metadata": {},
   "source": [
    "Посчитаем процентное соотношение сетевых заведений к общему их числу "
   ]
  },
  {
   "cell_type": "code",
   "execution_count": 22,
   "metadata": {},
   "outputs": [
    {
     "data": {
      "text/html": [
       "<div>\n",
       "<style scoped>\n",
       "    .dataframe tbody tr th:only-of-type {\n",
       "        vertical-align: middle;\n",
       "    }\n",
       "\n",
       "    .dataframe tbody tr th {\n",
       "        vertical-align: top;\n",
       "    }\n",
       "\n",
       "    .dataframe thead th {\n",
       "        text-align: right;\n",
       "    }\n",
       "</style>\n",
       "<table border=\"1\" class=\"dataframe\">\n",
       "  <thead>\n",
       "    <tr style=\"text-align: right;\">\n",
       "      <th>chain</th>\n",
       "      <th>несетевое</th>\n",
       "      <th>сетевое</th>\n",
       "      <th>chain</th>\n",
       "    </tr>\n",
       "    <tr>\n",
       "      <th>object_type</th>\n",
       "      <th></th>\n",
       "      <th></th>\n",
       "      <th></th>\n",
       "    </tr>\n",
       "  </thead>\n",
       "  <tbody>\n",
       "    <tr>\n",
       "      <th>фаст-фуд</th>\n",
       "      <td>1109</td>\n",
       "      <td>788</td>\n",
       "      <td>41.54</td>\n",
       "    </tr>\n",
       "    <tr>\n",
       "      <th>кулинария</th>\n",
       "      <td>195</td>\n",
       "      <td>78</td>\n",
       "      <td>28.57</td>\n",
       "    </tr>\n",
       "    <tr>\n",
       "      <th>ресторан</th>\n",
       "      <td>1739</td>\n",
       "      <td>543</td>\n",
       "      <td>23.79</td>\n",
       "    </tr>\n",
       "    <tr>\n",
       "      <th>кафе</th>\n",
       "      <td>4675</td>\n",
       "      <td>1396</td>\n",
       "      <td>22.99</td>\n",
       "    </tr>\n",
       "    <tr>\n",
       "      <th>закусочная</th>\n",
       "      <td>292</td>\n",
       "      <td>56</td>\n",
       "      <td>16.09</td>\n",
       "    </tr>\n",
       "    <tr>\n",
       "      <th>кафетерий</th>\n",
       "      <td>343</td>\n",
       "      <td>52</td>\n",
       "      <td>13.16</td>\n",
       "    </tr>\n",
       "    <tr>\n",
       "      <th>бар</th>\n",
       "      <td>818</td>\n",
       "      <td>37</td>\n",
       "      <td>4.33</td>\n",
       "    </tr>\n",
       "    <tr>\n",
       "      <th>буфет</th>\n",
       "      <td>565</td>\n",
       "      <td>11</td>\n",
       "      <td>1.91</td>\n",
       "    </tr>\n",
       "    <tr>\n",
       "      <th>столовая</th>\n",
       "      <td>2581</td>\n",
       "      <td>3</td>\n",
       "      <td>0.12</td>\n",
       "    </tr>\n",
       "  </tbody>\n",
       "</table>\n",
       "</div>"
      ],
      "text/plain": [
       "chain        несетевое  сетевое  chain\n",
       "object_type                           \n",
       "фаст-фуд          1109      788  41.54\n",
       "кулинария          195       78  28.57\n",
       "ресторан          1739      543  23.79\n",
       "кафе              4675     1396  22.99\n",
       "закусочная         292       56  16.09\n",
       "кафетерий          343       52  13.16\n",
       "бар                818       37   4.33\n",
       "буфет              565       11   1.91\n",
       "столовая          2581        3   0.12"
      ]
     },
     "execution_count": 22,
     "metadata": {},
     "output_type": "execute_result"
    }
   ],
   "source": [
    "df_1['chain'] = round(df_1['сетевое']/(df_1['сетевое'] + df_1['несетевое'])*100,2)\n",
    "df_1.sort_values('chain',ascending = False)"
   ]
  },
  {
   "cell_type": "markdown",
   "metadata": {},
   "source": [
    "Лидер сетевого размещения - фаст-фуд. Кулинарии, рестораны и кафе разделяют второе место"
   ]
  },
  {
   "cell_type": "markdown",
   "metadata": {},
   "source": [
    "### Что характерно для сетевых заведений: много заведений с небольшим числом посадочных мест в каждом или мало заведений с большим количеством посадочных мест?"
   ]
  },
  {
   "cell_type": "markdown",
   "metadata": {},
   "source": [
    "Оставим в данныз только сетевые заведения"
   ]
  },
  {
   "cell_type": "code",
   "execution_count": 23,
   "metadata": {},
   "outputs": [],
   "source": [
    "chain_cafe = df.query('chain == \"сетевое\"')"
   ]
  },
  {
   "cell_type": "markdown",
   "metadata": {},
   "source": [
    "Сгруппируем данные по названию сети. Посчитаем их количество и медианное количество посадочных мест "
   ]
  },
  {
   "cell_type": "code",
   "execution_count": 24,
   "metadata": {},
   "outputs": [
    {
     "data": {
      "text/html": [
       "<div>\n",
       "<style scoped>\n",
       "    .dataframe tbody tr th:only-of-type {\n",
       "        vertical-align: middle;\n",
       "    }\n",
       "\n",
       "    .dataframe tbody tr th {\n",
       "        vertical-align: top;\n",
       "    }\n",
       "\n",
       "    .dataframe thead th {\n",
       "        text-align: right;\n",
       "    }\n",
       "</style>\n",
       "<table border=\"1\" class=\"dataframe\">\n",
       "  <thead>\n",
       "    <tr style=\"text-align: right;\">\n",
       "      <th></th>\n",
       "      <th>object_name</th>\n",
       "      <th>number_of_seats</th>\n",
       "    </tr>\n",
       "    <tr>\n",
       "      <th>object_name</th>\n",
       "      <th></th>\n",
       "      <th></th>\n",
       "    </tr>\n",
       "  </thead>\n",
       "  <tbody>\n",
       "    <tr>\n",
       "      <th>кафе кулинарная лавка братьев караваевых</th>\n",
       "      <td>2</td>\n",
       "      <td>9.0</td>\n",
       "    </tr>\n",
       "    <tr>\n",
       "      <th>beverly hills diner</th>\n",
       "      <td>1</td>\n",
       "      <td>88.0</td>\n",
       "    </tr>\n",
       "    <tr>\n",
       "      <th>bierloga</th>\n",
       "      <td>1</td>\n",
       "      <td>75.0</td>\n",
       "    </tr>\n",
       "    <tr>\n",
       "      <th>black &amp; white</th>\n",
       "      <td>1</td>\n",
       "      <td>40.0</td>\n",
       "    </tr>\n",
       "    <tr>\n",
       "      <th>bocconcino</th>\n",
       "      <td>3</td>\n",
       "      <td>68.0</td>\n",
       "    </tr>\n",
       "    <tr>\n",
       "      <th>...</th>\n",
       "      <td>...</td>\n",
       "      <td>...</td>\n",
       "    </tr>\n",
       "    <tr>\n",
       "      <th>ямми микс</th>\n",
       "      <td>1</td>\n",
       "      <td>2.0</td>\n",
       "    </tr>\n",
       "    <tr>\n",
       "      <th>ян примус</th>\n",
       "      <td>1</td>\n",
       "      <td>300.0</td>\n",
       "    </tr>\n",
       "    <tr>\n",
       "      <th>японский ресторан ваби-саби</th>\n",
       "      <td>1</td>\n",
       "      <td>155.0</td>\n",
       "    </tr>\n",
       "    <tr>\n",
       "      <th>япоша</th>\n",
       "      <td>2</td>\n",
       "      <td>105.0</td>\n",
       "    </tr>\n",
       "    <tr>\n",
       "      <th>ёрш</th>\n",
       "      <td>4</td>\n",
       "      <td>104.0</td>\n",
       "    </tr>\n",
       "  </tbody>\n",
       "</table>\n",
       "<p>573 rows × 2 columns</p>\n",
       "</div>"
      ],
      "text/plain": [
       "                                            object_name  number_of_seats\n",
       "object_name                                                             \n",
       " кафе кулинарная лавка братьев караваевых             2              9.0\n",
       "beverly hills diner                                   1             88.0\n",
       "bierloga                                              1             75.0\n",
       "black & white                                         1             40.0\n",
       "bocconcino                                            3             68.0\n",
       "...                                                 ...              ...\n",
       "ямми микс                                             1              2.0\n",
       "ян примус                                             1            300.0\n",
       "японский ресторан ваби-саби                           1            155.0\n",
       "япоша                                                 2            105.0\n",
       "ёрш                                                   4            104.0\n",
       "\n",
       "[573 rows x 2 columns]"
      ]
     },
     "execution_count": 24,
     "metadata": {},
     "output_type": "execute_result"
    }
   ],
   "source": [
    "chain_cafe = chain_cafe.groupby('object_name').agg({'object_name':'count','number_of_seats':'median'})\n",
    "chain_cafe"
   ]
  },
  {
   "cell_type": "code",
   "execution_count": 25,
   "metadata": {},
   "outputs": [
    {
     "data": {
      "image/png": "[encoded data removed]",
      "text/plain": [
       "<Figure size 720x360 with 1 Axes>"
      ]
     },
     "metadata": {},
     "output_type": "display_data"
    }
   ],
   "source": [
    "sns.regplot(x=chain_cafe[\"object_name\"], y=chain_cafe[\"number_of_seats\"])\n",
    "plt.show()"
   ]
  },
  {
   "cell_type": "markdown",
   "metadata": {},
   "source": [
    "**Ответ на вопрос**: Приоритетная ситуация для сетей - много посадочных мест, мало заведений"
   ]
  },
  {
   "cell_type": "markdown",
   "metadata": {},
   "source": [
    "### Для каждого вида объекта общественного питания опишите среднее количество посадочных мест. Какой вид предоставляет в среднем самое большое количество посадочных мест? Постройте графики."
   ]
  },
  {
   "cell_type": "markdown",
   "metadata": {},
   "source": [
    "Бостроим боксплоты по типам заведений по количеству посадочных мест в каждом "
   ]
  },
  {
   "cell_type": "code",
   "execution_count": 26,
   "metadata": {
    "scrolled": false
   },
   "outputs": [
    {
     "data": {
      "image/png": "[encoded data removed]",
      "text/plain": [
       "<Figure size 720x360 with 1 Axes>"
      ]
     },
     "metadata": {},
     "output_type": "display_data"
    }
   ],
   "source": [
    "ax = sns.boxplot(x='number_of_seats', y='object_type', data=df, palette=\"Set3\")\n",
    "ax.set_xlim(-10,300)\n",
    "plt.show()"
   ]
  },
  {
   "cell_type": "code",
   "execution_count": 27,
   "metadata": {},
   "outputs": [
    {
     "data": {
      "text/html": [
       "<div>\n",
       "<style scoped>\n",
       "    .dataframe tbody tr th:only-of-type {\n",
       "        vertical-align: middle;\n",
       "    }\n",
       "\n",
       "    .dataframe tbody tr th {\n",
       "        vertical-align: top;\n",
       "    }\n",
       "\n",
       "    .dataframe thead th {\n",
       "        text-align: right;\n",
       "    }\n",
       "</style>\n",
       "<table border=\"1\" class=\"dataframe\">\n",
       "  <thead>\n",
       "    <tr style=\"text-align: right;\">\n",
       "      <th></th>\n",
       "      <th>count</th>\n",
       "      <th>mean</th>\n",
       "      <th>std</th>\n",
       "      <th>min</th>\n",
       "      <th>25%</th>\n",
       "      <th>50%</th>\n",
       "      <th>75%</th>\n",
       "      <th>max</th>\n",
       "    </tr>\n",
       "    <tr>\n",
       "      <th>object_type</th>\n",
       "      <th></th>\n",
       "      <th></th>\n",
       "      <th></th>\n",
       "      <th></th>\n",
       "      <th></th>\n",
       "      <th></th>\n",
       "      <th></th>\n",
       "      <th></th>\n",
       "    </tr>\n",
       "  </thead>\n",
       "  <tbody>\n",
       "    <tr>\n",
       "      <th>закусочная</th>\n",
       "      <td>348.0</td>\n",
       "      <td>7.847701</td>\n",
       "      <td>16.884497</td>\n",
       "      <td>0.0</td>\n",
       "      <td>0.0</td>\n",
       "      <td>0.0</td>\n",
       "      <td>10.0</td>\n",
       "      <td>216.0</td>\n",
       "    </tr>\n",
       "    <tr>\n",
       "      <th>кулинария</th>\n",
       "      <td>273.0</td>\n",
       "      <td>5.589744</td>\n",
       "      <td>9.872729</td>\n",
       "      <td>0.0</td>\n",
       "      <td>0.0</td>\n",
       "      <td>0.0</td>\n",
       "      <td>8.0</td>\n",
       "      <td>50.0</td>\n",
       "    </tr>\n",
       "    <tr>\n",
       "      <th>кафетерий</th>\n",
       "      <td>395.0</td>\n",
       "      <td>9.184810</td>\n",
       "      <td>14.677023</td>\n",
       "      <td>0.0</td>\n",
       "      <td>0.0</td>\n",
       "      <td>6.0</td>\n",
       "      <td>12.0</td>\n",
       "      <td>200.0</td>\n",
       "    </tr>\n",
       "    <tr>\n",
       "      <th>фаст-фуд</th>\n",
       "      <td>1897.0</td>\n",
       "      <td>20.808645</td>\n",
       "      <td>38.563004</td>\n",
       "      <td>0.0</td>\n",
       "      <td>0.0</td>\n",
       "      <td>6.0</td>\n",
       "      <td>25.0</td>\n",
       "      <td>580.0</td>\n",
       "    </tr>\n",
       "    <tr>\n",
       "      <th>кафе</th>\n",
       "      <td>6071.0</td>\n",
       "      <td>39.785703</td>\n",
       "      <td>37.751163</td>\n",
       "      <td>0.0</td>\n",
       "      <td>15.0</td>\n",
       "      <td>30.0</td>\n",
       "      <td>50.0</td>\n",
       "      <td>533.0</td>\n",
       "    </tr>\n",
       "    <tr>\n",
       "      <th>буфет</th>\n",
       "      <td>576.0</td>\n",
       "      <td>51.425347</td>\n",
       "      <td>56.512850</td>\n",
       "      <td>0.0</td>\n",
       "      <td>15.0</td>\n",
       "      <td>32.0</td>\n",
       "      <td>80.0</td>\n",
       "      <td>320.0</td>\n",
       "    </tr>\n",
       "    <tr>\n",
       "      <th>бар</th>\n",
       "      <td>855.0</td>\n",
       "      <td>43.533333</td>\n",
       "      <td>67.112342</td>\n",
       "      <td>0.0</td>\n",
       "      <td>20.0</td>\n",
       "      <td>35.0</td>\n",
       "      <td>50.0</td>\n",
       "      <td>1700.0</td>\n",
       "    </tr>\n",
       "    <tr>\n",
       "      <th>ресторан</th>\n",
       "      <td>2282.0</td>\n",
       "      <td>96.884750</td>\n",
       "      <td>94.781446</td>\n",
       "      <td>0.0</td>\n",
       "      <td>46.0</td>\n",
       "      <td>80.0</td>\n",
       "      <td>114.0</td>\n",
       "      <td>1500.0</td>\n",
       "    </tr>\n",
       "    <tr>\n",
       "      <th>столовая</th>\n",
       "      <td>2584.0</td>\n",
       "      <td>130.337848</td>\n",
       "      <td>95.189104</td>\n",
       "      <td>0.0</td>\n",
       "      <td>51.5</td>\n",
       "      <td>103.0</td>\n",
       "      <td>200.0</td>\n",
       "      <td>1400.0</td>\n",
       "    </tr>\n",
       "  </tbody>\n",
       "</table>\n",
       "</div>"
      ],
      "text/plain": [
       "              count        mean        std  min   25%    50%    75%     max\n",
       "object_type                                                                \n",
       "закусочная    348.0    7.847701  16.884497  0.0   0.0    0.0   10.0   216.0\n",
       "кулинария     273.0    5.589744   9.872729  0.0   0.0    0.0    8.0    50.0\n",
       "кафетерий     395.0    9.184810  14.677023  0.0   0.0    6.0   12.0   200.0\n",
       "фаст-фуд     1897.0   20.808645  38.563004  0.0   0.0    6.0   25.0   580.0\n",
       "кафе         6071.0   39.785703  37.751163  0.0  15.0   30.0   50.0   533.0\n",
       "буфет         576.0   51.425347  56.512850  0.0  15.0   32.0   80.0   320.0\n",
       "бар           855.0   43.533333  67.112342  0.0  20.0   35.0   50.0  1700.0\n",
       "ресторан     2282.0   96.884750  94.781446  0.0  46.0   80.0  114.0  1500.0\n",
       "столовая     2584.0  130.337848  95.189104  0.0  51.5  103.0  200.0  1400.0"
      ]
     },
     "execution_count": 27,
     "metadata": {},
     "output_type": "execute_result"
    }
   ],
   "source": [
    "df.groupby('object_type')['number_of_seats'].describe().sort_values(by='50%')"
   ]
  },
  {
   "cell_type": "code",
   "execution_count": 28,
   "metadata": {
    "scrolled": false
   },
   "outputs": [
    {
     "data": {
      "image/png": "[encoded data removed]",
      "text/plain": [
       "<Figure size 720x360 with 1 Axes>"
      ]
     },
     "metadata": {},
     "output_type": "display_data"
    }
   ],
   "source": [
    "ax = sns.barplot(x='object_type', y='number_of_seats', data=df, palette=\"Set3\")\n",
    "ax.set_xlabel('Тип объекта')\n",
    "ax.set_ylabel('Количество мест')\n",
    "ax.set_title('Кол-во мест на объектах общественного питания в Москве')\n",
    "plt.xticks(rotation=45)\n",
    "plt.show()"
   ]
  },
  {
   "cell_type": "markdown",
   "metadata": {},
   "source": [
    "Лидер по среднему количеству посадочных мест - столовая. На втором месте - ресторан. Третье разделяют - кафе, бар и буфет"
   ]
  },
  {
   "cell_type": "markdown",
   "metadata": {},
   "source": [
    "### Выделите в отдельный столбец информацию об улице из столбца address"
   ]
  },
  {
   "cell_type": "markdown",
   "metadata": {},
   "source": [
    "Выделяем в отдельную переменную названия всех улиц"
   ]
  },
  {
   "cell_type": "code",
   "execution_count": 29,
   "metadata": {},
   "outputs": [],
   "source": [
    "streets = df['address'].to_list()"
   ]
  },
  {
   "cell_type": "markdown",
   "metadata": {},
   "source": [
    "\"Пройдёмся\" по всем адресам. Название улицы находится между названием города( Москвы) и дома"
   ]
  },
  {
   "cell_type": "code",
   "execution_count": 30,
   "metadata": {},
   "outputs": [],
   "source": [
    "streets_only = []\n",
    "for street in streets:  \n",
    "    start = street.find('город москва')\n",
    "    end = street.find('дом')\n",
    "    streets_only.append(street[start+13:end-1])"
   ]
  },
  {
   "cell_type": "markdown",
   "metadata": {},
   "source": [
    "Добавим отдельный столбец с названием улицы"
   ]
  },
  {
   "cell_type": "code",
   "execution_count": 31,
   "metadata": {},
   "outputs": [],
   "source": [
    "df['street_name'] = streets_only"
   ]
  },
  {
   "cell_type": "markdown",
   "metadata": {},
   "source": [
    "Проверим данные"
   ]
  },
  {
   "cell_type": "code",
   "execution_count": 32,
   "metadata": {},
   "outputs": [
    {
     "data": {
      "text/html": [
       "<div>\n",
       "<style scoped>\n",
       "    .dataframe tbody tr th:only-of-type {\n",
       "        vertical-align: middle;\n",
       "    }\n",
       "\n",
       "    .dataframe tbody tr th {\n",
       "        vertical-align: top;\n",
       "    }\n",
       "\n",
       "    .dataframe thead th {\n",
       "        text-align: right;\n",
       "    }\n",
       "</style>\n",
       "<table border=\"1\" class=\"dataframe\">\n",
       "  <thead>\n",
       "    <tr style=\"text-align: right;\">\n",
       "      <th></th>\n",
       "      <th>object_name</th>\n",
       "      <th>chain</th>\n",
       "      <th>object_type</th>\n",
       "      <th>address</th>\n",
       "      <th>number_of_seats</th>\n",
       "      <th>street_name</th>\n",
       "    </tr>\n",
       "  </thead>\n",
       "  <tbody>\n",
       "    <tr>\n",
       "      <th>0</th>\n",
       "      <td>сметана</td>\n",
       "      <td>несетевое</td>\n",
       "      <td>кафе</td>\n",
       "      <td>город москва улица егора абакумова дом 9</td>\n",
       "      <td>48</td>\n",
       "      <td>улица егора абакумова</td>\n",
       "    </tr>\n",
       "    <tr>\n",
       "      <th>1</th>\n",
       "      <td>родник</td>\n",
       "      <td>несетевое</td>\n",
       "      <td>кафе</td>\n",
       "      <td>город москва улица талалихина дом 2/1 корпус 1</td>\n",
       "      <td>35</td>\n",
       "      <td>улица талалихина</td>\n",
       "    </tr>\n",
       "    <tr>\n",
       "      <th>2</th>\n",
       "      <td>кафе академия</td>\n",
       "      <td>несетевое</td>\n",
       "      <td>кафе</td>\n",
       "      <td>город москва абельмановская улица дом 6</td>\n",
       "      <td>95</td>\n",
       "      <td>абельмановская улица</td>\n",
       "    </tr>\n",
       "    <tr>\n",
       "      <th>3</th>\n",
       "      <td>пиццетория</td>\n",
       "      <td>сетевое</td>\n",
       "      <td>кафе</td>\n",
       "      <td>город москва абрамцевская улица дом 1</td>\n",
       "      <td>40</td>\n",
       "      <td>абрамцевская улица</td>\n",
       "    </tr>\n",
       "    <tr>\n",
       "      <th>4</th>\n",
       "      <td>кафе вишневая метель</td>\n",
       "      <td>несетевое</td>\n",
       "      <td>кафе</td>\n",
       "      <td>город москва абрамцевская улица дом 9 корпус 1</td>\n",
       "      <td>50</td>\n",
       "      <td>абрамцевская улица</td>\n",
       "    </tr>\n",
       "    <tr>\n",
       "      <th>5</th>\n",
       "      <td>стол. при гоу сош № 1051</td>\n",
       "      <td>несетевое</td>\n",
       "      <td>столовая</td>\n",
       "      <td>город москва абрамцевская улица дом 15 корпус 1</td>\n",
       "      <td>240</td>\n",
       "      <td>абрамцевская улица</td>\n",
       "    </tr>\n",
       "    <tr>\n",
       "      <th>6</th>\n",
       "      <td>брусника</td>\n",
       "      <td>сетевое</td>\n",
       "      <td>кафе</td>\n",
       "      <td>город москва переулок сивцев вражек дом 6/2</td>\n",
       "      <td>10</td>\n",
       "      <td>переулок сивцев вражек</td>\n",
       "    </tr>\n",
       "    <tr>\n",
       "      <th>7</th>\n",
       "      <td>буфет мтуси</td>\n",
       "      <td>несетевое</td>\n",
       "      <td>столовая</td>\n",
       "      <td>город москва авиамоторная улица дом 8 строение 1</td>\n",
       "      <td>90</td>\n",
       "      <td>авиамоторная улица</td>\n",
       "    </tr>\n",
       "    <tr>\n",
       "      <th>8</th>\n",
       "      <td>кпф семья-1</td>\n",
       "      <td>несетевое</td>\n",
       "      <td>столовая</td>\n",
       "      <td>город москва авиамоторная улица дом 8 строение 1</td>\n",
       "      <td>150</td>\n",
       "      <td>авиамоторная улица</td>\n",
       "    </tr>\n",
       "    <tr>\n",
       "      <th>9</th>\n",
       "      <td>столовая мтуси</td>\n",
       "      <td>несетевое</td>\n",
       "      <td>столовая</td>\n",
       "      <td>город москва авиамоторная улица дом 8 строение 1</td>\n",
       "      <td>120</td>\n",
       "      <td>авиамоторная улица</td>\n",
       "    </tr>\n",
       "    <tr>\n",
       "      <th>10</th>\n",
       "      <td>пекарня 24</td>\n",
       "      <td>несетевое</td>\n",
       "      <td>закусочная</td>\n",
       "      <td>город москва авиамоторная улица дом 47</td>\n",
       "      <td>5</td>\n",
       "      <td>авиамоторная улица</td>\n",
       "    </tr>\n",
       "    <tr>\n",
       "      <th>11</th>\n",
       "      <td>гогиели</td>\n",
       "      <td>несетевое</td>\n",
       "      <td>кафе</td>\n",
       "      <td>город москва авиамоторная улица дом 49/1</td>\n",
       "      <td>24</td>\n",
       "      <td>авиамоторная улица</td>\n",
       "    </tr>\n",
       "    <tr>\n",
       "      <th>12</th>\n",
       "      <td>школа 735</td>\n",
       "      <td>несетевое</td>\n",
       "      <td>столовая</td>\n",
       "      <td>город москва авиамоторная улица дом 51</td>\n",
       "      <td>140</td>\n",
       "      <td>авиамоторная улица</td>\n",
       "    </tr>\n",
       "    <tr>\n",
       "      <th>13</th>\n",
       "      <td>алло пицца</td>\n",
       "      <td>сетевое</td>\n",
       "      <td>кафе</td>\n",
       "      <td>город москва улица авиаторов дом 14</td>\n",
       "      <td>32</td>\n",
       "      <td>улица авиаторов</td>\n",
       "    </tr>\n",
       "    <tr>\n",
       "      <th>14</th>\n",
       "      <td>гимназия 1542</td>\n",
       "      <td>несетевое</td>\n",
       "      <td>столовая</td>\n",
       "      <td>город москва улица авиаторов дом 16</td>\n",
       "      <td>270</td>\n",
       "      <td>улица авиаторов</td>\n",
       "    </tr>\n",
       "  </tbody>\n",
       "</table>\n",
       "</div>"
      ],
      "text/plain": [
       "                 object_name      chain object_type  \\\n",
       "0                    сметана  несетевое        кафе   \n",
       "1                     родник  несетевое        кафе   \n",
       "2             кафе академия   несетевое        кафе   \n",
       "3                 пиццетория    сетевое        кафе   \n",
       "4      кафе вишневая метель   несетевое        кафе   \n",
       "5   стол. при гоу сош № 1051  несетевое    столовая   \n",
       "6                   брусника    сетевое        кафе   \n",
       "7                буфет мтуси  несетевое    столовая   \n",
       "8                кпф семья-1  несетевое    столовая   \n",
       "9             столовая мтуси  несетевое    столовая   \n",
       "10                пекарня 24  несетевое  закусочная   \n",
       "11                   гогиели  несетевое        кафе   \n",
       "12                 школа 735  несетевое    столовая   \n",
       "13                алло пицца    сетевое        кафе   \n",
       "14             гимназия 1542  несетевое    столовая   \n",
       "\n",
       "                                             address  number_of_seats  \\\n",
       "0           город москва улица егора абакумова дом 9               48   \n",
       "1     город москва улица талалихина дом 2/1 корпус 1               35   \n",
       "2            город москва абельмановская улица дом 6               95   \n",
       "3              город москва абрамцевская улица дом 1               40   \n",
       "4     город москва абрамцевская улица дом 9 корпус 1               50   \n",
       "5    город москва абрамцевская улица дом 15 корпус 1              240   \n",
       "6        город москва переулок сивцев вражек дом 6/2               10   \n",
       "7   город москва авиамоторная улица дом 8 строение 1               90   \n",
       "8   город москва авиамоторная улица дом 8 строение 1              150   \n",
       "9   город москва авиамоторная улица дом 8 строение 1              120   \n",
       "10            город москва авиамоторная улица дом 47                5   \n",
       "11          город москва авиамоторная улица дом 49/1               24   \n",
       "12            город москва авиамоторная улица дом 51              140   \n",
       "13               город москва улица авиаторов дом 14               32   \n",
       "14               город москва улица авиаторов дом 16              270   \n",
       "\n",
       "               street_name  \n",
       "0    улица егора абакумова  \n",
       "1         улица талалихина  \n",
       "2     абельмановская улица  \n",
       "3       абрамцевская улица  \n",
       "4       абрамцевская улица  \n",
       "5       абрамцевская улица  \n",
       "6   переулок сивцев вражек  \n",
       "7       авиамоторная улица  \n",
       "8       авиамоторная улица  \n",
       "9       авиамоторная улица  \n",
       "10      авиамоторная улица  \n",
       "11      авиамоторная улица  \n",
       "12      авиамоторная улица  \n",
       "13         улица авиаторов  \n",
       "14         улица авиаторов  "
      ]
     },
     "execution_count": 32,
     "metadata": {},
     "output_type": "execute_result"
    }
   ],
   "source": [
    "df.head(15)"
   ]
  },
  {
   "cell_type": "markdown",
   "metadata": {},
   "source": [
    "### Построим график топ-10 улиц по количеству объектов общественного питания. Воспользуйтесь внешней информацией и ответьте на вопрос — в каких районах Москвы находятся эти улицы?"
   ]
  },
  {
   "cell_type": "markdown",
   "metadata": {},
   "source": [
    "Сгруппируем данные"
   ]
  },
  {
   "cell_type": "code",
   "execution_count": 33,
   "metadata": {},
   "outputs": [
    {
     "data": {
      "text/html": [
       "<div>\n",
       "<style scoped>\n",
       "    .dataframe tbody tr th:only-of-type {\n",
       "        vertical-align: middle;\n",
       "    }\n",
       "\n",
       "    .dataframe tbody tr th {\n",
       "        vertical-align: top;\n",
       "    }\n",
       "\n",
       "    .dataframe thead th {\n",
       "        text-align: right;\n",
       "    }\n",
       "</style>\n",
       "<table border=\"1\" class=\"dataframe\">\n",
       "  <thead>\n",
       "    <tr style=\"text-align: right;\">\n",
       "      <th></th>\n",
       "      <th>street_name</th>\n",
       "      <th>object_name</th>\n",
       "      <th>chain</th>\n",
       "      <th>object_type</th>\n",
       "      <th>address</th>\n",
       "      <th>number_of_seats</th>\n",
       "    </tr>\n",
       "  </thead>\n",
       "  <tbody>\n",
       "    <tr>\n",
       "      <th>0</th>\n",
       "      <td>проспект мира</td>\n",
       "      <td>203</td>\n",
       "      <td>203</td>\n",
       "      <td>203</td>\n",
       "      <td>203</td>\n",
       "      <td>203</td>\n",
       "    </tr>\n",
       "    <tr>\n",
       "      <th>1</th>\n",
       "      <td>профсоюзная улица</td>\n",
       "      <td>181</td>\n",
       "      <td>181</td>\n",
       "      <td>181</td>\n",
       "      <td>181</td>\n",
       "      <td>181</td>\n",
       "    </tr>\n",
       "    <tr>\n",
       "      <th>2</th>\n",
       "      <td>ленинградский проспект</td>\n",
       "      <td>169</td>\n",
       "      <td>169</td>\n",
       "      <td>169</td>\n",
       "      <td>169</td>\n",
       "      <td>169</td>\n",
       "    </tr>\n",
       "    <tr>\n",
       "      <th>3</th>\n",
       "      <td>пресненская набережная</td>\n",
       "      <td>167</td>\n",
       "      <td>167</td>\n",
       "      <td>167</td>\n",
       "      <td>167</td>\n",
       "      <td>167</td>\n",
       "    </tr>\n",
       "    <tr>\n",
       "      <th>4</th>\n",
       "      <td>варшавское шоссе</td>\n",
       "      <td>155</td>\n",
       "      <td>155</td>\n",
       "      <td>155</td>\n",
       "      <td>155</td>\n",
       "      <td>155</td>\n",
       "    </tr>\n",
       "    <tr>\n",
       "      <th>5</th>\n",
       "      <td>ленинский проспект</td>\n",
       "      <td>147</td>\n",
       "      <td>147</td>\n",
       "      <td>147</td>\n",
       "      <td>147</td>\n",
       "      <td>147</td>\n",
       "    </tr>\n",
       "    <tr>\n",
       "      <th>6</th>\n",
       "      <td>проспект вернадского</td>\n",
       "      <td>127</td>\n",
       "      <td>127</td>\n",
       "      <td>127</td>\n",
       "      <td>127</td>\n",
       "      <td>127</td>\n",
       "    </tr>\n",
       "    <tr>\n",
       "      <th>7</th>\n",
       "      <td>кутузовский проспект</td>\n",
       "      <td>114</td>\n",
       "      <td>114</td>\n",
       "      <td>114</td>\n",
       "      <td>114</td>\n",
       "      <td>114</td>\n",
       "    </tr>\n",
       "    <tr>\n",
       "      <th>8</th>\n",
       "      <td>каширское шоссе</td>\n",
       "      <td>103</td>\n",
       "      <td>103</td>\n",
       "      <td>103</td>\n",
       "      <td>103</td>\n",
       "      <td>103</td>\n",
       "    </tr>\n",
       "    <tr>\n",
       "      <th>9</th>\n",
       "      <td>ходынский бульвар</td>\n",
       "      <td>102</td>\n",
       "      <td>102</td>\n",
       "      <td>102</td>\n",
       "      <td>102</td>\n",
       "      <td>102</td>\n",
       "    </tr>\n",
       "  </tbody>\n",
       "</table>\n",
       "</div>"
      ],
      "text/plain": [
       "              street_name  object_name  chain  object_type  address  \\\n",
       "0           проспект мира          203    203          203      203   \n",
       "1       профсоюзная улица          181    181          181      181   \n",
       "2  ленинградский проспект          169    169          169      169   \n",
       "3  пресненская набережная          167    167          167      167   \n",
       "4        варшавское шоссе          155    155          155      155   \n",
       "5      ленинский проспект          147    147          147      147   \n",
       "6    проспект вернадского          127    127          127      127   \n",
       "7    кутузовский проспект          114    114          114      114   \n",
       "8         каширское шоссе          103    103          103      103   \n",
       "9       ходынский бульвар          102    102          102      102   \n",
       "\n",
       "   number_of_seats  \n",
       "0              203  \n",
       "1              181  \n",
       "2              169  \n",
       "3              167  \n",
       "4              155  \n",
       "5              147  \n",
       "6              127  \n",
       "7              114  \n",
       "8              103  \n",
       "9              102  "
      ]
     },
     "execution_count": 33,
     "metadata": {},
     "output_type": "execute_result"
    }
   ],
   "source": [
    "top_streets = (df.groupby('street_name')\\\n",
    "               .count()\\\n",
    "               .sort_values(by='object_type', ascending=False)\\\n",
    "               .head(10)\\\n",
    "               .reset_index())\n",
    "top_10 = list(top_streets['street_name'])\n",
    "top_streets"
   ]
  },
  {
   "cell_type": "markdown",
   "metadata": {},
   "source": [
    "Построим график"
   ]
  },
  {
   "cell_type": "code",
   "execution_count": 34,
   "metadata": {},
   "outputs": [
    {
     "data": {
      "image/png": "[encoded data removed]",
      "text/plain": [
       "<Figure size 720x360 with 1 Axes>"
      ]
     },
     "metadata": {},
     "output_type": "display_data"
    }
   ],
   "source": [
    "ax = sns.barplot(x='object_type', y='street_name', data=top_streets, palette=\"Set3\")\n",
    "ax.set_xlabel('Количество объектов')\n",
    "ax.set_ylabel('Название улицы')\n",
    "ax.set_title('Топ-10 улиц по количеству объектов общественного питания')\n",
    "plt.xticks(rotation=45)\n",
    "plt.show()"
   ]
  },
  {
   "cell_type": "markdown",
   "metadata": {},
   "source": [
    "Подгрузим внешнюю таблицу и почистим данные"
   ]
  },
  {
   "cell_type": "code",
   "execution_count": 35,
   "metadata": {},
   "outputs": [
    {
     "data": {
      "text/html": [
       "<div>\n",
       "<style scoped>\n",
       "    .dataframe tbody tr th:only-of-type {\n",
       "        vertical-align: middle;\n",
       "    }\n",
       "\n",
       "    .dataframe tbody tr th {\n",
       "        vertical-align: top;\n",
       "    }\n",
       "\n",
       "    .dataframe thead th {\n",
       "        text-align: right;\n",
       "    }\n",
       "</style>\n",
       "<table border=\"1\" class=\"dataframe\">\n",
       "  <thead>\n",
       "    <tr style=\"text-align: right;\">\n",
       "      <th></th>\n",
       "      <th>street_name</th>\n",
       "      <th>areaid</th>\n",
       "      <th>okrug</th>\n",
       "      <th>area</th>\n",
       "    </tr>\n",
       "  </thead>\n",
       "  <tbody>\n",
       "    <tr>\n",
       "      <th>0</th>\n",
       "      <td>выставочный переулок</td>\n",
       "      <td>17</td>\n",
       "      <td>ЦАО</td>\n",
       "      <td>Пресненский район</td>\n",
       "    </tr>\n",
       "    <tr>\n",
       "      <th>1</th>\n",
       "      <td>улица гашека</td>\n",
       "      <td>17</td>\n",
       "      <td>ЦАО</td>\n",
       "      <td>Пресненский район</td>\n",
       "    </tr>\n",
       "    <tr>\n",
       "      <th>2</th>\n",
       "      <td>большая никитская улица</td>\n",
       "      <td>17</td>\n",
       "      <td>ЦАО</td>\n",
       "      <td>Пресненский район</td>\n",
       "    </tr>\n",
       "    <tr>\n",
       "      <th>3</th>\n",
       "      <td>глубокий переулок</td>\n",
       "      <td>17</td>\n",
       "      <td>ЦАО</td>\n",
       "      <td>Пресненский район</td>\n",
       "    </tr>\n",
       "    <tr>\n",
       "      <th>4</th>\n",
       "      <td>большой гнездниковский переулок</td>\n",
       "      <td>17</td>\n",
       "      <td>ЦАО</td>\n",
       "      <td>Пресненский район</td>\n",
       "    </tr>\n",
       "    <tr>\n",
       "      <th>...</th>\n",
       "      <td>...</td>\n",
       "      <td>...</td>\n",
       "      <td>...</td>\n",
       "      <td>...</td>\n",
       "    </tr>\n",
       "    <tr>\n",
       "      <th>4393</th>\n",
       "      <td>вознесенский проезд</td>\n",
       "      <td>17</td>\n",
       "      <td>ЦАО</td>\n",
       "      <td>Пресненский район</td>\n",
       "    </tr>\n",
       "    <tr>\n",
       "      <th>4394</th>\n",
       "      <td>волков переулок</td>\n",
       "      <td>17</td>\n",
       "      <td>ЦАО</td>\n",
       "      <td>Пресненский район</td>\n",
       "    </tr>\n",
       "    <tr>\n",
       "      <th>4395</th>\n",
       "      <td>поварская улица</td>\n",
       "      <td>17</td>\n",
       "      <td>ЦАО</td>\n",
       "      <td>Пресненский район</td>\n",
       "    </tr>\n",
       "    <tr>\n",
       "      <th>4396</th>\n",
       "      <td>кудринская площадь</td>\n",
       "      <td>17</td>\n",
       "      <td>ЦАО</td>\n",
       "      <td>Пресненский район</td>\n",
       "    </tr>\n",
       "    <tr>\n",
       "      <th>4397</th>\n",
       "      <td>вспольный переулок</td>\n",
       "      <td>17</td>\n",
       "      <td>ЦАО</td>\n",
       "      <td>Пресненский район</td>\n",
       "    </tr>\n",
       "  </tbody>\n",
       "</table>\n",
       "<p>4398 rows × 4 columns</p>\n",
       "</div>"
      ],
      "text/plain": [
       "                          street_name  areaid okrug               area\n",
       "0                выставочный переулок      17   ЦАО  Пресненский район\n",
       "1                        улица гашека      17   ЦАО  Пресненский район\n",
       "2             большая никитская улица      17   ЦАО  Пресненский район\n",
       "3                   глубокий переулок      17   ЦАО  Пресненский район\n",
       "4     большой гнездниковский переулок      17   ЦАО  Пресненский район\n",
       "...                               ...     ...   ...                ...\n",
       "4393              вознесенский проезд      17   ЦАО  Пресненский район\n",
       "4394                  волков переулок      17   ЦАО  Пресненский район\n",
       "4395                  поварская улица      17   ЦАО  Пресненский район\n",
       "4396               кудринская площадь      17   ЦАО  Пресненский район\n",
       "4397               вспольный переулок      17   ЦАО  Пресненский район\n",
       "\n",
       "[4398 rows x 4 columns]"
      ]
     },
     "execution_count": 35,
     "metadata": {},
     "output_type": "execute_result"
    }
   ],
   "source": [
    "area = pd.read_csv('https://frs.noosphere.ru/xmlui/bitstream/handle/20.500.11925/714058/mosgaz-streets.csv?sequence=1&isAllowed=y')\n",
    "area = area.rename(columns={'streetname':'street_name'})\n",
    "area['street_name'] = area['street_name'].str.lower()\n",
    "area"
   ]
  },
  {
   "cell_type": "code",
   "execution_count": 36,
   "metadata": {},
   "outputs": [],
   "source": [
    "top_streets = top_streets.merge(area, how = 'left' ,on= 'street_name')"
   ]
  },
  {
   "cell_type": "code",
   "execution_count": 37,
   "metadata": {},
   "outputs": [
    {
     "data": {
      "text/html": [
       "<div>\n",
       "<style scoped>\n",
       "    .dataframe tbody tr th:only-of-type {\n",
       "        vertical-align: middle;\n",
       "    }\n",
       "\n",
       "    .dataframe tbody tr th {\n",
       "        vertical-align: top;\n",
       "    }\n",
       "\n",
       "    .dataframe thead th {\n",
       "        text-align: right;\n",
       "    }\n",
       "</style>\n",
       "<table border=\"1\" class=\"dataframe\">\n",
       "  <thead>\n",
       "    <tr style=\"text-align: right;\">\n",
       "      <th></th>\n",
       "      <th>street_name</th>\n",
       "      <th>object_name</th>\n",
       "      <th>chain</th>\n",
       "      <th>object_type</th>\n",
       "      <th>address</th>\n",
       "      <th>number_of_seats</th>\n",
       "      <th>areaid</th>\n",
       "      <th>okrug</th>\n",
       "      <th>area</th>\n",
       "    </tr>\n",
       "  </thead>\n",
       "  <tbody>\n",
       "    <tr>\n",
       "      <th>0</th>\n",
       "      <td>проспект мира</td>\n",
       "      <td>203</td>\n",
       "      <td>203</td>\n",
       "      <td>203</td>\n",
       "      <td>203</td>\n",
       "      <td>203</td>\n",
       "      <td>70</td>\n",
       "      <td>СВАО</td>\n",
       "      <td>Алексеевский район</td>\n",
       "    </tr>\n",
       "    <tr>\n",
       "      <th>1</th>\n",
       "      <td>проспект мира</td>\n",
       "      <td>203</td>\n",
       "      <td>203</td>\n",
       "      <td>203</td>\n",
       "      <td>203</td>\n",
       "      <td>203</td>\n",
       "      <td>86</td>\n",
       "      <td>СВАО</td>\n",
       "      <td>Ярославский Район</td>\n",
       "    </tr>\n",
       "    <tr>\n",
       "      <th>2</th>\n",
       "      <td>проспект мира</td>\n",
       "      <td>203</td>\n",
       "      <td>203</td>\n",
       "      <td>203</td>\n",
       "      <td>203</td>\n",
       "      <td>203</td>\n",
       "      <td>78</td>\n",
       "      <td>СВАО</td>\n",
       "      <td>Район Марьина роща</td>\n",
       "    </tr>\n",
       "    <tr>\n",
       "      <th>3</th>\n",
       "      <td>проспект мира</td>\n",
       "      <td>203</td>\n",
       "      <td>203</td>\n",
       "      <td>203</td>\n",
       "      <td>203</td>\n",
       "      <td>203</td>\n",
       "      <td>79</td>\n",
       "      <td>СВАО</td>\n",
       "      <td>Останкинский район</td>\n",
       "    </tr>\n",
       "    <tr>\n",
       "      <th>4</th>\n",
       "      <td>проспект мира</td>\n",
       "      <td>203</td>\n",
       "      <td>203</td>\n",
       "      <td>203</td>\n",
       "      <td>203</td>\n",
       "      <td>203</td>\n",
       "      <td>81</td>\n",
       "      <td>СВАО</td>\n",
       "      <td>Район Ростокино</td>\n",
       "    </tr>\n",
       "    <tr>\n",
       "      <th>5</th>\n",
       "      <td>проспект мира</td>\n",
       "      <td>203</td>\n",
       "      <td>203</td>\n",
       "      <td>203</td>\n",
       "      <td>203</td>\n",
       "      <td>203</td>\n",
       "      <td>82</td>\n",
       "      <td>СВАО</td>\n",
       "      <td>Район Свиблово</td>\n",
       "    </tr>\n",
       "    <tr>\n",
       "      <th>6</th>\n",
       "      <td>проспект мира</td>\n",
       "      <td>203</td>\n",
       "      <td>203</td>\n",
       "      <td>203</td>\n",
       "      <td>203</td>\n",
       "      <td>203</td>\n",
       "      <td>16</td>\n",
       "      <td>ЦАО</td>\n",
       "      <td>Мещанский район</td>\n",
       "    </tr>\n",
       "    <tr>\n",
       "      <th>7</th>\n",
       "      <td>профсоюзная улица</td>\n",
       "      <td>181</td>\n",
       "      <td>181</td>\n",
       "      <td>181</td>\n",
       "      <td>181</td>\n",
       "      <td>181</td>\n",
       "      <td>123</td>\n",
       "      <td>ЮЗАО</td>\n",
       "      <td>Академический район</td>\n",
       "    </tr>\n",
       "    <tr>\n",
       "      <th>8</th>\n",
       "      <td>профсоюзная улица</td>\n",
       "      <td>181</td>\n",
       "      <td>181</td>\n",
       "      <td>181</td>\n",
       "      <td>181</td>\n",
       "      <td>181</td>\n",
       "      <td>132</td>\n",
       "      <td>ЮЗАО</td>\n",
       "      <td>Район Черемушки</td>\n",
       "    </tr>\n",
       "    <tr>\n",
       "      <th>9</th>\n",
       "      <td>профсоюзная улица</td>\n",
       "      <td>181</td>\n",
       "      <td>181</td>\n",
       "      <td>181</td>\n",
       "      <td>181</td>\n",
       "      <td>181</td>\n",
       "      <td>134</td>\n",
       "      <td>ЮЗАО</td>\n",
       "      <td>Район Ясенево</td>\n",
       "    </tr>\n",
       "    <tr>\n",
       "      <th>10</th>\n",
       "      <td>профсоюзная улица</td>\n",
       "      <td>181</td>\n",
       "      <td>181</td>\n",
       "      <td>181</td>\n",
       "      <td>181</td>\n",
       "      <td>181</td>\n",
       "      <td>126</td>\n",
       "      <td>ЮЗАО</td>\n",
       "      <td>Район Коньково</td>\n",
       "    </tr>\n",
       "    <tr>\n",
       "      <th>11</th>\n",
       "      <td>профсоюзная улица</td>\n",
       "      <td>181</td>\n",
       "      <td>181</td>\n",
       "      <td>181</td>\n",
       "      <td>181</td>\n",
       "      <td>181</td>\n",
       "      <td>129</td>\n",
       "      <td>ЮЗАО</td>\n",
       "      <td>Обручевский район</td>\n",
       "    </tr>\n",
       "    <tr>\n",
       "      <th>12</th>\n",
       "      <td>профсоюзная улица</td>\n",
       "      <td>181</td>\n",
       "      <td>181</td>\n",
       "      <td>181</td>\n",
       "      <td>181</td>\n",
       "      <td>181</td>\n",
       "      <td>131</td>\n",
       "      <td>ЮЗАО</td>\n",
       "      <td>Район Теплый Стан</td>\n",
       "    </tr>\n",
       "    <tr>\n",
       "      <th>13</th>\n",
       "      <td>ленинградский проспект</td>\n",
       "      <td>169</td>\n",
       "      <td>169</td>\n",
       "      <td>169</td>\n",
       "      <td>169</td>\n",
       "      <td>169</td>\n",
       "      <td>54</td>\n",
       "      <td>САО</td>\n",
       "      <td>Район Аэропорт</td>\n",
       "    </tr>\n",
       "    <tr>\n",
       "      <th>14</th>\n",
       "      <td>ленинградский проспект</td>\n",
       "      <td>169</td>\n",
       "      <td>169</td>\n",
       "      <td>169</td>\n",
       "      <td>169</td>\n",
       "      <td>169</td>\n",
       "      <td>55</td>\n",
       "      <td>САО</td>\n",
       "      <td>Район Беговой</td>\n",
       "    </tr>\n",
       "    <tr>\n",
       "      <th>15</th>\n",
       "      <td>ленинградский проспект</td>\n",
       "      <td>169</td>\n",
       "      <td>169</td>\n",
       "      <td>169</td>\n",
       "      <td>169</td>\n",
       "      <td>169</td>\n",
       "      <td>69</td>\n",
       "      <td>САО</td>\n",
       "      <td>Хорошевский район</td>\n",
       "    </tr>\n",
       "    <tr>\n",
       "      <th>16</th>\n",
       "      <td>ленинградский проспект</td>\n",
       "      <td>169</td>\n",
       "      <td>169</td>\n",
       "      <td>169</td>\n",
       "      <td>169</td>\n",
       "      <td>169</td>\n",
       "      <td>66</td>\n",
       "      <td>САО</td>\n",
       "      <td>Район Сокол</td>\n",
       "    </tr>\n",
       "    <tr>\n",
       "      <th>17</th>\n",
       "      <td>пресненская набережная</td>\n",
       "      <td>167</td>\n",
       "      <td>167</td>\n",
       "      <td>167</td>\n",
       "      <td>167</td>\n",
       "      <td>167</td>\n",
       "      <td>17</td>\n",
       "      <td>ЦАО</td>\n",
       "      <td>Пресненский район</td>\n",
       "    </tr>\n",
       "    <tr>\n",
       "      <th>18</th>\n",
       "      <td>варшавское шоссе</td>\n",
       "      <td>155</td>\n",
       "      <td>155</td>\n",
       "      <td>155</td>\n",
       "      <td>155</td>\n",
       "      <td>155</td>\n",
       "      <td>109</td>\n",
       "      <td>ЮАО</td>\n",
       "      <td>Район Чертаново Центральное</td>\n",
       "    </tr>\n",
       "    <tr>\n",
       "      <th>19</th>\n",
       "      <td>варшавское шоссе</td>\n",
       "      <td>155</td>\n",
       "      <td>155</td>\n",
       "      <td>155</td>\n",
       "      <td>155</td>\n",
       "      <td>155</td>\n",
       "      <td>108</td>\n",
       "      <td>ЮАО</td>\n",
       "      <td>Район Чертаново Северное</td>\n",
       "    </tr>\n",
       "    <tr>\n",
       "      <th>20</th>\n",
       "      <td>варшавское шоссе</td>\n",
       "      <td>155</td>\n",
       "      <td>155</td>\n",
       "      <td>155</td>\n",
       "      <td>155</td>\n",
       "      <td>155</td>\n",
       "      <td>110</td>\n",
       "      <td>ЮАО</td>\n",
       "      <td>Район Чертаново Южное</td>\n",
       "    </tr>\n",
       "    <tr>\n",
       "      <th>21</th>\n",
       "      <td>варшавское шоссе</td>\n",
       "      <td>155</td>\n",
       "      <td>155</td>\n",
       "      <td>155</td>\n",
       "      <td>155</td>\n",
       "      <td>155</td>\n",
       "      <td>99</td>\n",
       "      <td>ЮАО</td>\n",
       "      <td>Донской район</td>\n",
       "    </tr>\n",
       "    <tr>\n",
       "      <th>22</th>\n",
       "      <td>варшавское шоссе</td>\n",
       "      <td>155</td>\n",
       "      <td>155</td>\n",
       "      <td>155</td>\n",
       "      <td>155</td>\n",
       "      <td>155</td>\n",
       "      <td>102</td>\n",
       "      <td>ЮАО</td>\n",
       "      <td>Район Нагатино-Садовники</td>\n",
       "    </tr>\n",
       "    <tr>\n",
       "      <th>23</th>\n",
       "      <td>варшавское шоссе</td>\n",
       "      <td>155</td>\n",
       "      <td>155</td>\n",
       "      <td>155</td>\n",
       "      <td>155</td>\n",
       "      <td>155</td>\n",
       "      <td>104</td>\n",
       "      <td>ЮАО</td>\n",
       "      <td>Нагорный район</td>\n",
       "    </tr>\n",
       "    <tr>\n",
       "      <th>24</th>\n",
       "      <td>варшавское шоссе</td>\n",
       "      <td>155</td>\n",
       "      <td>155</td>\n",
       "      <td>155</td>\n",
       "      <td>155</td>\n",
       "      <td>155</td>\n",
       "      <td>130</td>\n",
       "      <td>ЮЗАО</td>\n",
       "      <td>Район Северное Бутово</td>\n",
       "    </tr>\n",
       "    <tr>\n",
       "      <th>25</th>\n",
       "      <td>варшавское шоссе</td>\n",
       "      <td>155</td>\n",
       "      <td>155</td>\n",
       "      <td>155</td>\n",
       "      <td>155</td>\n",
       "      <td>155</td>\n",
       "      <td>133</td>\n",
       "      <td>ЮЗАО</td>\n",
       "      <td>Район Южное Бутово</td>\n",
       "    </tr>\n",
       "    <tr>\n",
       "      <th>26</th>\n",
       "      <td>ленинский проспект</td>\n",
       "      <td>147</td>\n",
       "      <td>147</td>\n",
       "      <td>147</td>\n",
       "      <td>147</td>\n",
       "      <td>147</td>\n",
       "      <td>44</td>\n",
       "      <td>ЗАО</td>\n",
       "      <td>Район Проспект Вернадского</td>\n",
       "    </tr>\n",
       "    <tr>\n",
       "      <th>27</th>\n",
       "      <td>ленинский проспект</td>\n",
       "      <td>147</td>\n",
       "      <td>147</td>\n",
       "      <td>147</td>\n",
       "      <td>147</td>\n",
       "      <td>147</td>\n",
       "      <td>47</td>\n",
       "      <td>ЗАО</td>\n",
       "      <td>Район Тропарево-Никулино</td>\n",
       "    </tr>\n",
       "    <tr>\n",
       "      <th>28</th>\n",
       "      <td>ленинский проспект</td>\n",
       "      <td>147</td>\n",
       "      <td>147</td>\n",
       "      <td>147</td>\n",
       "      <td>147</td>\n",
       "      <td>147</td>\n",
       "      <td>99</td>\n",
       "      <td>ЮАО</td>\n",
       "      <td>Донской район</td>\n",
       "    </tr>\n",
       "    <tr>\n",
       "      <th>29</th>\n",
       "      <td>ленинский проспект</td>\n",
       "      <td>147</td>\n",
       "      <td>147</td>\n",
       "      <td>147</td>\n",
       "      <td>147</td>\n",
       "      <td>147</td>\n",
       "      <td>124</td>\n",
       "      <td>ЮЗАО</td>\n",
       "      <td>Район Гагаринский</td>\n",
       "    </tr>\n",
       "    <tr>\n",
       "      <th>30</th>\n",
       "      <td>ленинский проспект</td>\n",
       "      <td>147</td>\n",
       "      <td>147</td>\n",
       "      <td>147</td>\n",
       "      <td>147</td>\n",
       "      <td>147</td>\n",
       "      <td>128</td>\n",
       "      <td>ЮЗАО</td>\n",
       "      <td>Ломоносовский район</td>\n",
       "    </tr>\n",
       "    <tr>\n",
       "      <th>31</th>\n",
       "      <td>ленинский проспект</td>\n",
       "      <td>147</td>\n",
       "      <td>147</td>\n",
       "      <td>147</td>\n",
       "      <td>147</td>\n",
       "      <td>147</td>\n",
       "      <td>129</td>\n",
       "      <td>ЮЗАО</td>\n",
       "      <td>Обручевский район</td>\n",
       "    </tr>\n",
       "    <tr>\n",
       "      <th>32</th>\n",
       "      <td>ленинский проспект</td>\n",
       "      <td>147</td>\n",
       "      <td>147</td>\n",
       "      <td>147</td>\n",
       "      <td>147</td>\n",
       "      <td>147</td>\n",
       "      <td>131</td>\n",
       "      <td>ЮЗАО</td>\n",
       "      <td>Район Теплый Стан</td>\n",
       "    </tr>\n",
       "    <tr>\n",
       "      <th>33</th>\n",
       "      <td>ленинский проспект</td>\n",
       "      <td>147</td>\n",
       "      <td>147</td>\n",
       "      <td>147</td>\n",
       "      <td>147</td>\n",
       "      <td>147</td>\n",
       "      <td>21</td>\n",
       "      <td>ЦАО</td>\n",
       "      <td>Район Якиманка</td>\n",
       "    </tr>\n",
       "    <tr>\n",
       "      <th>34</th>\n",
       "      <td>проспект вернадского</td>\n",
       "      <td>127</td>\n",
       "      <td>127</td>\n",
       "      <td>127</td>\n",
       "      <td>127</td>\n",
       "      <td>127</td>\n",
       "      <td>44</td>\n",
       "      <td>ЗАО</td>\n",
       "      <td>Район Проспект Вернадского</td>\n",
       "    </tr>\n",
       "    <tr>\n",
       "      <th>35</th>\n",
       "      <td>проспект вернадского</td>\n",
       "      <td>127</td>\n",
       "      <td>127</td>\n",
       "      <td>127</td>\n",
       "      <td>127</td>\n",
       "      <td>127</td>\n",
       "      <td>45</td>\n",
       "      <td>ЗАО</td>\n",
       "      <td>Район Раменки</td>\n",
       "    </tr>\n",
       "    <tr>\n",
       "      <th>36</th>\n",
       "      <td>проспект вернадского</td>\n",
       "      <td>127</td>\n",
       "      <td>127</td>\n",
       "      <td>127</td>\n",
       "      <td>127</td>\n",
       "      <td>127</td>\n",
       "      <td>47</td>\n",
       "      <td>ЗАО</td>\n",
       "      <td>Район Тропарево-Никулино</td>\n",
       "    </tr>\n",
       "    <tr>\n",
       "      <th>37</th>\n",
       "      <td>проспект вернадского</td>\n",
       "      <td>127</td>\n",
       "      <td>127</td>\n",
       "      <td>127</td>\n",
       "      <td>127</td>\n",
       "      <td>127</td>\n",
       "      <td>124</td>\n",
       "      <td>ЮЗАО</td>\n",
       "      <td>Район Гагаринский</td>\n",
       "    </tr>\n",
       "    <tr>\n",
       "      <th>38</th>\n",
       "      <td>проспект вернадского</td>\n",
       "      <td>127</td>\n",
       "      <td>127</td>\n",
       "      <td>127</td>\n",
       "      <td>127</td>\n",
       "      <td>127</td>\n",
       "      <td>128</td>\n",
       "      <td>ЮЗАО</td>\n",
       "      <td>Ломоносовский район</td>\n",
       "    </tr>\n",
       "    <tr>\n",
       "      <th>39</th>\n",
       "      <td>кутузовский проспект</td>\n",
       "      <td>114</td>\n",
       "      <td>114</td>\n",
       "      <td>114</td>\n",
       "      <td>114</td>\n",
       "      <td>114</td>\n",
       "      <td>38</td>\n",
       "      <td>ЗАО</td>\n",
       "      <td>Район Дорогомилово</td>\n",
       "    </tr>\n",
       "    <tr>\n",
       "      <th>40</th>\n",
       "      <td>кутузовский проспект</td>\n",
       "      <td>114</td>\n",
       "      <td>114</td>\n",
       "      <td>114</td>\n",
       "      <td>114</td>\n",
       "      <td>114</td>\n",
       "      <td>49</td>\n",
       "      <td>ЗАО</td>\n",
       "      <td>Район Фили-Давыдково</td>\n",
       "    </tr>\n",
       "    <tr>\n",
       "      <th>41</th>\n",
       "      <td>каширское шоссе</td>\n",
       "      <td>103</td>\n",
       "      <td>103</td>\n",
       "      <td>103</td>\n",
       "      <td>103</td>\n",
       "      <td>103</td>\n",
       "      <td>101</td>\n",
       "      <td>ЮАО</td>\n",
       "      <td>Район Москворечье-Сабурово</td>\n",
       "    </tr>\n",
       "    <tr>\n",
       "      <th>42</th>\n",
       "      <td>каширское шоссе</td>\n",
       "      <td>103</td>\n",
       "      <td>103</td>\n",
       "      <td>103</td>\n",
       "      <td>103</td>\n",
       "      <td>103</td>\n",
       "      <td>102</td>\n",
       "      <td>ЮАО</td>\n",
       "      <td>Район Нагатино-Садовники</td>\n",
       "    </tr>\n",
       "    <tr>\n",
       "      <th>43</th>\n",
       "      <td>каширское шоссе</td>\n",
       "      <td>103</td>\n",
       "      <td>103</td>\n",
       "      <td>103</td>\n",
       "      <td>103</td>\n",
       "      <td>103</td>\n",
       "      <td>106</td>\n",
       "      <td>ЮАО</td>\n",
       "      <td>Район Орехово-Борисово Южное</td>\n",
       "    </tr>\n",
       "    <tr>\n",
       "      <th>44</th>\n",
       "      <td>каширское шоссе</td>\n",
       "      <td>103</td>\n",
       "      <td>103</td>\n",
       "      <td>103</td>\n",
       "      <td>103</td>\n",
       "      <td>103</td>\n",
       "      <td>105</td>\n",
       "      <td>ЮАО</td>\n",
       "      <td>Район Орехово-Борисово Северное</td>\n",
       "    </tr>\n",
       "    <tr>\n",
       "      <th>45</th>\n",
       "      <td>ходынский бульвар</td>\n",
       "      <td>102</td>\n",
       "      <td>102</td>\n",
       "      <td>102</td>\n",
       "      <td>102</td>\n",
       "      <td>102</td>\n",
       "      <td>69</td>\n",
       "      <td>САО</td>\n",
       "      <td>Хорошевский район</td>\n",
       "    </tr>\n",
       "  </tbody>\n",
       "</table>\n",
       "</div>"
      ],
      "text/plain": [
       "               street_name  object_name  chain  object_type  address  \\\n",
       "0            проспект мира          203    203          203      203   \n",
       "1            проспект мира          203    203          203      203   \n",
       "2            проспект мира          203    203          203      203   \n",
       "3            проспект мира          203    203          203      203   \n",
       "4            проспект мира          203    203          203      203   \n",
       "5            проспект мира          203    203          203      203   \n",
       "6            проспект мира          203    203          203      203   \n",
       "7        профсоюзная улица          181    181          181      181   \n",
       "8        профсоюзная улица          181    181          181      181   \n",
       "9        профсоюзная улица          181    181          181      181   \n",
       "10       профсоюзная улица          181    181          181      181   \n",
       "11       профсоюзная улица          181    181          181      181   \n",
       "12       профсоюзная улица          181    181          181      181   \n",
       "13  ленинградский проспект          169    169          169      169   \n",
       "14  ленинградский проспект          169    169          169      169   \n",
       "15  ленинградский проспект          169    169          169      169   \n",
       "16  ленинградский проспект          169    169          169      169   \n",
       "17  пресненская набережная          167    167          167      167   \n",
       "18        варшавское шоссе          155    155          155      155   \n",
       "19        варшавское шоссе          155    155          155      155   \n",
       "20        варшавское шоссе          155    155          155      155   \n",
       "21        варшавское шоссе          155    155          155      155   \n",
       "22        варшавское шоссе          155    155          155      155   \n",
       "23        варшавское шоссе          155    155          155      155   \n",
       "24        варшавское шоссе          155    155          155      155   \n",
       "25        варшавское шоссе          155    155          155      155   \n",
       "26      ленинский проспект          147    147          147      147   \n",
       "27      ленинский проспект          147    147          147      147   \n",
       "28      ленинский проспект          147    147          147      147   \n",
       "29      ленинский проспект          147    147          147      147   \n",
       "30      ленинский проспект          147    147          147      147   \n",
       "31      ленинский проспект          147    147          147      147   \n",
       "32      ленинский проспект          147    147          147      147   \n",
       "33      ленинский проспект          147    147          147      147   \n",
       "34    проспект вернадского          127    127          127      127   \n",
       "35    проспект вернадского          127    127          127      127   \n",
       "36    проспект вернадского          127    127          127      127   \n",
       "37    проспект вернадского          127    127          127      127   \n",
       "38    проспект вернадского          127    127          127      127   \n",
       "39    кутузовский проспект          114    114          114      114   \n",
       "40    кутузовский проспект          114    114          114      114   \n",
       "41         каширское шоссе          103    103          103      103   \n",
       "42         каширское шоссе          103    103          103      103   \n",
       "43         каширское шоссе          103    103          103      103   \n",
       "44         каширское шоссе          103    103          103      103   \n",
       "45       ходынский бульвар          102    102          102      102   \n",
       "\n",
       "    number_of_seats  areaid okrug                             area  \n",
       "0               203      70  СВАО               Алексеевский район  \n",
       "1               203      86  СВАО                Ярославский Район  \n",
       "2               203      78  СВАО               Район Марьина роща  \n",
       "3               203      79  СВАО               Останкинский район  \n",
       "4               203      81  СВАО                  Район Ростокино  \n",
       "5               203      82  СВАО                   Район Свиблово  \n",
       "6               203      16   ЦАО                  Мещанский район  \n",
       "7               181     123  ЮЗАО              Академический район  \n",
       "8               181     132  ЮЗАО                  Район Черемушки  \n",
       "9               181     134  ЮЗАО                    Район Ясенево  \n",
       "10              181     126  ЮЗАО                   Район Коньково  \n",
       "11              181     129  ЮЗАО                Обручевский район  \n",
       "12              181     131  ЮЗАО                Район Теплый Стан  \n",
       "13              169      54   САО                   Район Аэропорт  \n",
       "14              169      55   САО                    Район Беговой  \n",
       "15              169      69   САО                Хорошевский район  \n",
       "16              169      66   САО                      Район Сокол  \n",
       "17              167      17   ЦАО                Пресненский район  \n",
       "18              155     109   ЮАО      Район Чертаново Центральное  \n",
       "19              155     108   ЮАО         Район Чертаново Северное  \n",
       "20              155     110   ЮАО            Район Чертаново Южное  \n",
       "21              155      99   ЮАО                    Донской район  \n",
       "22              155     102   ЮАО         Район Нагатино-Садовники  \n",
       "23              155     104   ЮАО                   Нагорный район  \n",
       "24              155     130  ЮЗАО            Район Северное Бутово  \n",
       "25              155     133  ЮЗАО               Район Южное Бутово  \n",
       "26              147      44   ЗАО       Район Проспект Вернадского  \n",
       "27              147      47   ЗАО         Район Тропарево-Никулино  \n",
       "28              147      99   ЮАО                    Донской район  \n",
       "29              147     124  ЮЗАО                Район Гагаринский  \n",
       "30              147     128  ЮЗАО              Ломоносовский район  \n",
       "31              147     129  ЮЗАО                Обручевский район  \n",
       "32              147     131  ЮЗАО                Район Теплый Стан  \n",
       "33              147      21   ЦАО                   Район Якиманка  \n",
       "34              127      44   ЗАО       Район Проспект Вернадского  \n",
       "35              127      45   ЗАО                    Район Раменки  \n",
       "36              127      47   ЗАО         Район Тропарево-Никулино  \n",
       "37              127     124  ЮЗАО                Район Гагаринский  \n",
       "38              127     128  ЮЗАО              Ломоносовский район  \n",
       "39              114      38   ЗАО               Район Дорогомилово  \n",
       "40              114      49   ЗАО             Район Фили-Давыдково  \n",
       "41              103     101   ЮАО       Район Москворечье-Сабурово  \n",
       "42              103     102   ЮАО         Район Нагатино-Садовники  \n",
       "43              103     106   ЮАО     Район Орехово-Борисово Южное  \n",
       "44              103     105   ЮАО  Район Орехово-Борисово Северное  \n",
       "45              102      69   САО                Хорошевский район  "
      ]
     },
     "execution_count": 37,
     "metadata": {},
     "output_type": "execute_result"
    }
   ],
   "source": [
    "top_streets"
   ]
  },
  {
   "cell_type": "code",
   "execution_count": 38,
   "metadata": {},
   "outputs": [
    {
     "data": {
      "text/plain": [
       "array(['Алексеевский район', 'Ярославский Район', 'Район Марьина роща',\n",
       "       'Останкинский район', 'Район Ростокино', 'Район Свиблово',\n",
       "       'Мещанский район', 'Академический район', 'Район Черемушки',\n",
       "       'Район Ясенево', 'Район Коньково', 'Обручевский район',\n",
       "       'Район Теплый Стан', 'Район Аэропорт', 'Район Беговой',\n",
       "       'Хорошевский район', 'Район Сокол', 'Пресненский район',\n",
       "       'Район Чертаново Центральное', 'Район Чертаново Северное',\n",
       "       'Район Чертаново Южное', 'Донской район',\n",
       "       'Район Нагатино-Садовники', 'Нагорный район',\n",
       "       'Район Северное Бутово', 'Район Южное Бутово',\n",
       "       'Район Проспект Вернадского', 'Район Тропарево-Никулино',\n",
       "       'Район Гагаринский', 'Ломоносовский район', 'Район Якиманка',\n",
       "       'Район Раменки', 'Район Дорогомилово', 'Район Фили-Давыдково',\n",
       "       'Район Москворечье-Сабурово', 'Район Орехово-Борисово Южное',\n",
       "       'Район Орехово-Борисово Северное'], dtype=object)"
      ]
     },
     "execution_count": 38,
     "metadata": {},
     "output_type": "execute_result"
    }
   ],
   "source": [
    "top_streets['area'].unique()"
   ]
  },
  {
   "cell_type": "markdown",
   "metadata": {},
   "source": [
    "### Найдите число улиц с одним объектом общественного питания. Воспользуйтесь внешней информацией и ответьте на вопрос — в каких районах Москвы находятся эти улицы?"
   ]
  },
  {
   "cell_type": "markdown",
   "metadata": {},
   "source": [
    "Посчитаем количество улиц с одним заведением"
   ]
  },
  {
   "cell_type": "code",
   "execution_count": 39,
   "metadata": {},
   "outputs": [
    {
     "data": {
      "text/plain": [
       "814"
      ]
     },
     "execution_count": 39,
     "metadata": {},
     "output_type": "execute_result"
    }
   ],
   "source": [
    "temp = df.groupby('street_name').count().reset_index()\n",
    "len(temp.query('object_name == 1'))"
   ]
  },
  {
   "cell_type": "markdown",
   "metadata": {},
   "source": [
    "Оставим в таблице только улицы с 1 заведением "
   ]
  },
  {
   "cell_type": "code",
   "execution_count": 40,
   "metadata": {},
   "outputs": [],
   "source": [
    "street_1_cafe = temp.query('object_name == 1').reset_index()"
   ]
  },
  {
   "cell_type": "markdown",
   "metadata": {},
   "source": [
    "Соединим 2 таблицы по названию улицы"
   ]
  },
  {
   "cell_type": "code",
   "execution_count": 41,
   "metadata": {},
   "outputs": [
    {
     "data": {
      "text/html": [
       "<div>\n",
       "<style scoped>\n",
       "    .dataframe tbody tr th:only-of-type {\n",
       "        vertical-align: middle;\n",
       "    }\n",
       "\n",
       "    .dataframe tbody tr th {\n",
       "        vertical-align: top;\n",
       "    }\n",
       "\n",
       "    .dataframe thead th {\n",
       "        text-align: right;\n",
       "    }\n",
       "</style>\n",
       "<table border=\"1\" class=\"dataframe\">\n",
       "  <thead>\n",
       "    <tr style=\"text-align: right;\">\n",
       "      <th></th>\n",
       "      <th>street_name</th>\n",
       "      <th>areaid</th>\n",
       "      <th>okrug</th>\n",
       "      <th>area</th>\n",
       "      <th>index</th>\n",
       "      <th>object_name</th>\n",
       "      <th>chain</th>\n",
       "      <th>object_type</th>\n",
       "      <th>address</th>\n",
       "      <th>number_of_seats</th>\n",
       "    </tr>\n",
       "  </thead>\n",
       "  <tbody>\n",
       "    <tr>\n",
       "      <th>0</th>\n",
       "      <td>улица анатолия живова</td>\n",
       "      <td>17</td>\n",
       "      <td>ЦАО</td>\n",
       "      <td>Пресненский район</td>\n",
       "      <td>1705</td>\n",
       "      <td>1</td>\n",
       "      <td>1</td>\n",
       "      <td>1</td>\n",
       "      <td>1</td>\n",
       "      <td>1</td>\n",
       "    </tr>\n",
       "    <tr>\n",
       "      <th>1</th>\n",
       "      <td>средний кондратьевский переулок</td>\n",
       "      <td>17</td>\n",
       "      <td>ЦАО</td>\n",
       "      <td>Пресненский район</td>\n",
       "      <td>1541</td>\n",
       "      <td>1</td>\n",
       "      <td>1</td>\n",
       "      <td>1</td>\n",
       "      <td>1</td>\n",
       "      <td>1</td>\n",
       "    </tr>\n",
       "    <tr>\n",
       "      <th>2</th>\n",
       "      <td>малый конюшковский переулок</td>\n",
       "      <td>17</td>\n",
       "      <td>ЦАО</td>\n",
       "      <td>Пресненский район</td>\n",
       "      <td>936</td>\n",
       "      <td>1</td>\n",
       "      <td>1</td>\n",
       "      <td>1</td>\n",
       "      <td>1</td>\n",
       "      <td>1</td>\n",
       "    </tr>\n",
       "    <tr>\n",
       "      <th>3</th>\n",
       "      <td>переулок красина</td>\n",
       "      <td>17</td>\n",
       "      <td>ЦАО</td>\n",
       "      <td>Пресненский район</td>\n",
       "      <td>1153</td>\n",
       "      <td>1</td>\n",
       "      <td>1</td>\n",
       "      <td>1</td>\n",
       "      <td>1</td>\n",
       "      <td>1</td>\n",
       "    </tr>\n",
       "    <tr>\n",
       "      <th>4</th>\n",
       "      <td>красногвардейский бульвар</td>\n",
       "      <td>17</td>\n",
       "      <td>ЦАО</td>\n",
       "      <td>Пресненский район</td>\n",
       "      <td>821</td>\n",
       "      <td>1</td>\n",
       "      <td>1</td>\n",
       "      <td>1</td>\n",
       "      <td>1</td>\n",
       "      <td>1</td>\n",
       "    </tr>\n",
       "    <tr>\n",
       "      <th>...</th>\n",
       "      <td>...</td>\n",
       "      <td>...</td>\n",
       "      <td>...</td>\n",
       "      <td>...</td>\n",
       "      <td>...</td>\n",
       "      <td>...</td>\n",
       "      <td>...</td>\n",
       "      <td>...</td>\n",
       "      <td>...</td>\n",
       "      <td>...</td>\n",
       "    </tr>\n",
       "    <tr>\n",
       "      <th>530</th>\n",
       "      <td>звонарский переулок</td>\n",
       "      <td>16</td>\n",
       "      <td>ЦАО</td>\n",
       "      <td>Мещанский район</td>\n",
       "      <td>703</td>\n",
       "      <td>1</td>\n",
       "      <td>1</td>\n",
       "      <td>1</td>\n",
       "      <td>1</td>\n",
       "      <td>1</td>\n",
       "    </tr>\n",
       "    <tr>\n",
       "      <th>531</th>\n",
       "      <td>нижний кисельный переулок</td>\n",
       "      <td>16</td>\n",
       "      <td>ЦАО</td>\n",
       "      <td>Мещанский район</td>\n",
       "      <td>1026</td>\n",
       "      <td>1</td>\n",
       "      <td>1</td>\n",
       "      <td>1</td>\n",
       "      <td>1</td>\n",
       "      <td>1</td>\n",
       "    </tr>\n",
       "    <tr>\n",
       "      <th>532</th>\n",
       "      <td>малая переяславская улица</td>\n",
       "      <td>16</td>\n",
       "      <td>ЦАО</td>\n",
       "      <td>Мещанский район</td>\n",
       "      <td>916</td>\n",
       "      <td>1</td>\n",
       "      <td>1</td>\n",
       "      <td>1</td>\n",
       "      <td>1</td>\n",
       "      <td>1</td>\n",
       "    </tr>\n",
       "    <tr>\n",
       "      <th>533</th>\n",
       "      <td>садовая-сухаревская улица</td>\n",
       "      <td>16</td>\n",
       "      <td>ЦАО</td>\n",
       "      <td>Мещанский район</td>\n",
       "      <td>1459</td>\n",
       "      <td>1</td>\n",
       "      <td>1</td>\n",
       "      <td>1</td>\n",
       "      <td>1</td>\n",
       "      <td>1</td>\n",
       "    </tr>\n",
       "    <tr>\n",
       "      <th>534</th>\n",
       "      <td>большой предтеченский переулок</td>\n",
       "      <td>17</td>\n",
       "      <td>ЦАО</td>\n",
       "      <td>Пресненский район</td>\n",
       "      <td>391</td>\n",
       "      <td>1</td>\n",
       "      <td>1</td>\n",
       "      <td>1</td>\n",
       "      <td>1</td>\n",
       "      <td>1</td>\n",
       "    </tr>\n",
       "  </tbody>\n",
       "</table>\n",
       "<p>535 rows × 10 columns</p>\n",
       "</div>"
      ],
      "text/plain": [
       "                         street_name  areaid okrug               area  index  \\\n",
       "0              улица анатолия живова      17   ЦАО  Пресненский район   1705   \n",
       "1    средний кондратьевский переулок      17   ЦАО  Пресненский район   1541   \n",
       "2        малый конюшковский переулок      17   ЦАО  Пресненский район    936   \n",
       "3                   переулок красина      17   ЦАО  Пресненский район   1153   \n",
       "4          красногвардейский бульвар      17   ЦАО  Пресненский район    821   \n",
       "..                               ...     ...   ...                ...    ...   \n",
       "530              звонарский переулок      16   ЦАО    Мещанский район    703   \n",
       "531        нижний кисельный переулок      16   ЦАО    Мещанский район   1026   \n",
       "532        малая переяславская улица      16   ЦАО    Мещанский район    916   \n",
       "533        садовая-сухаревская улица      16   ЦАО    Мещанский район   1459   \n",
       "534   большой предтеченский переулок      17   ЦАО  Пресненский район    391   \n",
       "\n",
       "     object_name  chain  object_type  address  number_of_seats  \n",
       "0              1      1            1        1                1  \n",
       "1              1      1            1        1                1  \n",
       "2              1      1            1        1                1  \n",
       "3              1      1            1        1                1  \n",
       "4              1      1            1        1                1  \n",
       "..           ...    ...          ...      ...              ...  \n",
       "530            1      1            1        1                1  \n",
       "531            1      1            1        1                1  \n",
       "532            1      1            1        1                1  \n",
       "533            1      1            1        1                1  \n",
       "534            1      1            1        1                1  \n",
       "\n",
       "[535 rows x 10 columns]"
      ]
     },
     "execution_count": 41,
     "metadata": {},
     "output_type": "execute_result"
    }
   ],
   "source": [
    "street_1_cafe = area.merge(street_1_cafe, on = 'street_name')\n",
    "street_1_cafe"
   ]
  },
  {
   "cell_type": "markdown",
   "metadata": {},
   "source": [
    "Найдём топ-10 районов по расположению улиц с 1 заведением"
   ]
  },
  {
   "cell_type": "code",
   "execution_count": 42,
   "metadata": {
    "scrolled": true
   },
   "outputs": [
    {
     "data": {
      "text/html": [
       "<div>\n",
       "<style scoped>\n",
       "    .dataframe tbody tr th:only-of-type {\n",
       "        vertical-align: middle;\n",
       "    }\n",
       "\n",
       "    .dataframe tbody tr th {\n",
       "        vertical-align: top;\n",
       "    }\n",
       "\n",
       "    .dataframe thead th {\n",
       "        text-align: right;\n",
       "    }\n",
       "</style>\n",
       "<table border=\"1\" class=\"dataframe\">\n",
       "  <thead>\n",
       "    <tr style=\"text-align: right;\">\n",
       "      <th></th>\n",
       "      <th>area</th>\n",
       "      <th>street_name</th>\n",
       "      <th>areaid</th>\n",
       "      <th>okrug</th>\n",
       "      <th>index</th>\n",
       "      <th>object_name</th>\n",
       "      <th>chain</th>\n",
       "      <th>object_type</th>\n",
       "      <th>address</th>\n",
       "      <th>number_of_seats</th>\n",
       "    </tr>\n",
       "  </thead>\n",
       "  <tbody>\n",
       "    <tr>\n",
       "      <th>0</th>\n",
       "      <td>Таганский район</td>\n",
       "      <td>27</td>\n",
       "      <td>27</td>\n",
       "      <td>27</td>\n",
       "      <td>27</td>\n",
       "      <td>27</td>\n",
       "      <td>27</td>\n",
       "      <td>27</td>\n",
       "      <td>27</td>\n",
       "      <td>27</td>\n",
       "    </tr>\n",
       "    <tr>\n",
       "      <th>1</th>\n",
       "      <td>Район Хамовники</td>\n",
       "      <td>24</td>\n",
       "      <td>24</td>\n",
       "      <td>24</td>\n",
       "      <td>24</td>\n",
       "      <td>24</td>\n",
       "      <td>24</td>\n",
       "      <td>24</td>\n",
       "      <td>24</td>\n",
       "      <td>24</td>\n",
       "    </tr>\n",
       "    <tr>\n",
       "      <th>2</th>\n",
       "      <td>Басманный район</td>\n",
       "      <td>21</td>\n",
       "      <td>21</td>\n",
       "      <td>21</td>\n",
       "      <td>21</td>\n",
       "      <td>21</td>\n",
       "      <td>21</td>\n",
       "      <td>21</td>\n",
       "      <td>21</td>\n",
       "      <td>21</td>\n",
       "    </tr>\n",
       "    <tr>\n",
       "      <th>3</th>\n",
       "      <td>Тверской район</td>\n",
       "      <td>20</td>\n",
       "      <td>20</td>\n",
       "      <td>20</td>\n",
       "      <td>20</td>\n",
       "      <td>20</td>\n",
       "      <td>20</td>\n",
       "      <td>20</td>\n",
       "      <td>20</td>\n",
       "      <td>20</td>\n",
       "    </tr>\n",
       "    <tr>\n",
       "      <th>4</th>\n",
       "      <td>Пресненский район</td>\n",
       "      <td>19</td>\n",
       "      <td>19</td>\n",
       "      <td>19</td>\n",
       "      <td>19</td>\n",
       "      <td>19</td>\n",
       "      <td>19</td>\n",
       "      <td>19</td>\n",
       "      <td>19</td>\n",
       "      <td>19</td>\n",
       "    </tr>\n",
       "    <tr>\n",
       "      <th>5</th>\n",
       "      <td>Район Марьина роща</td>\n",
       "      <td>17</td>\n",
       "      <td>17</td>\n",
       "      <td>17</td>\n",
       "      <td>17</td>\n",
       "      <td>17</td>\n",
       "      <td>17</td>\n",
       "      <td>17</td>\n",
       "      <td>17</td>\n",
       "      <td>17</td>\n",
       "    </tr>\n",
       "    <tr>\n",
       "      <th>6</th>\n",
       "      <td>Район Арбат</td>\n",
       "      <td>17</td>\n",
       "      <td>17</td>\n",
       "      <td>17</td>\n",
       "      <td>17</td>\n",
       "      <td>17</td>\n",
       "      <td>17</td>\n",
       "      <td>17</td>\n",
       "      <td>17</td>\n",
       "      <td>17</td>\n",
       "    </tr>\n",
       "    <tr>\n",
       "      <th>7</th>\n",
       "      <td>Мещанский район</td>\n",
       "      <td>16</td>\n",
       "      <td>16</td>\n",
       "      <td>16</td>\n",
       "      <td>16</td>\n",
       "      <td>16</td>\n",
       "      <td>16</td>\n",
       "      <td>16</td>\n",
       "      <td>16</td>\n",
       "      <td>16</td>\n",
       "    </tr>\n",
       "    <tr>\n",
       "      <th>8</th>\n",
       "      <td>Район Сокольники</td>\n",
       "      <td>15</td>\n",
       "      <td>15</td>\n",
       "      <td>15</td>\n",
       "      <td>15</td>\n",
       "      <td>15</td>\n",
       "      <td>15</td>\n",
       "      <td>15</td>\n",
       "      <td>15</td>\n",
       "      <td>15</td>\n",
       "    </tr>\n",
       "    <tr>\n",
       "      <th>9</th>\n",
       "      <td>Район Замоскворечье</td>\n",
       "      <td>14</td>\n",
       "      <td>14</td>\n",
       "      <td>14</td>\n",
       "      <td>14</td>\n",
       "      <td>14</td>\n",
       "      <td>14</td>\n",
       "      <td>14</td>\n",
       "      <td>14</td>\n",
       "      <td>14</td>\n",
       "    </tr>\n",
       "  </tbody>\n",
       "</table>\n",
       "</div>"
      ],
      "text/plain": [
       "                  area  street_name  areaid  okrug  index  object_name  chain  \\\n",
       "0      Таганский район           27      27     27     27           27     27   \n",
       "1      Район Хамовники           24      24     24     24           24     24   \n",
       "2      Басманный район           21      21     21     21           21     21   \n",
       "3       Тверской район           20      20     20     20           20     20   \n",
       "4    Пресненский район           19      19     19     19           19     19   \n",
       "5   Район Марьина роща           17      17     17     17           17     17   \n",
       "6          Район Арбат           17      17     17     17           17     17   \n",
       "7      Мещанский район           16      16     16     16           16     16   \n",
       "8     Район Сокольники           15      15     15     15           15     15   \n",
       "9  Район Замоскворечье           14      14     14     14           14     14   \n",
       "\n",
       "   object_type  address  number_of_seats  \n",
       "0           27       27               27  \n",
       "1           24       24               24  \n",
       "2           21       21               21  \n",
       "3           20       20               20  \n",
       "4           19       19               19  \n",
       "5           17       17               17  \n",
       "6           17       17               17  \n",
       "7           16       16               16  \n",
       "8           15       15               15  \n",
       "9           14       14               14  "
      ]
     },
     "execution_count": 42,
     "metadata": {},
     "output_type": "execute_result"
    }
   ],
   "source": [
    "top_okrug = (street_1_cafe.groupby('area')\\\n",
    "             .count()\\\n",
    "             .sort_values(by = 'object_name',ascending = False)\\\n",
    "             .head(10).reset_index())\n",
    "top_okrug"
   ]
  },
  {
   "cell_type": "markdown",
   "metadata": {},
   "source": [
    "Больше всего улиц с одним кафе располагается в Таганском районе и Хамовниках. Далее идут Басманный, Тверской и Пресненский районы с примерно одинаковым количеством улиц с одним заведеним "
   ]
  },
  {
   "cell_type": "markdown",
   "metadata": {},
   "source": [
    "## Вывод"
   ]
  },
  {
   "cell_type": "markdown",
   "metadata": {},
   "source": [
    "**Выводы**:\n",
    "- В Москве больше всего кафе, по сравнению с другии типами заведений\n",
    "- По общему количеству посадочных мест лидируют столовые \n",
    "- Лидер по среднему количеству посадочных мест - столовая. На втором месте - ресторан. Третье разделяют - кафе, бар и буфет\n",
    "- Несетевых заведений больше сетевых. Более, чем в 4 раза \n",
    "- Сетевое размещение более всего хараткерно для фаст-фуда\n",
    "- Для сетевых заведений характерно много заведений с небольшим числом посадочных мест в каждом\n",
    "- Больше всего улиц с одним кафе располагается в Таганском районе и Хамовниках. Далее идут Басманный, Тверской и Пресненский районы с примерно одинаковым количеством улиц с одним заведеним "
   ]
  },
  {
   "cell_type": "markdown",
   "metadata": {},
   "source": [
    "**Рекомендации**:\n",
    "- Для нашего будущего кафе точно не подходит сетевое размещение. Роботы - штука затратная\n",
    "- Кафе, ресторан, бар - приоритетные типы для нашего заведения\n",
    "- Так как наше кафе будет в единственном, экслюзивном варианте, расположение должно быть с максимальным человекопотоком, в центре. Да, придётся вложится в аренду, но нам нужны лучшие клиенты!)\n",
    "- Роботы круто! Но клиентов нужно будет чем-то удерживать , чтобы они превращались в постоянных. Не забывать про основу заведений общественного ПИТАНИЯ- это кухня!\n"
   ]
  }
 ],
 "metadata": {
  "ExecuteTimeLog": [
   {
    "duration": 1428,
    "start_time": "2022-07-18T14:31:29.134Z"
   },
   {
    "duration": 250,
    "start_time": "2022-07-18T14:32:20.253Z"
   },
   {
    "duration": 156,
    "start_time": "2022-07-18T14:36:30.601Z"
   },
   {
    "duration": 37,
    "start_time": "2022-07-18T14:37:04.663Z"
   },
   {
    "duration": 39,
    "start_time": "2022-07-18T14:38:07.312Z"
   },
   {
    "duration": 1282,
    "start_time": "2022-07-22T11:55:39.487Z"
   },
   {
    "duration": 233,
    "start_time": "2022-07-22T11:55:40.771Z"
   },
   {
    "duration": 40,
    "start_time": "2022-07-22T11:55:41.006Z"
   },
   {
    "duration": 8,
    "start_time": "2022-07-22T11:58:18.847Z"
   },
   {
    "duration": 11,
    "start_time": "2022-07-22T12:01:34.468Z"
   },
   {
    "duration": 8,
    "start_time": "2022-07-22T12:01:46.897Z"
   },
   {
    "duration": 97,
    "start_time": "2022-07-22T12:01:57.295Z"
   },
   {
    "duration": 100,
    "start_time": "2022-07-22T12:02:55.837Z"
   },
   {
    "duration": 5,
    "start_time": "2022-07-22T12:03:08.592Z"
   },
   {
    "duration": 5,
    "start_time": "2022-07-22T12:03:22.319Z"
   },
   {
    "duration": 4,
    "start_time": "2022-07-22T12:03:30.537Z"
   },
   {
    "duration": 33,
    "start_time": "2022-07-22T12:11:38.134Z"
   },
   {
    "duration": 3,
    "start_time": "2022-07-22T12:11:38.959Z"
   },
   {
    "duration": 115,
    "start_time": "2022-07-22T12:11:39.441Z"
   },
   {
    "duration": 10,
    "start_time": "2022-07-22T12:12:07.093Z"
   },
   {
    "duration": 21,
    "start_time": "2022-07-22T12:12:16.606Z"
   },
   {
    "duration": 15,
    "start_time": "2022-07-22T12:13:35.507Z"
   },
   {
    "duration": 1311,
    "start_time": "2022-07-22T14:34:39.769Z"
   },
   {
    "duration": 232,
    "start_time": "2022-07-22T14:34:41.082Z"
   },
   {
    "duration": 42,
    "start_time": "2022-07-22T14:34:41.316Z"
   },
   {
    "duration": 4,
    "start_time": "2022-07-22T14:34:41.361Z"
   },
   {
    "duration": 24,
    "start_time": "2022-07-22T14:34:41.366Z"
   },
   {
    "duration": 3,
    "start_time": "2022-07-22T14:34:41.391Z"
   },
   {
    "duration": 119,
    "start_time": "2022-07-22T14:34:41.395Z"
   },
   {
    "duration": 10,
    "start_time": "2022-07-22T14:34:41.516Z"
   },
   {
    "duration": 33,
    "start_time": "2022-07-22T14:34:41.528Z"
   },
   {
    "duration": 15,
    "start_time": "2022-07-22T14:34:41.563Z"
   },
   {
    "duration": 243,
    "start_time": "2022-07-22T14:34:49.397Z"
   },
   {
    "duration": 6,
    "start_time": "2022-07-22T14:36:59.443Z"
   },
   {
    "duration": 209,
    "start_time": "2022-07-22T14:38:10.099Z"
   },
   {
    "duration": 50,
    "start_time": "2022-07-22T14:40:28.706Z"
   },
   {
    "duration": 24,
    "start_time": "2022-07-22T14:40:32.518Z"
   },
   {
    "duration": 6,
    "start_time": "2022-07-22T14:40:39.344Z"
   },
   {
    "duration": 10,
    "start_time": "2022-07-22T14:41:23.638Z"
   },
   {
    "duration": 5,
    "start_time": "2022-07-22T14:41:25.550Z"
   },
   {
    "duration": 17,
    "start_time": "2022-07-22T14:41:29.750Z"
   },
   {
    "duration": 11,
    "start_time": "2022-07-22T14:41:34.343Z"
   },
   {
    "duration": 234,
    "start_time": "2022-07-22T14:41:37.246Z"
   },
   {
    "duration": 210,
    "start_time": "2022-07-22T14:42:52.563Z"
   },
   {
    "duration": 238,
    "start_time": "2022-07-22T14:43:30.984Z"
   },
   {
    "duration": 7,
    "start_time": "2022-07-22T14:48:48.707Z"
   },
   {
    "duration": 9,
    "start_time": "2022-07-22T14:48:52.706Z"
   },
   {
    "duration": 143,
    "start_time": "2022-07-22T14:49:29.821Z"
   },
   {
    "duration": 86,
    "start_time": "2022-07-22T14:49:45.992Z"
   },
   {
    "duration": 139,
    "start_time": "2022-07-22T14:50:00.616Z"
   },
   {
    "duration": 211,
    "start_time": "2022-07-22T14:50:10.889Z"
   },
   {
    "duration": 7,
    "start_time": "2022-07-22T14:53:37.222Z"
   },
   {
    "duration": 8,
    "start_time": "2022-07-22T14:53:55.120Z"
   },
   {
    "duration": 104,
    "start_time": "2022-07-22T14:56:50.148Z"
   },
   {
    "duration": 57,
    "start_time": "2022-07-22T15:06:46.857Z"
   },
   {
    "duration": 29,
    "start_time": "2022-07-22T15:06:53.792Z"
   },
   {
    "duration": 36,
    "start_time": "2022-07-22T15:07:04.636Z"
   },
   {
    "duration": 17,
    "start_time": "2022-07-22T15:07:30.388Z"
   },
   {
    "duration": 252,
    "start_time": "2022-07-22T15:07:58.854Z"
   },
   {
    "duration": 281,
    "start_time": "2022-07-22T15:08:43.966Z"
   },
   {
    "duration": 20,
    "start_time": "2022-07-22T15:09:04.743Z"
   },
   {
    "duration": 45,
    "start_time": "2022-07-23T14:25:57.753Z"
   },
   {
    "duration": 1343,
    "start_time": "2022-07-23T14:26:02.450Z"
   },
   {
    "duration": 256,
    "start_time": "2022-07-23T14:26:03.795Z"
   },
   {
    "duration": 41,
    "start_time": "2022-07-23T14:26:04.052Z"
   },
   {
    "duration": 6,
    "start_time": "2022-07-23T14:26:04.095Z"
   },
   {
    "duration": 25,
    "start_time": "2022-07-23T14:26:04.103Z"
   },
   {
    "duration": 3,
    "start_time": "2022-07-23T14:26:04.129Z"
   },
   {
    "duration": 118,
    "start_time": "2022-07-23T14:26:04.134Z"
   },
   {
    "duration": 14,
    "start_time": "2022-07-23T14:26:04.254Z"
   },
   {
    "duration": 21,
    "start_time": "2022-07-23T14:26:04.269Z"
   },
   {
    "duration": 19,
    "start_time": "2022-07-23T14:26:04.291Z"
   },
   {
    "duration": 5,
    "start_time": "2022-07-23T14:26:04.311Z"
   },
   {
    "duration": 12,
    "start_time": "2022-07-23T14:26:04.317Z"
   },
   {
    "duration": 230,
    "start_time": "2022-07-23T14:26:04.360Z"
   },
   {
    "duration": 231,
    "start_time": "2022-07-23T14:26:04.595Z"
   },
   {
    "duration": 9,
    "start_time": "2022-07-23T14:26:04.828Z"
   },
   {
    "duration": 167,
    "start_time": "2022-07-23T14:26:04.838Z"
   },
   {
    "duration": 7,
    "start_time": "2022-07-23T14:26:05.007Z"
   },
   {
    "duration": 6,
    "start_time": "2022-07-23T14:26:11.193Z"
   },
   {
    "duration": 8,
    "start_time": "2022-07-23T14:26:12.201Z"
   },
   {
    "duration": 79,
    "start_time": "2022-07-23T14:26:15.599Z"
   },
   {
    "duration": 17,
    "start_time": "2022-07-23T14:26:23.392Z"
   },
   {
    "duration": 4,
    "start_time": "2022-07-23T14:29:46.040Z"
   },
   {
    "duration": 7,
    "start_time": "2022-07-23T14:29:56.840Z"
   },
   {
    "duration": 4,
    "start_time": "2022-07-23T14:30:29.636Z"
   },
   {
    "duration": 8,
    "start_time": "2022-07-23T14:30:32.144Z"
   },
   {
    "duration": 3,
    "start_time": "2022-07-23T14:31:24.944Z"
   },
   {
    "duration": 7,
    "start_time": "2022-07-23T14:31:26.643Z"
   },
   {
    "duration": 4,
    "start_time": "2022-07-23T14:31:45.677Z"
   },
   {
    "duration": 8,
    "start_time": "2022-07-23T14:31:46.693Z"
   },
   {
    "duration": 9,
    "start_time": "2022-07-23T14:32:03.582Z"
   },
   {
    "duration": 8,
    "start_time": "2022-07-23T14:32:20.566Z"
   },
   {
    "duration": 47,
    "start_time": "2022-07-23T14:33:14.782Z"
   },
   {
    "duration": 5,
    "start_time": "2022-07-23T14:33:20.105Z"
   },
   {
    "duration": 11,
    "start_time": "2022-07-23T14:33:21.639Z"
   },
   {
    "duration": 21,
    "start_time": "2022-07-23T14:33:39.000Z"
   },
   {
    "duration": 5,
    "start_time": "2022-07-23T14:33:41.987Z"
   },
   {
    "duration": 15,
    "start_time": "2022-07-23T14:35:31.213Z"
   },
   {
    "duration": 10,
    "start_time": "2022-07-23T14:35:36.545Z"
   },
   {
    "duration": 6,
    "start_time": "2022-07-23T14:40:54.647Z"
   },
   {
    "duration": 171,
    "start_time": "2022-07-23T14:41:22.308Z"
   },
   {
    "duration": 128,
    "start_time": "2022-07-23T14:41:38.011Z"
   },
   {
    "duration": 9,
    "start_time": "2022-07-23T14:41:52.370Z"
   },
   {
    "duration": 8,
    "start_time": "2022-07-23T14:43:16.068Z"
   },
   {
    "duration": 125,
    "start_time": "2022-07-23T14:43:17.780Z"
   },
   {
    "duration": 381,
    "start_time": "2022-07-23T14:47:36.000Z"
   },
   {
    "duration": 32,
    "start_time": "2022-07-23T14:47:53.075Z"
   },
   {
    "duration": 529,
    "start_time": "2022-07-23T14:48:06.241Z"
   },
   {
    "duration": 3,
    "start_time": "2022-07-23T14:51:44.380Z"
   },
   {
    "duration": 11,
    "start_time": "2022-07-23T14:51:55.174Z"
   },
   {
    "duration": 4,
    "start_time": "2022-07-23T14:52:05.353Z"
   },
   {
    "duration": 12,
    "start_time": "2022-07-23T14:52:12.641Z"
   },
   {
    "duration": 10,
    "start_time": "2022-07-23T14:52:38.885Z"
   },
   {
    "duration": 20,
    "start_time": "2022-07-23T15:02:07.570Z"
   },
   {
    "duration": 15,
    "start_time": "2022-07-23T15:02:41.715Z"
   },
   {
    "duration": 19,
    "start_time": "2022-07-23T15:02:51.911Z"
   },
   {
    "duration": 232,
    "start_time": "2022-07-23T15:06:18.700Z"
   },
   {
    "duration": 238,
    "start_time": "2022-07-23T15:06:52.004Z"
   },
   {
    "duration": 16,
    "start_time": "2022-07-23T15:12:42.849Z"
   },
   {
    "duration": 9,
    "start_time": "2022-07-23T15:18:41.372Z"
   },
   {
    "duration": 191,
    "start_time": "2022-07-23T15:30:40.177Z"
   },
   {
    "duration": 12,
    "start_time": "2022-07-23T15:30:46.657Z"
   },
   {
    "duration": 4,
    "start_time": "2022-07-23T15:34:28.990Z"
   },
   {
    "duration": 13,
    "start_time": "2022-07-23T15:34:35.007Z"
   },
   {
    "duration": 7,
    "start_time": "2022-07-23T15:36:13.551Z"
   },
   {
    "duration": 16,
    "start_time": "2022-07-23T15:38:18.673Z"
   },
   {
    "duration": 9,
    "start_time": "2022-07-23T15:39:01.494Z"
   },
   {
    "duration": 15,
    "start_time": "2022-07-23T15:39:09.161Z"
   },
   {
    "duration": 4,
    "start_time": "2022-07-23T15:40:09.958Z"
   },
   {
    "duration": 3,
    "start_time": "2022-07-23T15:40:25.775Z"
   },
   {
    "duration": 10,
    "start_time": "2022-07-23T15:40:41.086Z"
   },
   {
    "duration": 3,
    "start_time": "2022-07-23T15:41:04.659Z"
   },
   {
    "duration": 8,
    "start_time": "2022-07-23T15:43:17.911Z"
   },
   {
    "duration": 15,
    "start_time": "2022-07-23T15:43:26.734Z"
   },
   {
    "duration": 11,
    "start_time": "2022-07-23T15:44:17.395Z"
   },
   {
    "duration": 20,
    "start_time": "2022-07-23T15:45:29.937Z"
   },
   {
    "duration": 13,
    "start_time": "2022-07-23T16:31:59.368Z"
   },
   {
    "duration": 10,
    "start_time": "2022-07-23T16:32:04.433Z"
   },
   {
    "duration": 18,
    "start_time": "2022-07-23T16:32:16.853Z"
   },
   {
    "duration": 21,
    "start_time": "2022-07-23T16:32:30.764Z"
   },
   {
    "duration": 12,
    "start_time": "2022-07-23T16:32:58.018Z"
   },
   {
    "duration": 12,
    "start_time": "2022-07-23T16:33:15.964Z"
   },
   {
    "duration": 13,
    "start_time": "2022-07-23T16:33:25.661Z"
   },
   {
    "duration": 15,
    "start_time": "2022-07-23T16:34:03.012Z"
   },
   {
    "duration": 24,
    "start_time": "2022-07-23T16:34:13.453Z"
   },
   {
    "duration": 868,
    "start_time": "2022-07-23T16:34:33.955Z"
   },
   {
    "duration": 20,
    "start_time": "2022-07-23T16:34:49.261Z"
   },
   {
    "duration": 21,
    "start_time": "2022-07-23T16:37:01.993Z"
   },
   {
    "duration": 21,
    "start_time": "2022-07-23T16:37:07.937Z"
   },
   {
    "duration": 27,
    "start_time": "2022-07-23T16:37:16.245Z"
   },
   {
    "duration": 3,
    "start_time": "2022-07-23T16:38:48.509Z"
   },
   {
    "duration": 15,
    "start_time": "2022-07-23T16:38:51.459Z"
   },
   {
    "duration": 23,
    "start_time": "2022-07-23T16:39:01.464Z"
   },
   {
    "duration": 16,
    "start_time": "2022-07-23T16:39:30.216Z"
   },
   {
    "duration": 12,
    "start_time": "2022-07-23T16:39:33.399Z"
   },
   {
    "duration": 16,
    "start_time": "2022-07-23T16:43:41.582Z"
   },
   {
    "duration": 13,
    "start_time": "2022-07-23T16:43:42.565Z"
   },
   {
    "duration": 10,
    "start_time": "2022-07-23T16:44:23.409Z"
   },
   {
    "duration": 19,
    "start_time": "2022-07-23T16:44:54.787Z"
   },
   {
    "duration": 15,
    "start_time": "2022-07-23T16:45:04.999Z"
   },
   {
    "duration": 13,
    "start_time": "2022-07-23T16:45:06.893Z"
   },
   {
    "duration": 27,
    "start_time": "2022-07-23T16:45:18.647Z"
   },
   {
    "duration": 15,
    "start_time": "2022-07-23T16:46:01.849Z"
   },
   {
    "duration": 8,
    "start_time": "2022-07-23T16:48:15.541Z"
   },
   {
    "duration": 12,
    "start_time": "2022-07-23T16:48:21.088Z"
   },
   {
    "duration": 14,
    "start_time": "2022-07-23T16:48:32.471Z"
   },
   {
    "duration": 19,
    "start_time": "2022-07-23T16:49:34.208Z"
   },
   {
    "duration": 14,
    "start_time": "2022-07-23T16:49:41.283Z"
   },
   {
    "duration": 14,
    "start_time": "2022-07-23T16:56:49.779Z"
   },
   {
    "duration": 17,
    "start_time": "2022-07-23T16:57:17.917Z"
   },
   {
    "duration": 10,
    "start_time": "2022-07-23T17:00:08.159Z"
   },
   {
    "duration": 7,
    "start_time": "2022-07-23T17:00:43.969Z"
   },
   {
    "duration": 11,
    "start_time": "2022-07-23T17:02:05.406Z"
   },
   {
    "duration": 4,
    "start_time": "2022-07-23T17:02:06.749Z"
   },
   {
    "duration": 11,
    "start_time": "2022-07-23T17:02:07.595Z"
   },
   {
    "duration": 12,
    "start_time": "2022-07-23T17:02:17.224Z"
   },
   {
    "duration": 4,
    "start_time": "2022-07-23T17:02:17.974Z"
   },
   {
    "duration": 11,
    "start_time": "2022-07-23T17:02:19.009Z"
   },
   {
    "duration": 12,
    "start_time": "2022-07-23T17:02:28.703Z"
   },
   {
    "duration": 20,
    "start_time": "2022-07-23T17:02:39.272Z"
   },
   {
    "duration": 239,
    "start_time": "2022-07-23T17:02:40.650Z"
   },
   {
    "duration": 5,
    "start_time": "2022-07-23T17:02:50.341Z"
   },
   {
    "duration": 26,
    "start_time": "2022-07-23T17:03:25.148Z"
   },
   {
    "duration": 16,
    "start_time": "2022-07-23T17:03:43.372Z"
   },
   {
    "duration": 28,
    "start_time": "2022-07-23T17:03:48.879Z"
   },
   {
    "duration": 16,
    "start_time": "2022-07-23T17:04:14.893Z"
   },
   {
    "duration": 18,
    "start_time": "2022-07-23T17:04:16.543Z"
   },
   {
    "duration": 6,
    "start_time": "2022-07-23T17:04:37.087Z"
   },
   {
    "duration": 17,
    "start_time": "2022-07-23T17:04:47.750Z"
   },
   {
    "duration": 13,
    "start_time": "2022-07-23T17:06:35.679Z"
   },
   {
    "duration": 12,
    "start_time": "2022-07-23T17:06:48.177Z"
   },
   {
    "duration": 12,
    "start_time": "2022-07-23T17:07:48.369Z"
   },
   {
    "duration": 12,
    "start_time": "2022-07-23T17:08:01.045Z"
   },
   {
    "duration": 15,
    "start_time": "2022-07-23T17:10:47.048Z"
   },
   {
    "duration": 14,
    "start_time": "2022-07-23T17:11:14.777Z"
   },
   {
    "duration": 1465,
    "start_time": "2022-07-24T11:28:03.588Z"
   },
   {
    "duration": 265,
    "start_time": "2022-07-24T11:28:12.273Z"
   },
   {
    "duration": 7,
    "start_time": "2022-07-24T11:32:44.469Z"
   },
   {
    "duration": 22,
    "start_time": "2022-07-24T11:33:25.443Z"
   },
   {
    "duration": 3,
    "start_time": "2022-07-24T11:34:02.740Z"
   },
   {
    "duration": 91,
    "start_time": "2022-07-24T11:34:13.580Z"
   },
   {
    "duration": 11,
    "start_time": "2022-07-24T11:35:43.457Z"
   },
   {
    "duration": 6,
    "start_time": "2022-07-24T11:37:25.613Z"
   },
   {
    "duration": 5,
    "start_time": "2022-07-24T11:38:05.052Z"
   },
   {
    "duration": 33,
    "start_time": "2022-07-24T11:41:13.926Z"
   },
   {
    "duration": 10,
    "start_time": "2022-07-24T11:41:26.488Z"
   },
   {
    "duration": 31,
    "start_time": "2022-07-24T11:41:44.768Z"
   },
   {
    "duration": 228,
    "start_time": "2022-07-24T11:53:11.553Z"
   },
   {
    "duration": 218,
    "start_time": "2022-07-24T11:55:35.391Z"
   },
   {
    "duration": 212,
    "start_time": "2022-07-24T11:56:44.889Z"
   },
   {
    "duration": 19,
    "start_time": "2022-07-24T12:05:09.331Z"
   },
   {
    "duration": 11,
    "start_time": "2022-07-24T12:05:53.519Z"
   },
   {
    "duration": 6,
    "start_time": "2022-07-24T12:07:17.337Z"
   },
   {
    "duration": 8,
    "start_time": "2022-07-24T12:10:28.235Z"
   },
   {
    "duration": 276,
    "start_time": "2022-07-24T12:12:03.585Z"
   },
   {
    "duration": 4,
    "start_time": "2022-07-24T12:15:04.192Z"
   },
   {
    "duration": 20,
    "start_time": "2022-07-24T12:16:14.721Z"
   },
   {
    "duration": 6,
    "start_time": "2022-07-24T12:16:15.711Z"
   },
   {
    "duration": 6,
    "start_time": "2022-07-24T12:16:36.984Z"
   },
   {
    "duration": 11,
    "start_time": "2022-07-24T12:16:52.116Z"
   },
   {
    "duration": 69,
    "start_time": "2022-07-24T12:17:57.759Z"
   },
   {
    "duration": 23,
    "start_time": "2022-07-24T12:18:05.113Z"
   },
   {
    "duration": 101,
    "start_time": "2022-07-24T12:20:02.300Z"
   },
   {
    "duration": 17,
    "start_time": "2022-07-24T12:20:27.047Z"
   },
   {
    "duration": 7,
    "start_time": "2022-07-24T12:20:30.745Z"
   },
   {
    "duration": 217,
    "start_time": "2022-07-24T12:20:47.785Z"
   },
   {
    "duration": 206,
    "start_time": "2022-07-24T12:21:26.636Z"
   },
   {
    "duration": 7,
    "start_time": "2022-07-24T12:21:32.365Z"
   },
   {
    "duration": 14,
    "start_time": "2022-07-24T12:23:38.708Z"
   },
   {
    "duration": 7,
    "start_time": "2022-07-24T12:23:50.178Z"
   },
   {
    "duration": 19,
    "start_time": "2022-07-24T12:23:51.748Z"
   },
   {
    "duration": 14,
    "start_time": "2022-07-24T12:23:54.208Z"
   },
   {
    "duration": 4,
    "start_time": "2022-07-24T13:11:24.239Z"
   },
   {
    "duration": 1205,
    "start_time": "2022-07-24T13:11:31.081Z"
   },
   {
    "duration": 71,
    "start_time": "2022-07-24T13:11:32.288Z"
   },
   {
    "duration": 41,
    "start_time": "2022-07-24T13:11:32.360Z"
   },
   {
    "duration": 7,
    "start_time": "2022-07-24T13:11:32.403Z"
   },
   {
    "duration": 33,
    "start_time": "2022-07-24T13:11:32.411Z"
   },
   {
    "duration": 3,
    "start_time": "2022-07-24T13:11:32.446Z"
   },
   {
    "duration": 135,
    "start_time": "2022-07-24T13:11:32.463Z"
   },
   {
    "duration": 13,
    "start_time": "2022-07-24T13:11:32.600Z"
   },
   {
    "duration": 13,
    "start_time": "2022-07-24T13:11:32.616Z"
   },
   {
    "duration": 8,
    "start_time": "2022-07-24T13:11:32.633Z"
   },
   {
    "duration": 49,
    "start_time": "2022-07-24T13:11:32.643Z"
   },
   {
    "duration": 16,
    "start_time": "2022-07-24T13:11:32.695Z"
   },
   {
    "duration": 31,
    "start_time": "2022-07-24T13:11:32.714Z"
   },
   {
    "duration": 234,
    "start_time": "2022-07-24T13:11:32.747Z"
   },
   {
    "duration": 198,
    "start_time": "2022-07-24T13:11:32.983Z"
   },
   {
    "duration": 7,
    "start_time": "2022-07-24T13:11:33.183Z"
   },
   {
    "duration": 152,
    "start_time": "2022-07-24T13:11:33.192Z"
   },
   {
    "duration": 22,
    "start_time": "2022-07-24T13:11:33.345Z"
   },
   {
    "duration": 10,
    "start_time": "2022-07-24T13:11:33.369Z"
   },
   {
    "duration": 18,
    "start_time": "2022-07-24T13:11:33.381Z"
   },
   {
    "duration": 179,
    "start_time": "2022-07-24T13:11:33.401Z"
   },
   {
    "duration": 135,
    "start_time": "2022-07-24T13:11:33.581Z"
   },
   {
    "duration": 9,
    "start_time": "2022-07-24T13:11:33.718Z"
   },
   {
    "duration": 261,
    "start_time": "2022-07-24T13:11:33.729Z"
   },
   {
    "duration": 37,
    "start_time": "2022-07-24T13:11:33.992Z"
   },
   {
    "duration": 530,
    "start_time": "2022-07-24T13:11:34.031Z"
   },
   {
    "duration": 3,
    "start_time": "2022-07-24T13:11:34.564Z"
   },
   {
    "duration": 17,
    "start_time": "2022-07-24T13:11:34.571Z"
   },
   {
    "duration": 15,
    "start_time": "2022-07-24T13:11:34.590Z"
   },
   {
    "duration": 14,
    "start_time": "2022-07-24T13:11:34.606Z"
   },
   {
    "duration": 41,
    "start_time": "2022-07-24T13:11:34.622Z"
   },
   {
    "duration": 237,
    "start_time": "2022-07-24T13:11:34.665Z"
   },
   {
    "duration": 18,
    "start_time": "2022-07-24T13:11:34.904Z"
   },
   {
    "duration": 6,
    "start_time": "2022-07-24T13:11:34.923Z"
   },
   {
    "duration": 219,
    "start_time": "2022-07-24T13:11:34.930Z"
   },
   {
    "duration": 7,
    "start_time": "2022-07-24T13:11:35.150Z"
   },
   {
    "duration": 30,
    "start_time": "2022-07-24T13:11:35.158Z"
   },
   {
    "duration": 13,
    "start_time": "2022-07-24T13:11:35.189Z"
   },
   {
    "duration": 1209,
    "start_time": "2022-07-24T13:40:11.581Z"
   },
   {
    "duration": 68,
    "start_time": "2022-07-24T13:40:12.792Z"
   },
   {
    "duration": 40,
    "start_time": "2022-07-24T13:40:12.861Z"
   },
   {
    "duration": 7,
    "start_time": "2022-07-24T13:40:12.903Z"
   },
   {
    "duration": 25,
    "start_time": "2022-07-24T13:40:12.912Z"
   },
   {
    "duration": 2,
    "start_time": "2022-07-24T13:40:12.939Z"
   },
   {
    "duration": 101,
    "start_time": "2022-07-24T13:40:12.963Z"
   },
   {
    "duration": 10,
    "start_time": "2022-07-24T13:40:13.065Z"
   },
   {
    "duration": 9,
    "start_time": "2022-07-24T13:40:13.076Z"
   },
   {
    "duration": 5,
    "start_time": "2022-07-24T13:40:13.088Z"
   },
   {
    "duration": 20,
    "start_time": "2022-07-24T13:40:13.094Z"
   },
   {
    "duration": 18,
    "start_time": "2022-07-24T13:40:13.116Z"
   },
   {
    "duration": 40,
    "start_time": "2022-07-24T13:40:13.135Z"
   },
   {
    "duration": 230,
    "start_time": "2022-07-24T13:40:13.177Z"
   },
   {
    "duration": 213,
    "start_time": "2022-07-24T13:40:13.409Z"
   },
   {
    "duration": 9,
    "start_time": "2022-07-24T13:40:13.624Z"
   },
   {
    "duration": 152,
    "start_time": "2022-07-24T13:40:13.634Z"
   },
   {
    "duration": 21,
    "start_time": "2022-07-24T13:40:13.788Z"
   },
   {
    "duration": 22,
    "start_time": "2022-07-24T13:40:13.810Z"
   },
   {
    "duration": 13,
    "start_time": "2022-07-24T13:40:13.834Z"
   },
   {
    "duration": 197,
    "start_time": "2022-07-24T13:40:13.849Z"
   },
   {
    "duration": 144,
    "start_time": "2022-07-24T13:40:14.048Z"
   },
   {
    "duration": 9,
    "start_time": "2022-07-24T13:40:14.194Z"
   },
   {
    "duration": 280,
    "start_time": "2022-07-24T13:40:14.204Z"
   },
   {
    "duration": 34,
    "start_time": "2022-07-24T13:40:14.486Z"
   },
   {
    "duration": 541,
    "start_time": "2022-07-24T13:40:14.522Z"
   },
   {
    "duration": 3,
    "start_time": "2022-07-24T13:40:15.065Z"
   },
   {
    "duration": 15,
    "start_time": "2022-07-24T13:40:15.072Z"
   },
   {
    "duration": 6,
    "start_time": "2022-07-24T13:40:15.089Z"
   },
   {
    "duration": 13,
    "start_time": "2022-07-24T13:40:15.097Z"
   },
   {
    "duration": 26,
    "start_time": "2022-07-24T13:40:15.112Z"
   },
   {
    "duration": 259,
    "start_time": "2022-07-24T13:40:15.139Z"
   },
   {
    "duration": 20,
    "start_time": "2022-07-24T13:40:15.400Z"
   },
   {
    "duration": 6,
    "start_time": "2022-07-24T13:40:15.421Z"
   },
   {
    "duration": 255,
    "start_time": "2022-07-24T13:40:15.429Z"
   },
   {
    "duration": 7,
    "start_time": "2022-07-24T13:40:15.685Z"
   },
   {
    "duration": 24,
    "start_time": "2022-07-24T13:40:15.693Z"
   },
   {
    "duration": 14,
    "start_time": "2022-07-24T13:40:15.719Z"
   },
   {
    "duration": 1270,
    "start_time": "2022-07-24T14:24:37.346Z"
   },
   {
    "duration": 68,
    "start_time": "2022-07-24T14:24:38.618Z"
   },
   {
    "duration": 56,
    "start_time": "2022-07-24T14:24:38.688Z"
   },
   {
    "duration": 9,
    "start_time": "2022-07-24T14:24:38.746Z"
   },
   {
    "duration": 26,
    "start_time": "2022-07-24T14:24:38.758Z"
   },
   {
    "duration": 8,
    "start_time": "2022-07-24T14:24:38.786Z"
   },
   {
    "duration": 149,
    "start_time": "2022-07-24T14:24:38.796Z"
   },
   {
    "duration": 10,
    "start_time": "2022-07-24T14:24:38.947Z"
   },
   {
    "duration": 10,
    "start_time": "2022-07-24T14:24:38.959Z"
   },
   {
    "duration": 6,
    "start_time": "2022-07-24T14:24:38.970Z"
   },
   {
    "duration": 20,
    "start_time": "2022-07-24T14:24:38.978Z"
   },
   {
    "duration": 31,
    "start_time": "2022-07-24T14:24:38.999Z"
   },
   {
    "duration": 32,
    "start_time": "2022-07-24T14:24:39.031Z"
   },
   {
    "duration": 249,
    "start_time": "2022-07-24T14:24:39.066Z"
   },
   {
    "duration": 221,
    "start_time": "2022-07-24T14:24:39.317Z"
   },
   {
    "duration": 9,
    "start_time": "2022-07-24T14:24:39.540Z"
   },
   {
    "duration": 168,
    "start_time": "2022-07-24T14:24:39.551Z"
   },
   {
    "duration": 26,
    "start_time": "2022-07-24T14:24:39.729Z"
   },
   {
    "duration": 10,
    "start_time": "2022-07-24T14:24:39.757Z"
   },
   {
    "duration": 7,
    "start_time": "2022-07-24T14:24:39.769Z"
   },
   {
    "duration": 220,
    "start_time": "2022-07-24T14:24:39.778Z"
   },
   {
    "duration": 163,
    "start_time": "2022-07-24T14:24:40.000Z"
   },
   {
    "duration": 8,
    "start_time": "2022-07-24T14:24:40.165Z"
   },
   {
    "duration": 311,
    "start_time": "2022-07-24T14:24:40.175Z"
   },
   {
    "duration": 49,
    "start_time": "2022-07-24T14:24:40.488Z"
   },
   {
    "duration": 660,
    "start_time": "2022-07-24T14:24:40.539Z"
   },
   {
    "duration": 4,
    "start_time": "2022-07-24T14:24:41.200Z"
   },
   {
    "duration": 25,
    "start_time": "2022-07-24T14:24:41.205Z"
   },
   {
    "duration": 17,
    "start_time": "2022-07-24T14:24:41.232Z"
   },
   {
    "duration": 14,
    "start_time": "2022-07-24T14:24:41.251Z"
   },
   {
    "duration": 22,
    "start_time": "2022-07-24T14:24:41.267Z"
   },
   {
    "duration": 282,
    "start_time": "2022-07-24T14:24:41.291Z"
   },
   {
    "duration": 18,
    "start_time": "2022-07-24T14:24:41.575Z"
   },
   {
    "duration": 29,
    "start_time": "2022-07-24T14:24:41.595Z"
   },
   {
    "duration": 224,
    "start_time": "2022-07-24T14:24:41.626Z"
   },
   {
    "duration": 7,
    "start_time": "2022-07-24T14:24:41.852Z"
   },
   {
    "duration": 27,
    "start_time": "2022-07-24T14:24:41.860Z"
   },
   {
    "duration": 12,
    "start_time": "2022-07-24T14:24:41.889Z"
   },
   {
    "duration": 1318,
    "start_time": "2022-07-24T17:28:06.289Z"
   },
   {
    "duration": 4,
    "start_time": "2022-07-24T17:28:15.441Z"
   },
   {
    "duration": 271,
    "start_time": "2022-07-24T17:28:15.447Z"
   },
   {
    "duration": 41,
    "start_time": "2022-07-24T17:28:15.720Z"
   },
   {
    "duration": 17,
    "start_time": "2022-07-24T17:28:15.762Z"
   },
   {
    "duration": 24,
    "start_time": "2022-07-24T17:28:15.781Z"
   },
   {
    "duration": 2,
    "start_time": "2022-07-24T17:28:15.806Z"
   },
   {
    "duration": 2,
    "start_time": "2022-07-24T17:28:17.920Z"
   },
   {
    "duration": 101,
    "start_time": "2022-07-24T17:28:18.477Z"
   },
   {
    "duration": 4,
    "start_time": "2022-07-24T17:29:58.318Z"
   },
   {
    "duration": 93,
    "start_time": "2022-07-24T17:29:58.338Z"
   },
   {
    "duration": 34,
    "start_time": "2022-07-24T17:29:58.433Z"
   },
   {
    "duration": 7,
    "start_time": "2022-07-24T17:29:58.468Z"
   },
   {
    "duration": 28,
    "start_time": "2022-07-24T17:29:58.477Z"
   },
   {
    "duration": 2,
    "start_time": "2022-07-24T17:29:58.507Z"
   },
   {
    "duration": 104,
    "start_time": "2022-07-24T17:29:58.511Z"
   },
   {
    "duration": 9,
    "start_time": "2022-07-24T17:29:58.617Z"
   },
   {
    "duration": 9,
    "start_time": "2022-07-24T17:29:58.627Z"
   },
   {
    "duration": 7,
    "start_time": "2022-07-24T17:29:58.638Z"
   },
   {
    "duration": 21,
    "start_time": "2022-07-24T17:30:00.892Z"
   },
   {
    "duration": 9,
    "start_time": "2022-07-24T17:30:04.024Z"
   },
   {
    "duration": 12,
    "start_time": "2022-07-24T17:31:41.070Z"
   },
   {
    "duration": 3,
    "start_time": "2022-07-24T17:32:33.142Z"
   },
   {
    "duration": 830,
    "start_time": "2022-07-24T17:32:43.594Z"
   },
   {
    "duration": 922,
    "start_time": "2022-07-24T17:32:54.438Z"
   },
   {
    "duration": 4,
    "start_time": "2022-07-24T17:32:57.945Z"
   },
   {
    "duration": 71,
    "start_time": "2022-07-24T17:32:57.952Z"
   },
   {
    "duration": 35,
    "start_time": "2022-07-24T17:32:58.024Z"
   },
   {
    "duration": 7,
    "start_time": "2022-07-24T17:32:58.060Z"
   },
   {
    "duration": 26,
    "start_time": "2022-07-24T17:32:58.069Z"
   },
   {
    "duration": 3,
    "start_time": "2022-07-24T17:32:58.096Z"
   },
   {
    "duration": 124,
    "start_time": "2022-07-24T17:32:58.100Z"
   },
   {
    "duration": 10,
    "start_time": "2022-07-24T17:32:58.225Z"
   },
   {
    "duration": 9,
    "start_time": "2022-07-24T17:32:58.237Z"
   },
   {
    "duration": 17,
    "start_time": "2022-07-24T17:32:58.247Z"
   },
   {
    "duration": 18,
    "start_time": "2022-07-24T17:32:58.267Z"
   },
   {
    "duration": 9,
    "start_time": "2022-07-24T17:32:58.287Z"
   },
   {
    "duration": 25,
    "start_time": "2022-07-24T17:32:58.297Z"
   },
   {
    "duration": 3,
    "start_time": "2022-07-24T17:32:58.323Z"
   },
   {
    "duration": 15,
    "start_time": "2022-07-24T17:33:05.192Z"
   },
   {
    "duration": 10,
    "start_time": "2022-07-24T17:36:58.105Z"
   },
   {
    "duration": 10,
    "start_time": "2022-07-24T17:37:02.991Z"
   },
   {
    "duration": 22,
    "start_time": "2022-07-24T17:37:06.749Z"
   },
   {
    "duration": 5,
    "start_time": "2022-07-24T17:37:43.818Z"
   },
   {
    "duration": 66,
    "start_time": "2022-07-24T17:37:43.833Z"
   },
   {
    "duration": 35,
    "start_time": "2022-07-24T17:37:43.901Z"
   },
   {
    "duration": 27,
    "start_time": "2022-07-24T17:37:43.938Z"
   },
   {
    "duration": 23,
    "start_time": "2022-07-24T17:37:43.967Z"
   },
   {
    "duration": 3,
    "start_time": "2022-07-24T17:37:43.992Z"
   },
   {
    "duration": 117,
    "start_time": "2022-07-24T17:37:43.997Z"
   },
   {
    "duration": 9,
    "start_time": "2022-07-24T17:37:44.116Z"
   },
   {
    "duration": 7,
    "start_time": "2022-07-24T17:37:44.127Z"
   },
   {
    "duration": 8,
    "start_time": "2022-07-24T17:37:44.136Z"
   },
   {
    "duration": 30,
    "start_time": "2022-07-24T17:37:44.146Z"
   },
   {
    "duration": 8,
    "start_time": "2022-07-24T17:37:44.178Z"
   },
   {
    "duration": 21,
    "start_time": "2022-07-24T17:37:44.188Z"
   },
   {
    "duration": 3,
    "start_time": "2022-07-24T17:37:44.211Z"
   },
   {
    "duration": 19,
    "start_time": "2022-07-24T17:37:44.215Z"
   },
   {
    "duration": 41,
    "start_time": "2022-07-24T17:37:44.236Z"
   },
   {
    "duration": 217,
    "start_time": "2022-07-24T17:37:44.279Z"
   },
   {
    "duration": 208,
    "start_time": "2022-07-24T17:37:44.498Z"
   },
   {
    "duration": 7,
    "start_time": "2022-07-24T17:37:44.708Z"
   },
   {
    "duration": 148,
    "start_time": "2022-07-24T17:37:44.717Z"
   },
   {
    "duration": 12,
    "start_time": "2022-07-24T17:37:44.867Z"
   },
   {
    "duration": 0,
    "start_time": "2022-07-24T17:37:44.881Z"
   },
   {
    "duration": 19,
    "start_time": "2022-07-24T17:38:39.134Z"
   },
   {
    "duration": 22,
    "start_time": "2022-07-24T17:41:30.859Z"
   },
   {
    "duration": 11,
    "start_time": "2022-07-24T17:41:54.759Z"
   },
   {
    "duration": 11,
    "start_time": "2022-07-24T17:43:47.110Z"
   },
   {
    "duration": 6,
    "start_time": "2022-07-24T17:43:49.947Z"
   },
   {
    "duration": 13,
    "start_time": "2022-07-24T17:43:50.719Z"
   },
   {
    "duration": 61,
    "start_time": "2022-07-24T17:48:00.297Z"
   },
   {
    "duration": 8,
    "start_time": "2022-07-24T17:48:29.154Z"
   },
   {
    "duration": 15,
    "start_time": "2022-07-24T17:48:36.347Z"
   },
   {
    "duration": 4,
    "start_time": "2022-07-24T17:48:49.990Z"
   },
   {
    "duration": 72,
    "start_time": "2022-07-24T17:48:50.000Z"
   },
   {
    "duration": 38,
    "start_time": "2022-07-24T17:48:50.074Z"
   },
   {
    "duration": 6,
    "start_time": "2022-07-24T17:48:50.114Z"
   },
   {
    "duration": 43,
    "start_time": "2022-07-24T17:48:50.122Z"
   },
   {
    "duration": 3,
    "start_time": "2022-07-24T17:48:50.167Z"
   },
   {
    "duration": 143,
    "start_time": "2022-07-24T17:48:50.172Z"
   },
   {
    "duration": 9,
    "start_time": "2022-07-24T17:48:50.317Z"
   },
   {
    "duration": 10,
    "start_time": "2022-07-24T17:48:50.328Z"
   },
   {
    "duration": 5,
    "start_time": "2022-07-24T17:48:50.340Z"
   },
   {
    "duration": 20,
    "start_time": "2022-07-24T17:48:50.363Z"
   },
   {
    "duration": 12,
    "start_time": "2022-07-24T17:48:50.385Z"
   },
   {
    "duration": 27,
    "start_time": "2022-07-24T17:48:50.400Z"
   },
   {
    "duration": 4,
    "start_time": "2022-07-24T17:48:50.428Z"
   },
   {
    "duration": 35,
    "start_time": "2022-07-24T17:48:50.433Z"
   },
   {
    "duration": 32,
    "start_time": "2022-07-24T17:48:50.470Z"
   },
   {
    "duration": 235,
    "start_time": "2022-07-24T17:48:50.504Z"
   },
   {
    "duration": 211,
    "start_time": "2022-07-24T17:48:50.741Z"
   },
   {
    "duration": 18,
    "start_time": "2022-07-24T17:48:50.953Z"
   },
   {
    "duration": 146,
    "start_time": "2022-07-24T17:48:50.973Z"
   },
   {
    "duration": 19,
    "start_time": "2022-07-24T17:48:51.120Z"
   },
   {
    "duration": 24,
    "start_time": "2022-07-24T17:48:51.141Z"
   },
   {
    "duration": 8,
    "start_time": "2022-07-24T17:48:51.167Z"
   },
   {
    "duration": 6,
    "start_time": "2022-07-24T17:48:54.252Z"
   },
   {
    "duration": 14,
    "start_time": "2022-07-24T17:48:55.726Z"
   },
   {
    "duration": 4,
    "start_time": "2022-07-24T17:50:08.637Z"
   },
   {
    "duration": 65,
    "start_time": "2022-07-24T17:50:08.647Z"
   },
   {
    "duration": 38,
    "start_time": "2022-07-24T17:50:08.714Z"
   },
   {
    "duration": 7,
    "start_time": "2022-07-24T17:50:08.763Z"
   },
   {
    "duration": 31,
    "start_time": "2022-07-24T17:50:08.772Z"
   },
   {
    "duration": 9,
    "start_time": "2022-07-24T17:50:08.805Z"
   },
   {
    "duration": 131,
    "start_time": "2022-07-24T17:50:08.816Z"
   },
   {
    "duration": 24,
    "start_time": "2022-07-24T17:50:08.949Z"
   },
   {
    "duration": 9,
    "start_time": "2022-07-24T17:50:08.975Z"
   },
   {
    "duration": 5,
    "start_time": "2022-07-24T17:50:08.986Z"
   },
   {
    "duration": 19,
    "start_time": "2022-07-24T17:50:08.994Z"
   },
   {
    "duration": 10,
    "start_time": "2022-07-24T17:50:09.016Z"
   },
   {
    "duration": 43,
    "start_time": "2022-07-24T17:50:09.027Z"
   },
   {
    "duration": 3,
    "start_time": "2022-07-24T17:50:09.072Z"
   },
   {
    "duration": 18,
    "start_time": "2022-07-24T17:50:09.077Z"
   },
   {
    "duration": 20,
    "start_time": "2022-07-24T17:50:09.097Z"
   },
   {
    "duration": 224,
    "start_time": "2022-07-24T17:50:09.119Z"
   },
   {
    "duration": 290,
    "start_time": "2022-07-24T17:50:09.344Z"
   },
   {
    "duration": 8,
    "start_time": "2022-07-24T17:50:09.636Z"
   },
   {
    "duration": 147,
    "start_time": "2022-07-24T17:50:09.645Z"
   },
   {
    "duration": 20,
    "start_time": "2022-07-24T17:50:09.793Z"
   },
   {
    "duration": 11,
    "start_time": "2022-07-24T17:50:09.814Z"
   },
   {
    "duration": 8,
    "start_time": "2022-07-24T17:50:09.827Z"
   },
   {
    "duration": 6,
    "start_time": "2022-07-24T17:50:11.540Z"
   },
   {
    "duration": 16,
    "start_time": "2022-07-24T17:50:12.411Z"
   },
   {
    "duration": 4,
    "start_time": "2022-07-24T17:50:22.497Z"
   },
   {
    "duration": 83,
    "start_time": "2022-07-24T17:50:22.505Z"
   },
   {
    "duration": 47,
    "start_time": "2022-07-24T17:50:22.590Z"
   },
   {
    "duration": 30,
    "start_time": "2022-07-24T17:50:22.639Z"
   },
   {
    "duration": 35,
    "start_time": "2022-07-24T17:50:22.671Z"
   },
   {
    "duration": 3,
    "start_time": "2022-07-24T17:50:22.708Z"
   },
   {
    "duration": 121,
    "start_time": "2022-07-24T17:50:22.713Z"
   },
   {
    "duration": 10,
    "start_time": "2022-07-24T17:50:22.836Z"
   },
   {
    "duration": 8,
    "start_time": "2022-07-24T17:50:22.847Z"
   },
   {
    "duration": 5,
    "start_time": "2022-07-24T17:50:22.863Z"
   },
   {
    "duration": 18,
    "start_time": "2022-07-24T17:50:22.870Z"
   },
   {
    "duration": 9,
    "start_time": "2022-07-24T17:50:22.889Z"
   },
   {
    "duration": 23,
    "start_time": "2022-07-24T17:50:22.900Z"
   },
   {
    "duration": 3,
    "start_time": "2022-07-24T17:50:22.925Z"
   },
   {
    "duration": 44,
    "start_time": "2022-07-24T17:50:22.930Z"
   },
   {
    "duration": 20,
    "start_time": "2022-07-24T17:50:22.976Z"
   },
   {
    "duration": 206,
    "start_time": "2022-07-24T17:50:22.998Z"
   },
   {
    "duration": 206,
    "start_time": "2022-07-24T17:50:23.205Z"
   },
   {
    "duration": 11,
    "start_time": "2022-07-24T17:50:23.413Z"
   },
   {
    "duration": 164,
    "start_time": "2022-07-24T17:50:23.425Z"
   },
   {
    "duration": 18,
    "start_time": "2022-07-24T17:50:23.590Z"
   },
   {
    "duration": 9,
    "start_time": "2022-07-24T17:50:23.609Z"
   },
   {
    "duration": 13,
    "start_time": "2022-07-24T17:50:32.315Z"
   },
   {
    "duration": 7,
    "start_time": "2022-07-24T17:50:42.531Z"
   },
   {
    "duration": 20,
    "start_time": "2022-07-24T17:50:44.845Z"
   },
   {
    "duration": 262,
    "start_time": "2022-07-24T17:51:10.779Z"
   },
   {
    "duration": 10,
    "start_time": "2022-07-24T17:51:37.303Z"
   },
   {
    "duration": 10,
    "start_time": "2022-07-24T17:52:18.070Z"
   },
   {
    "duration": 274,
    "start_time": "2022-07-24T17:52:22.743Z"
   },
   {
    "duration": 4,
    "start_time": "2022-07-24T17:52:54.907Z"
   },
   {
    "duration": 64,
    "start_time": "2022-07-24T17:52:54.917Z"
   },
   {
    "duration": 35,
    "start_time": "2022-07-24T17:52:54.983Z"
   },
   {
    "duration": 7,
    "start_time": "2022-07-24T17:52:55.019Z"
   },
   {
    "duration": 46,
    "start_time": "2022-07-24T17:52:55.028Z"
   },
   {
    "duration": 3,
    "start_time": "2022-07-24T17:52:55.076Z"
   },
   {
    "duration": 113,
    "start_time": "2022-07-24T17:52:55.080Z"
   },
   {
    "duration": 9,
    "start_time": "2022-07-24T17:52:55.195Z"
   },
   {
    "duration": 10,
    "start_time": "2022-07-24T17:52:55.205Z"
   },
   {
    "duration": 6,
    "start_time": "2022-07-24T17:52:55.216Z"
   },
   {
    "duration": 23,
    "start_time": "2022-07-24T17:52:55.225Z"
   },
   {
    "duration": 17,
    "start_time": "2022-07-24T17:52:55.250Z"
   },
   {
    "duration": 22,
    "start_time": "2022-07-24T17:52:55.269Z"
   },
   {
    "duration": 3,
    "start_time": "2022-07-24T17:52:55.292Z"
   },
   {
    "duration": 18,
    "start_time": "2022-07-24T17:52:55.296Z"
   },
   {
    "duration": 19,
    "start_time": "2022-07-24T17:52:55.316Z"
   },
   {
    "duration": 241,
    "start_time": "2022-07-24T17:52:55.336Z"
   },
   {
    "duration": 214,
    "start_time": "2022-07-24T17:52:55.579Z"
   },
   {
    "duration": 8,
    "start_time": "2022-07-24T17:52:55.795Z"
   },
   {
    "duration": 147,
    "start_time": "2022-07-24T17:52:55.804Z"
   },
   {
    "duration": 25,
    "start_time": "2022-07-24T17:52:55.952Z"
   },
   {
    "duration": 9,
    "start_time": "2022-07-24T17:52:55.979Z"
   },
   {
    "duration": 14,
    "start_time": "2022-07-24T17:52:57.644Z"
   },
   {
    "duration": 15,
    "start_time": "2022-07-24T17:53:20.656Z"
   },
   {
    "duration": 255,
    "start_time": "2022-07-24T17:53:26.431Z"
   },
   {
    "duration": 359,
    "start_time": "2022-07-24T17:54:27.364Z"
   },
   {
    "duration": 13,
    "start_time": "2022-07-24T17:55:23.215Z"
   },
   {
    "duration": 4,
    "start_time": "2022-07-24T17:55:30.004Z"
   },
   {
    "duration": 75,
    "start_time": "2022-07-24T17:55:30.013Z"
   },
   {
    "duration": 34,
    "start_time": "2022-07-24T17:55:30.090Z"
   },
   {
    "duration": 6,
    "start_time": "2022-07-24T17:55:30.126Z"
   },
   {
    "duration": 60,
    "start_time": "2022-07-24T17:55:30.135Z"
   },
   {
    "duration": 3,
    "start_time": "2022-07-24T17:55:30.197Z"
   },
   {
    "duration": 118,
    "start_time": "2022-07-24T17:55:30.202Z"
   },
   {
    "duration": 10,
    "start_time": "2022-07-24T17:55:30.322Z"
   },
   {
    "duration": 25,
    "start_time": "2022-07-24T17:55:30.333Z"
   },
   {
    "duration": 23,
    "start_time": "2022-07-24T17:55:30.360Z"
   },
   {
    "duration": 20,
    "start_time": "2022-07-24T17:55:30.386Z"
   },
   {
    "duration": 16,
    "start_time": "2022-07-24T17:55:30.408Z"
   },
   {
    "duration": 28,
    "start_time": "2022-07-24T17:55:30.426Z"
   },
   {
    "duration": 7,
    "start_time": "2022-07-24T17:55:30.456Z"
   },
   {
    "duration": 37,
    "start_time": "2022-07-24T17:55:30.465Z"
   },
   {
    "duration": 21,
    "start_time": "2022-07-24T17:55:30.504Z"
   },
   {
    "duration": 231,
    "start_time": "2022-07-24T17:55:30.527Z"
   },
   {
    "duration": 207,
    "start_time": "2022-07-24T17:55:30.760Z"
   },
   {
    "duration": 8,
    "start_time": "2022-07-24T17:55:30.969Z"
   },
   {
    "duration": 151,
    "start_time": "2022-07-24T17:55:30.979Z"
   },
   {
    "duration": 18,
    "start_time": "2022-07-24T17:55:31.132Z"
   },
   {
    "duration": 10,
    "start_time": "2022-07-24T17:55:31.164Z"
   },
   {
    "duration": 20,
    "start_time": "2022-07-24T17:55:31.176Z"
   },
   {
    "duration": 14,
    "start_time": "2022-07-24T17:55:34.551Z"
   },
   {
    "duration": 18,
    "start_time": "2022-07-24T17:55:35.408Z"
   },
   {
    "duration": 283,
    "start_time": "2022-07-24T17:55:37.809Z"
   },
   {
    "duration": 177,
    "start_time": "2022-07-24T18:06:10.996Z"
   },
   {
    "duration": 9,
    "start_time": "2022-07-24T18:07:37.671Z"
   },
   {
    "duration": 4,
    "start_time": "2022-07-24T18:07:41.418Z"
   },
   {
    "duration": 66,
    "start_time": "2022-07-24T18:07:41.427Z"
   },
   {
    "duration": 37,
    "start_time": "2022-07-24T18:07:41.496Z"
   },
   {
    "duration": 7,
    "start_time": "2022-07-24T18:07:41.534Z"
   },
   {
    "duration": 41,
    "start_time": "2022-07-24T18:07:41.543Z"
   },
   {
    "duration": 3,
    "start_time": "2022-07-24T18:07:41.585Z"
   },
   {
    "duration": 116,
    "start_time": "2022-07-24T18:07:41.589Z"
   },
   {
    "duration": 10,
    "start_time": "2022-07-24T18:07:41.707Z"
   },
   {
    "duration": 10,
    "start_time": "2022-07-24T18:07:41.719Z"
   },
   {
    "duration": 7,
    "start_time": "2022-07-24T18:07:41.730Z"
   },
   {
    "duration": 36,
    "start_time": "2022-07-24T18:07:41.740Z"
   },
   {
    "duration": 9,
    "start_time": "2022-07-24T18:07:41.778Z"
   },
   {
    "duration": 27,
    "start_time": "2022-07-24T18:07:41.788Z"
   },
   {
    "duration": 3,
    "start_time": "2022-07-24T18:07:41.817Z"
   },
   {
    "duration": 21,
    "start_time": "2022-07-24T18:07:41.821Z"
   },
   {
    "duration": 32,
    "start_time": "2022-07-24T18:07:41.844Z"
   },
   {
    "duration": 223,
    "start_time": "2022-07-24T18:07:41.878Z"
   },
   {
    "duration": 218,
    "start_time": "2022-07-24T18:07:42.102Z"
   },
   {
    "duration": 8,
    "start_time": "2022-07-24T18:07:42.322Z"
   },
   {
    "duration": 155,
    "start_time": "2022-07-24T18:07:42.332Z"
   },
   {
    "duration": 20,
    "start_time": "2022-07-24T18:07:42.489Z"
   },
   {
    "duration": 12,
    "start_time": "2022-07-24T18:07:42.511Z"
   },
   {
    "duration": 21,
    "start_time": "2022-07-24T18:07:42.525Z"
   },
   {
    "duration": 30,
    "start_time": "2022-07-24T18:07:42.549Z"
   },
   {
    "duration": 321,
    "start_time": "2022-07-24T18:07:42.582Z"
   },
   {
    "duration": 239,
    "start_time": "2022-07-24T18:07:42.906Z"
   },
   {
    "duration": 37,
    "start_time": "2022-07-24T18:07:43.147Z"
   },
   {
    "duration": 520,
    "start_time": "2022-07-24T18:07:43.185Z"
   },
   {
    "duration": 4,
    "start_time": "2022-07-24T18:07:43.706Z"
   },
   {
    "duration": 36,
    "start_time": "2022-07-24T18:07:43.712Z"
   },
   {
    "duration": 22,
    "start_time": "2022-07-24T18:07:43.749Z"
   },
   {
    "duration": 40,
    "start_time": "2022-07-24T18:07:43.773Z"
   },
   {
    "duration": 34,
    "start_time": "2022-07-24T18:07:43.815Z"
   },
   {
    "duration": 228,
    "start_time": "2022-07-24T18:07:43.851Z"
   },
   {
    "duration": 174,
    "start_time": "2022-07-24T18:07:44.080Z"
   },
   {
    "duration": 172,
    "start_time": "2022-07-24T18:07:46.473Z"
   },
   {
    "duration": 19,
    "start_time": "2022-07-24T18:07:47.054Z"
   },
   {
    "duration": 17,
    "start_time": "2022-07-24T18:09:18.596Z"
   },
   {
    "duration": 4,
    "start_time": "2022-07-24T18:09:36.952Z"
   },
   {
    "duration": 73,
    "start_time": "2022-07-24T18:09:36.960Z"
   },
   {
    "duration": 35,
    "start_time": "2022-07-24T18:09:37.035Z"
   },
   {
    "duration": 7,
    "start_time": "2022-07-24T18:09:37.071Z"
   },
   {
    "duration": 31,
    "start_time": "2022-07-24T18:09:37.080Z"
   },
   {
    "duration": 3,
    "start_time": "2022-07-24T18:09:37.113Z"
   },
   {
    "duration": 110,
    "start_time": "2022-07-24T18:09:37.117Z"
   },
   {
    "duration": 9,
    "start_time": "2022-07-24T18:09:37.229Z"
   },
   {
    "duration": 8,
    "start_time": "2022-07-24T18:09:37.240Z"
   },
   {
    "duration": 6,
    "start_time": "2022-07-24T18:09:37.264Z"
   },
   {
    "duration": 17,
    "start_time": "2022-07-24T18:09:37.272Z"
   },
   {
    "duration": 10,
    "start_time": "2022-07-24T18:09:37.290Z"
   },
   {
    "duration": 22,
    "start_time": "2022-07-24T18:09:37.301Z"
   },
   {
    "duration": 3,
    "start_time": "2022-07-24T18:09:37.325Z"
   },
   {
    "duration": 49,
    "start_time": "2022-07-24T18:09:37.329Z"
   },
   {
    "duration": 24,
    "start_time": "2022-07-24T18:09:37.380Z"
   },
   {
    "duration": 234,
    "start_time": "2022-07-24T18:09:37.406Z"
   },
   {
    "duration": 205,
    "start_time": "2022-07-24T18:09:37.642Z"
   },
   {
    "duration": 21,
    "start_time": "2022-07-24T18:09:37.849Z"
   },
   {
    "duration": 144,
    "start_time": "2022-07-24T18:09:37.872Z"
   },
   {
    "duration": 19,
    "start_time": "2022-07-24T18:09:38.018Z"
   },
   {
    "duration": 25,
    "start_time": "2022-07-24T18:09:38.039Z"
   },
   {
    "duration": 6,
    "start_time": "2022-07-24T18:09:38.066Z"
   },
   {
    "duration": 17,
    "start_time": "2022-07-24T18:09:38.073Z"
   },
   {
    "duration": 285,
    "start_time": "2022-07-24T18:09:38.092Z"
   },
   {
    "duration": 247,
    "start_time": "2022-07-24T18:09:38.379Z"
   },
   {
    "duration": 42,
    "start_time": "2022-07-24T18:09:38.628Z"
   },
   {
    "duration": 430,
    "start_time": "2022-07-24T18:09:38.672Z"
   },
   {
    "duration": 4,
    "start_time": "2022-07-24T18:09:39.105Z"
   },
   {
    "duration": 18,
    "start_time": "2022-07-24T18:09:39.110Z"
   },
   {
    "duration": 8,
    "start_time": "2022-07-24T18:09:39.129Z"
   },
   {
    "duration": 25,
    "start_time": "2022-07-24T18:09:39.139Z"
   },
   {
    "duration": 24,
    "start_time": "2022-07-24T18:09:39.165Z"
   },
   {
    "duration": 229,
    "start_time": "2022-07-24T18:09:39.191Z"
   },
   {
    "duration": 222,
    "start_time": "2022-07-24T18:09:39.422Z"
   },
   {
    "duration": 171,
    "start_time": "2022-07-24T18:09:41.557Z"
   },
   {
    "duration": 25,
    "start_time": "2022-07-24T18:09:42.514Z"
   },
   {
    "duration": 5,
    "start_time": "2022-07-24T18:10:33.043Z"
   },
   {
    "duration": 76,
    "start_time": "2022-07-24T18:10:33.050Z"
   },
   {
    "duration": 37,
    "start_time": "2022-07-24T18:10:33.128Z"
   },
   {
    "duration": 7,
    "start_time": "2022-07-24T18:10:33.166Z"
   },
   {
    "duration": 25,
    "start_time": "2022-07-24T18:10:33.175Z"
   },
   {
    "duration": 3,
    "start_time": "2022-07-24T18:10:33.202Z"
   },
   {
    "duration": 99,
    "start_time": "2022-07-24T18:10:33.414Z"
   },
   {
    "duration": 9,
    "start_time": "2022-07-24T18:10:33.515Z"
   },
   {
    "duration": 8,
    "start_time": "2022-07-24T18:10:33.526Z"
   },
   {
    "duration": 8,
    "start_time": "2022-07-24T18:10:33.536Z"
   },
   {
    "duration": 32,
    "start_time": "2022-07-24T18:10:33.547Z"
   },
   {
    "duration": 9,
    "start_time": "2022-07-24T18:10:33.580Z"
   },
   {
    "duration": 23,
    "start_time": "2022-07-24T18:10:33.590Z"
   },
   {
    "duration": 3,
    "start_time": "2022-07-24T18:10:33.615Z"
   },
   {
    "duration": 17,
    "start_time": "2022-07-24T18:10:33.620Z"
   },
   {
    "duration": 44,
    "start_time": "2022-07-24T18:10:33.639Z"
   },
   {
    "duration": 214,
    "start_time": "2022-07-24T18:10:33.685Z"
   },
   {
    "duration": 306,
    "start_time": "2022-07-24T18:10:33.901Z"
   },
   {
    "duration": 8,
    "start_time": "2022-07-24T18:10:34.208Z"
   },
   {
    "duration": 147,
    "start_time": "2022-07-24T18:10:34.219Z"
   },
   {
    "duration": 18,
    "start_time": "2022-07-24T18:10:34.367Z"
   },
   {
    "duration": 9,
    "start_time": "2022-07-24T18:10:34.387Z"
   },
   {
    "duration": 6,
    "start_time": "2022-07-24T18:10:34.398Z"
   },
   {
    "duration": 13,
    "start_time": "2022-07-24T18:10:34.405Z"
   },
   {
    "duration": 285,
    "start_time": "2022-07-24T18:10:34.420Z"
   },
   {
    "duration": 253,
    "start_time": "2022-07-24T18:10:34.707Z"
   },
   {
    "duration": 31,
    "start_time": "2022-07-24T18:10:34.963Z"
   },
   {
    "duration": 436,
    "start_time": "2022-07-24T18:10:34.996Z"
   },
   {
    "duration": 5,
    "start_time": "2022-07-24T18:10:35.434Z"
   },
   {
    "duration": 30,
    "start_time": "2022-07-24T18:10:35.441Z"
   },
   {
    "duration": 8,
    "start_time": "2022-07-24T18:10:35.473Z"
   },
   {
    "duration": 14,
    "start_time": "2022-07-24T18:10:35.483Z"
   },
   {
    "duration": 29,
    "start_time": "2022-07-24T18:10:35.498Z"
   },
   {
    "duration": 235,
    "start_time": "2022-07-24T18:10:35.529Z"
   },
   {
    "duration": 217,
    "start_time": "2022-07-24T18:10:35.766Z"
   },
   {
    "duration": 178,
    "start_time": "2022-07-24T18:10:37.772Z"
   },
   {
    "duration": 8,
    "start_time": "2022-07-24T18:10:38.650Z"
   },
   {
    "duration": 13,
    "start_time": "2022-07-24T18:10:43.484Z"
   },
   {
    "duration": 14,
    "start_time": "2022-07-24T18:10:49.508Z"
   },
   {
    "duration": 13,
    "start_time": "2022-07-24T18:11:15.653Z"
   },
   {
    "duration": 8,
    "start_time": "2022-07-24T18:12:18.077Z"
   },
   {
    "duration": 17,
    "start_time": "2022-07-24T18:12:32.834Z"
   },
   {
    "duration": 4,
    "start_time": "2022-07-24T18:13:55.150Z"
   },
   {
    "duration": 72,
    "start_time": "2022-07-24T18:13:55.158Z"
   },
   {
    "duration": 35,
    "start_time": "2022-07-24T18:13:55.232Z"
   },
   {
    "duration": 6,
    "start_time": "2022-07-24T18:13:55.269Z"
   },
   {
    "duration": 28,
    "start_time": "2022-07-24T18:13:55.277Z"
   },
   {
    "duration": 5,
    "start_time": "2022-07-24T18:13:55.307Z"
   },
   {
    "duration": 130,
    "start_time": "2022-07-24T18:13:55.313Z"
   },
   {
    "duration": 18,
    "start_time": "2022-07-24T18:13:55.445Z"
   },
   {
    "duration": 12,
    "start_time": "2022-07-24T18:13:55.465Z"
   },
   {
    "duration": 15,
    "start_time": "2022-07-24T18:13:55.479Z"
   },
   {
    "duration": 18,
    "start_time": "2022-07-24T18:13:55.497Z"
   },
   {
    "duration": 14,
    "start_time": "2022-07-24T18:13:55.516Z"
   },
   {
    "duration": 33,
    "start_time": "2022-07-24T18:13:55.531Z"
   },
   {
    "duration": 3,
    "start_time": "2022-07-24T18:13:55.565Z"
   },
   {
    "duration": 25,
    "start_time": "2022-07-24T18:13:55.569Z"
   },
   {
    "duration": 23,
    "start_time": "2022-07-24T18:13:55.596Z"
   },
   {
    "duration": 219,
    "start_time": "2022-07-24T18:13:55.621Z"
   },
   {
    "duration": 211,
    "start_time": "2022-07-24T18:13:55.842Z"
   },
   {
    "duration": 13,
    "start_time": "2022-07-24T18:13:56.055Z"
   },
   {
    "duration": 147,
    "start_time": "2022-07-24T18:13:56.070Z"
   },
   {
    "duration": 18,
    "start_time": "2022-07-24T18:13:56.219Z"
   },
   {
    "duration": 26,
    "start_time": "2022-07-24T18:13:56.239Z"
   },
   {
    "duration": 6,
    "start_time": "2022-07-24T18:13:56.267Z"
   },
   {
    "duration": 14,
    "start_time": "2022-07-24T18:13:56.275Z"
   },
   {
    "duration": 286,
    "start_time": "2022-07-24T18:13:56.291Z"
   },
   {
    "duration": 344,
    "start_time": "2022-07-24T18:13:56.578Z"
   },
   {
    "duration": 40,
    "start_time": "2022-07-24T18:13:56.924Z"
   },
   {
    "duration": 437,
    "start_time": "2022-07-24T18:13:56.966Z"
   },
   {
    "duration": 5,
    "start_time": "2022-07-24T18:13:57.415Z"
   },
   {
    "duration": 18,
    "start_time": "2022-07-24T18:13:57.422Z"
   },
   {
    "duration": 7,
    "start_time": "2022-07-24T18:13:57.442Z"
   },
   {
    "duration": 17,
    "start_time": "2022-07-24T18:13:57.451Z"
   },
   {
    "duration": 24,
    "start_time": "2022-07-24T18:13:57.470Z"
   },
   {
    "duration": 237,
    "start_time": "2022-07-24T18:13:57.495Z"
   },
   {
    "duration": 238,
    "start_time": "2022-07-24T18:13:57.734Z"
   },
   {
    "duration": 8,
    "start_time": "2022-07-24T18:13:57.974Z"
   },
   {
    "duration": 9,
    "start_time": "2022-07-24T18:13:59.923Z"
   },
   {
    "duration": 18,
    "start_time": "2022-07-24T18:14:00.838Z"
   },
   {
    "duration": 8,
    "start_time": "2022-07-24T18:14:42.094Z"
   },
   {
    "duration": 18,
    "start_time": "2022-07-24T18:14:43.010Z"
   },
   {
    "duration": 10,
    "start_time": "2022-07-24T18:15:44.365Z"
   },
   {
    "duration": 21,
    "start_time": "2022-07-24T18:15:45.324Z"
   },
   {
    "duration": 216,
    "start_time": "2022-07-24T18:17:50.059Z"
   },
   {
    "duration": 62,
    "start_time": "2022-07-24T18:19:10.779Z"
   },
   {
    "duration": 141,
    "start_time": "2022-07-24T18:19:11.799Z"
   },
   {
    "duration": 841,
    "start_time": "2022-07-24T18:19:26.421Z"
   },
   {
    "duration": 5,
    "start_time": "2022-07-24T18:19:33.626Z"
   },
   {
    "duration": 68,
    "start_time": "2022-07-24T18:19:33.634Z"
   },
   {
    "duration": 39,
    "start_time": "2022-07-24T18:19:33.705Z"
   },
   {
    "duration": 8,
    "start_time": "2022-07-24T18:19:33.764Z"
   },
   {
    "duration": 30,
    "start_time": "2022-07-24T18:19:33.775Z"
   },
   {
    "duration": 4,
    "start_time": "2022-07-24T18:19:33.807Z"
   },
   {
    "duration": 127,
    "start_time": "2022-07-24T18:19:33.812Z"
   },
   {
    "duration": 26,
    "start_time": "2022-07-24T18:19:33.943Z"
   },
   {
    "duration": 5,
    "start_time": "2022-07-24T18:19:33.971Z"
   },
   {
    "duration": 9,
    "start_time": "2022-07-24T18:19:33.978Z"
   },
   {
    "duration": 20,
    "start_time": "2022-07-24T18:19:33.989Z"
   },
   {
    "duration": 10,
    "start_time": "2022-07-24T18:19:34.010Z"
   },
   {
    "duration": 52,
    "start_time": "2022-07-24T18:19:34.022Z"
   },
   {
    "duration": 4,
    "start_time": "2022-07-24T18:19:34.076Z"
   },
   {
    "duration": 19,
    "start_time": "2022-07-24T18:19:34.082Z"
   },
   {
    "duration": 24,
    "start_time": "2022-07-24T18:19:34.103Z"
   },
   {
    "duration": 256,
    "start_time": "2022-07-24T18:19:34.131Z"
   },
   {
    "duration": 219,
    "start_time": "2022-07-24T18:19:34.388Z"
   },
   {
    "duration": 10,
    "start_time": "2022-07-24T18:19:34.609Z"
   },
   {
    "duration": 156,
    "start_time": "2022-07-24T18:19:34.621Z"
   },
   {
    "duration": 29,
    "start_time": "2022-07-24T18:19:34.780Z"
   },
   {
    "duration": 11,
    "start_time": "2022-07-24T18:19:34.811Z"
   },
   {
    "duration": 15,
    "start_time": "2022-07-24T18:19:34.825Z"
   },
   {
    "duration": 38,
    "start_time": "2022-07-24T18:19:34.843Z"
   },
   {
    "duration": 298,
    "start_time": "2022-07-24T18:19:34.883Z"
   },
   {
    "duration": 268,
    "start_time": "2022-07-24T18:19:35.183Z"
   },
   {
    "duration": 37,
    "start_time": "2022-07-24T18:19:35.452Z"
   },
   {
    "duration": 474,
    "start_time": "2022-07-24T18:19:35.490Z"
   },
   {
    "duration": 5,
    "start_time": "2022-07-24T18:19:35.969Z"
   },
   {
    "duration": 28,
    "start_time": "2022-07-24T18:19:35.976Z"
   },
   {
    "duration": 17,
    "start_time": "2022-07-24T18:19:36.005Z"
   },
   {
    "duration": 24,
    "start_time": "2022-07-24T18:19:36.024Z"
   },
   {
    "duration": 68,
    "start_time": "2022-07-24T18:19:36.049Z"
   },
   {
    "duration": 318,
    "start_time": "2022-07-24T18:19:36.119Z"
   },
   {
    "duration": 232,
    "start_time": "2022-07-24T18:19:36.439Z"
   },
   {
    "duration": 214,
    "start_time": "2022-07-24T18:19:40.379Z"
   },
   {
    "duration": 8,
    "start_time": "2022-07-24T18:19:42.236Z"
   },
   {
    "duration": 16,
    "start_time": "2022-07-24T18:19:43.910Z"
   },
   {
    "duration": 5,
    "start_time": "2022-07-24T18:20:26.888Z"
   },
   {
    "duration": 1243,
    "start_time": "2022-07-24T18:20:40.064Z"
   },
   {
    "duration": 68,
    "start_time": "2022-07-24T18:20:41.309Z"
   },
   {
    "duration": 45,
    "start_time": "2022-07-24T18:20:41.378Z"
   },
   {
    "duration": 7,
    "start_time": "2022-07-24T18:20:41.427Z"
   },
   {
    "duration": 41,
    "start_time": "2022-07-24T18:20:41.435Z"
   },
   {
    "duration": 3,
    "start_time": "2022-07-24T18:20:41.478Z"
   },
   {
    "duration": 127,
    "start_time": "2022-07-24T18:20:41.482Z"
   },
   {
    "duration": 10,
    "start_time": "2022-07-24T18:20:41.611Z"
   },
   {
    "duration": 22,
    "start_time": "2022-07-24T18:20:41.622Z"
   },
   {
    "duration": 6,
    "start_time": "2022-07-24T18:20:41.647Z"
   },
   {
    "duration": 22,
    "start_time": "2022-07-24T18:20:41.655Z"
   },
   {
    "duration": 8,
    "start_time": "2022-07-24T18:20:41.679Z"
   },
   {
    "duration": 21,
    "start_time": "2022-07-24T18:20:41.689Z"
   },
   {
    "duration": 4,
    "start_time": "2022-07-24T18:20:41.711Z"
   },
   {
    "duration": 18,
    "start_time": "2022-07-24T18:20:41.717Z"
   },
   {
    "duration": 47,
    "start_time": "2022-07-24T18:20:41.737Z"
   },
   {
    "duration": 225,
    "start_time": "2022-07-24T18:20:41.786Z"
   },
   {
    "duration": 213,
    "start_time": "2022-07-24T18:20:42.013Z"
   },
   {
    "duration": 8,
    "start_time": "2022-07-24T18:20:42.227Z"
   },
   {
    "duration": 148,
    "start_time": "2022-07-24T18:20:42.237Z"
   },
   {
    "duration": 21,
    "start_time": "2022-07-24T18:20:42.387Z"
   },
   {
    "duration": 10,
    "start_time": "2022-07-24T18:20:42.409Z"
   },
   {
    "duration": 8,
    "start_time": "2022-07-24T18:20:42.420Z"
   },
   {
    "duration": 39,
    "start_time": "2022-07-24T18:20:42.430Z"
   },
   {
    "duration": 341,
    "start_time": "2022-07-24T18:20:42.471Z"
   },
   {
    "duration": 256,
    "start_time": "2022-07-24T18:20:42.813Z"
   },
   {
    "duration": 33,
    "start_time": "2022-07-24T18:20:43.071Z"
   },
   {
    "duration": 429,
    "start_time": "2022-07-24T18:20:43.108Z"
   },
   {
    "duration": 3,
    "start_time": "2022-07-24T18:20:43.539Z"
   },
   {
    "duration": 22,
    "start_time": "2022-07-24T18:20:43.544Z"
   },
   {
    "duration": 10,
    "start_time": "2022-07-24T18:20:43.568Z"
   },
   {
    "duration": 14,
    "start_time": "2022-07-24T18:20:43.580Z"
   },
   {
    "duration": 24,
    "start_time": "2022-07-24T18:20:43.596Z"
   },
   {
    "duration": 317,
    "start_time": "2022-07-24T18:20:43.621Z"
   },
   {
    "duration": 215,
    "start_time": "2022-07-24T18:20:43.940Z"
   },
   {
    "duration": 7,
    "start_time": "2022-07-24T18:20:44.156Z"
   },
   {
    "duration": 16,
    "start_time": "2022-07-24T18:20:44.165Z"
   },
   {
    "duration": 7,
    "start_time": "2022-07-24T18:20:44.183Z"
   },
   {
    "duration": 147,
    "start_time": "2022-07-24T18:20:44.191Z"
   },
   {
    "duration": 0,
    "start_time": "2022-07-24T18:20:44.340Z"
   },
   {
    "duration": 0,
    "start_time": "2022-07-24T18:20:44.341Z"
   },
   {
    "duration": 0,
    "start_time": "2022-07-24T18:20:44.342Z"
   },
   {
    "duration": 0,
    "start_time": "2022-07-24T18:20:44.343Z"
   },
   {
    "duration": 0,
    "start_time": "2022-07-24T18:20:44.344Z"
   },
   {
    "duration": 24,
    "start_time": "2022-07-24T18:21:02.603Z"
   },
   {
    "duration": 24,
    "start_time": "2022-07-24T18:21:12.786Z"
   },
   {
    "duration": 22,
    "start_time": "2022-07-24T18:21:20.195Z"
   },
   {
    "duration": 17,
    "start_time": "2022-07-24T18:21:23.859Z"
   },
   {
    "duration": 1249,
    "start_time": "2022-07-24T18:21:30.159Z"
   },
   {
    "duration": 67,
    "start_time": "2022-07-24T18:21:31.409Z"
   },
   {
    "duration": 39,
    "start_time": "2022-07-24T18:21:31.478Z"
   },
   {
    "duration": 9,
    "start_time": "2022-07-24T18:21:31.519Z"
   },
   {
    "duration": 35,
    "start_time": "2022-07-24T18:21:31.529Z"
   },
   {
    "duration": 3,
    "start_time": "2022-07-24T18:21:31.565Z"
   },
   {
    "duration": 104,
    "start_time": "2022-07-24T18:21:31.569Z"
   },
   {
    "duration": 9,
    "start_time": "2022-07-24T18:21:31.674Z"
   },
   {
    "duration": 8,
    "start_time": "2022-07-24T18:21:31.685Z"
   },
   {
    "duration": 8,
    "start_time": "2022-07-24T18:21:31.696Z"
   },
   {
    "duration": 23,
    "start_time": "2022-07-24T18:21:31.706Z"
   },
   {
    "duration": 10,
    "start_time": "2022-07-24T18:21:31.731Z"
   },
   {
    "duration": 33,
    "start_time": "2022-07-24T18:21:31.742Z"
   },
   {
    "duration": 3,
    "start_time": "2022-07-24T18:21:31.777Z"
   },
   {
    "duration": 20,
    "start_time": "2022-07-24T18:21:31.781Z"
   },
   {
    "duration": 22,
    "start_time": "2022-07-24T18:21:31.802Z"
   },
   {
    "duration": 248,
    "start_time": "2022-07-24T18:21:31.825Z"
   },
   {
    "duration": 203,
    "start_time": "2022-07-24T18:21:32.075Z"
   },
   {
    "duration": 10,
    "start_time": "2022-07-24T18:21:32.280Z"
   },
   {
    "duration": 145,
    "start_time": "2022-07-24T18:21:32.291Z"
   },
   {
    "duration": 29,
    "start_time": "2022-07-24T18:21:32.438Z"
   },
   {
    "duration": 11,
    "start_time": "2022-07-24T18:21:32.468Z"
   },
   {
    "duration": 8,
    "start_time": "2022-07-24T18:21:32.481Z"
   },
   {
    "duration": 15,
    "start_time": "2022-07-24T18:21:32.490Z"
   },
   {
    "duration": 382,
    "start_time": "2022-07-24T18:21:32.507Z"
   },
   {
    "duration": 263,
    "start_time": "2022-07-24T18:21:32.892Z"
   },
   {
    "duration": 43,
    "start_time": "2022-07-24T18:21:33.157Z"
   },
   {
    "duration": 448,
    "start_time": "2022-07-24T18:21:33.203Z"
   },
   {
    "duration": 4,
    "start_time": "2022-07-24T18:21:33.652Z"
   },
   {
    "duration": 16,
    "start_time": "2022-07-24T18:21:33.657Z"
   },
   {
    "duration": 6,
    "start_time": "2022-07-24T18:21:33.674Z"
   },
   {
    "duration": 13,
    "start_time": "2022-07-24T18:21:33.682Z"
   },
   {
    "duration": 23,
    "start_time": "2022-07-24T18:21:33.696Z"
   },
   {
    "duration": 320,
    "start_time": "2022-07-24T18:21:33.721Z"
   },
   {
    "duration": 227,
    "start_time": "2022-07-24T18:21:34.043Z"
   },
   {
    "duration": 6,
    "start_time": "2022-07-24T18:21:34.272Z"
   },
   {
    "duration": 15,
    "start_time": "2022-07-24T18:21:34.279Z"
   },
   {
    "duration": 6,
    "start_time": "2022-07-24T18:21:34.296Z"
   },
   {
    "duration": 19,
    "start_time": "2022-07-24T18:21:34.304Z"
   },
   {
    "duration": 145,
    "start_time": "2022-07-24T18:21:34.325Z"
   },
   {
    "duration": 0,
    "start_time": "2022-07-24T18:21:34.472Z"
   },
   {
    "duration": 0,
    "start_time": "2022-07-24T18:21:34.473Z"
   },
   {
    "duration": 0,
    "start_time": "2022-07-24T18:21:34.474Z"
   },
   {
    "duration": 0,
    "start_time": "2022-07-24T18:21:34.475Z"
   },
   {
    "duration": 6,
    "start_time": "2022-07-24T18:21:47.219Z"
   },
   {
    "duration": 1267,
    "start_time": "2022-07-24T18:22:13.659Z"
   },
   {
    "duration": 69,
    "start_time": "2022-07-24T18:22:14.928Z"
   },
   {
    "duration": 44,
    "start_time": "2022-07-24T18:22:14.999Z"
   },
   {
    "duration": 20,
    "start_time": "2022-07-24T18:22:15.045Z"
   },
   {
    "duration": 24,
    "start_time": "2022-07-24T18:22:15.067Z"
   },
   {
    "duration": 3,
    "start_time": "2022-07-24T18:22:15.092Z"
   },
   {
    "duration": 106,
    "start_time": "2022-07-24T18:22:15.096Z"
   },
   {
    "duration": 9,
    "start_time": "2022-07-24T18:22:15.204Z"
   },
   {
    "duration": 11,
    "start_time": "2022-07-24T18:22:15.214Z"
   },
   {
    "duration": 9,
    "start_time": "2022-07-24T18:22:15.227Z"
   },
   {
    "duration": 28,
    "start_time": "2022-07-24T18:22:15.237Z"
   },
   {
    "duration": 8,
    "start_time": "2022-07-24T18:22:15.266Z"
   },
   {
    "duration": 24,
    "start_time": "2022-07-24T18:22:15.276Z"
   },
   {
    "duration": 3,
    "start_time": "2022-07-24T18:22:15.301Z"
   },
   {
    "duration": 23,
    "start_time": "2022-07-24T18:22:15.305Z"
   },
   {
    "duration": 34,
    "start_time": "2022-07-24T18:22:15.330Z"
   },
   {
    "duration": 236,
    "start_time": "2022-07-24T18:22:15.365Z"
   },
   {
    "duration": 206,
    "start_time": "2022-07-24T18:22:15.603Z"
   },
   {
    "duration": 8,
    "start_time": "2022-07-24T18:22:15.810Z"
   },
   {
    "duration": 145,
    "start_time": "2022-07-24T18:22:15.820Z"
   },
   {
    "duration": 21,
    "start_time": "2022-07-24T18:22:15.967Z"
   },
   {
    "duration": 10,
    "start_time": "2022-07-24T18:22:15.990Z"
   },
   {
    "duration": 10,
    "start_time": "2022-07-24T18:22:16.002Z"
   },
   {
    "duration": 22,
    "start_time": "2022-07-24T18:22:16.014Z"
   },
   {
    "duration": 295,
    "start_time": "2022-07-24T18:22:16.037Z"
   },
   {
    "duration": 256,
    "start_time": "2022-07-24T18:22:16.334Z"
   },
   {
    "duration": 33,
    "start_time": "2022-07-24T18:22:16.591Z"
   },
   {
    "duration": 440,
    "start_time": "2022-07-24T18:22:16.627Z"
   },
   {
    "duration": 4,
    "start_time": "2022-07-24T18:22:17.069Z"
   },
   {
    "duration": 16,
    "start_time": "2022-07-24T18:22:17.075Z"
   },
   {
    "duration": 6,
    "start_time": "2022-07-24T18:22:17.093Z"
   },
   {
    "duration": 13,
    "start_time": "2022-07-24T18:22:17.100Z"
   },
   {
    "duration": 22,
    "start_time": "2022-07-24T18:22:17.115Z"
   },
   {
    "duration": 331,
    "start_time": "2022-07-24T18:22:17.139Z"
   },
   {
    "duration": 200,
    "start_time": "2022-07-24T18:22:17.472Z"
   },
   {
    "duration": 7,
    "start_time": "2022-07-24T18:22:17.674Z"
   },
   {
    "duration": 18,
    "start_time": "2022-07-24T18:22:17.682Z"
   },
   {
    "duration": 7,
    "start_time": "2022-07-24T18:22:17.701Z"
   },
   {
    "duration": 19,
    "start_time": "2022-07-24T18:22:17.709Z"
   },
   {
    "duration": 6,
    "start_time": "2022-07-24T18:22:17.730Z"
   },
   {
    "duration": 20,
    "start_time": "2022-07-24T18:22:17.764Z"
   },
   {
    "duration": 131,
    "start_time": "2022-07-24T18:22:17.785Z"
   },
   {
    "duration": 13,
    "start_time": "2022-07-24T18:22:34.553Z"
   },
   {
    "duration": 14,
    "start_time": "2022-07-24T18:22:43.756Z"
   },
   {
    "duration": 1194,
    "start_time": "2022-07-24T18:22:50.762Z"
   },
   {
    "duration": 69,
    "start_time": "2022-07-24T18:22:51.958Z"
   },
   {
    "duration": 42,
    "start_time": "2022-07-24T18:22:52.029Z"
   },
   {
    "duration": 6,
    "start_time": "2022-07-24T18:22:52.073Z"
   },
   {
    "duration": 26,
    "start_time": "2022-07-24T18:22:52.081Z"
   },
   {
    "duration": 6,
    "start_time": "2022-07-24T18:22:52.108Z"
   },
   {
    "duration": 105,
    "start_time": "2022-07-24T18:22:52.116Z"
   },
   {
    "duration": 9,
    "start_time": "2022-07-24T18:22:52.223Z"
   },
   {
    "duration": 8,
    "start_time": "2022-07-24T18:22:52.234Z"
   },
   {
    "duration": 10,
    "start_time": "2022-07-24T18:22:52.244Z"
   },
   {
    "duration": 23,
    "start_time": "2022-07-24T18:22:52.256Z"
   },
   {
    "duration": 9,
    "start_time": "2022-07-24T18:22:52.280Z"
   },
   {
    "duration": 25,
    "start_time": "2022-07-24T18:22:52.290Z"
   },
   {
    "duration": 2,
    "start_time": "2022-07-24T18:22:52.317Z"
   },
   {
    "duration": 16,
    "start_time": "2022-07-24T18:22:52.321Z"
   },
   {
    "duration": 41,
    "start_time": "2022-07-24T18:22:52.339Z"
   },
   {
    "duration": 255,
    "start_time": "2022-07-24T18:22:52.381Z"
   },
   {
    "duration": 238,
    "start_time": "2022-07-24T18:22:52.639Z"
   },
   {
    "duration": 10,
    "start_time": "2022-07-24T18:22:52.879Z"
   },
   {
    "duration": 146,
    "start_time": "2022-07-24T18:22:52.891Z"
   },
   {
    "duration": 29,
    "start_time": "2022-07-24T18:22:53.040Z"
   },
   {
    "duration": 9,
    "start_time": "2022-07-24T18:22:53.071Z"
   },
   {
    "duration": 11,
    "start_time": "2022-07-24T18:22:53.082Z"
   },
   {
    "duration": 16,
    "start_time": "2022-07-24T18:22:53.094Z"
   },
   {
    "duration": 280,
    "start_time": "2022-07-24T18:22:53.112Z"
   },
   {
    "duration": 246,
    "start_time": "2022-07-24T18:22:53.394Z"
   },
   {
    "duration": 41,
    "start_time": "2022-07-24T18:22:53.642Z"
   },
   {
    "duration": 413,
    "start_time": "2022-07-24T18:22:53.686Z"
   },
   {
    "duration": 3,
    "start_time": "2022-07-24T18:22:54.100Z"
   },
   {
    "duration": 16,
    "start_time": "2022-07-24T18:22:54.105Z"
   },
   {
    "duration": 7,
    "start_time": "2022-07-24T18:22:54.122Z"
   },
   {
    "duration": 13,
    "start_time": "2022-07-24T18:22:54.131Z"
   },
   {
    "duration": 31,
    "start_time": "2022-07-24T18:22:54.146Z"
   },
   {
    "duration": 319,
    "start_time": "2022-07-24T18:22:54.178Z"
   },
   {
    "duration": 211,
    "start_time": "2022-07-24T18:22:54.498Z"
   },
   {
    "duration": 8,
    "start_time": "2022-07-24T18:22:54.710Z"
   },
   {
    "duration": 24,
    "start_time": "2022-07-24T18:22:54.720Z"
   },
   {
    "duration": 7,
    "start_time": "2022-07-24T18:22:54.746Z"
   },
   {
    "duration": 21,
    "start_time": "2022-07-24T18:22:54.755Z"
   },
   {
    "duration": 6,
    "start_time": "2022-07-24T18:22:54.777Z"
   },
   {
    "duration": 22,
    "start_time": "2022-07-24T18:22:54.785Z"
   },
   {
    "duration": 13,
    "start_time": "2022-07-24T18:22:54.808Z"
   },
   {
    "duration": 1226,
    "start_time": "2022-07-25T06:27:21.300Z"
   },
   {
    "duration": 121,
    "start_time": "2022-07-25T06:27:22.528Z"
   },
   {
    "duration": 42,
    "start_time": "2022-07-25T06:27:22.651Z"
   },
   {
    "duration": 6,
    "start_time": "2022-07-25T06:27:22.695Z"
   },
   {
    "duration": 24,
    "start_time": "2022-07-25T06:27:22.703Z"
   },
   {
    "duration": 3,
    "start_time": "2022-07-25T06:27:22.728Z"
   },
   {
    "duration": 107,
    "start_time": "2022-07-25T06:27:22.733Z"
   },
   {
    "duration": 10,
    "start_time": "2022-07-25T06:27:22.841Z"
   },
   {
    "duration": 9,
    "start_time": "2022-07-25T06:27:22.853Z"
   },
   {
    "duration": 5,
    "start_time": "2022-07-25T06:27:22.865Z"
   },
   {
    "duration": 41,
    "start_time": "2022-07-25T06:27:22.871Z"
   },
   {
    "duration": 8,
    "start_time": "2022-07-25T06:27:22.914Z"
   },
   {
    "duration": 28,
    "start_time": "2022-07-25T06:27:22.924Z"
   },
   {
    "duration": 4,
    "start_time": "2022-07-25T06:27:22.953Z"
   },
   {
    "duration": 18,
    "start_time": "2022-07-25T06:27:22.958Z"
   },
   {
    "duration": 35,
    "start_time": "2022-07-25T06:27:22.977Z"
   },
   {
    "duration": 236,
    "start_time": "2022-07-25T06:27:23.014Z"
   },
   {
    "duration": 207,
    "start_time": "2022-07-25T06:27:23.252Z"
   },
   {
    "duration": 8,
    "start_time": "2022-07-25T06:27:23.460Z"
   },
   {
    "duration": 154,
    "start_time": "2022-07-25T06:27:23.469Z"
   },
   {
    "duration": 20,
    "start_time": "2022-07-25T06:27:23.624Z"
   },
   {
    "duration": 9,
    "start_time": "2022-07-25T06:27:23.646Z"
   },
   {
    "duration": 8,
    "start_time": "2022-07-25T06:27:23.656Z"
   },
   {
    "duration": 17,
    "start_time": "2022-07-25T06:27:23.666Z"
   },
   {
    "duration": 294,
    "start_time": "2022-07-25T06:27:23.705Z"
   },
   {
    "duration": 267,
    "start_time": "2022-07-25T06:27:24.003Z"
   },
   {
    "duration": 42,
    "start_time": "2022-07-25T06:27:24.272Z"
   },
   {
    "duration": 487,
    "start_time": "2022-07-25T06:27:24.317Z"
   },
   {
    "duration": 4,
    "start_time": "2022-07-25T06:27:24.805Z"
   },
   {
    "duration": 17,
    "start_time": "2022-07-25T06:27:24.810Z"
   },
   {
    "duration": 7,
    "start_time": "2022-07-25T06:27:24.829Z"
   },
   {
    "duration": 15,
    "start_time": "2022-07-25T06:27:24.837Z"
   },
   {
    "duration": 23,
    "start_time": "2022-07-25T06:27:24.854Z"
   },
   {
    "duration": 337,
    "start_time": "2022-07-25T06:27:24.880Z"
   },
   {
    "duration": 254,
    "start_time": "2022-07-25T06:27:25.219Z"
   },
   {
    "duration": 6,
    "start_time": "2022-07-25T06:27:25.474Z"
   },
   {
    "duration": 17,
    "start_time": "2022-07-25T06:27:25.482Z"
   },
   {
    "duration": 7,
    "start_time": "2022-07-25T06:27:25.501Z"
   },
   {
    "duration": 18,
    "start_time": "2022-07-25T06:27:25.509Z"
   },
   {
    "duration": 5,
    "start_time": "2022-07-25T06:27:25.529Z"
   },
   {
    "duration": 23,
    "start_time": "2022-07-25T06:27:25.536Z"
   },
   {
    "duration": 15,
    "start_time": "2022-07-25T06:27:25.561Z"
   }
  ],
  "kernelspec": {
   "display_name": "Python 3",
   "language": "python",
   "name": "python3"
  },
  "language_info": {
   "codemirror_mode": {
    "name": "ipython",
    "version": 3
   },
   "file_extension": ".py",
   "mimetype": "text/x-python",
   "name": "python",
   "nbconvert_exporter": "python",
   "pygments_lexer": "ipython3",
   "version": "3.8.5"
  },
  "toc": {
   "base_numbering": 1,
   "nav_menu": {},
   "number_sections": true,
   "sideBar": true,
   "skip_h1_title": true,
   "title_cell": "Table of Contents",
   "title_sidebar": "Contents",
   "toc_cell": false,
   "toc_position": {
    "height": "calc(100% - 180px)",
    "left": "10px",
    "top": "150px",
    "width": "255.594px"
   },
   "toc_section_display": true,
   "toc_window_display": false
  }
 },
 "nbformat": 4,
 "nbformat_minor": 2
}
